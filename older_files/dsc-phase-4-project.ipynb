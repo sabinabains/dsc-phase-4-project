{
 "cells": [
  {
   "cell_type": "markdown",
   "metadata": {},
   "source": [
    "# Final Project Submission\n",
    "\n",
    "- Student name: Sabina Bains\n",
    "- Student pace: Self Paced\n",
    "- Scheduled project review date / time: XXX\n",
    "- Instructor name: Claude Fried"
   ]
  },
  {
   "cell_type": "markdown",
   "metadata": {},
   "source": [
    "# Summary\n",
    "\n",
    "Add Summary here\n",
    "\n",
    "\n",
    "data - https://www.kaggle.com/code/anayad/classifying-cyberbullying-tweets/data\n"
   ]
  },
  {
   "cell_type": "markdown",
   "metadata": {},
   "source": [
    "# Business Understanding"
   ]
  },
  {
   "cell_type": "markdown",
   "metadata": {},
   "source": [
    "# Data Understanding"
   ]
  },
  {
   "cell_type": "markdown",
   "metadata": {},
   "source": [
    "#### Reading in Necessary Packages"
   ]
  },
  {
   "cell_type": "code",
   "execution_count": 73,
   "metadata": {},
   "outputs": [],
   "source": [
    "import pandas as pd\n",
    "from nltk.tokenize import RegexpTokenizer\n",
    "from sklearn.naive_bayes import MultinomialNB\n",
    "from sklearn.model_selection import cross_val_score, train_test_split\n",
    "from nltk import FreqDist\n",
    "from nltk.corpus import stopwords\n",
    "from nltk.stem.snowball import SnowballStemmer\n",
    "from sklearn.feature_extraction.text import TfidfVectorizer\n",
    "import re\n",
    "from sklearn.metrics import plot_confusion_matrix\n",
    "from nltk.util import ngrams\n",
    "\n",
    "import matplotlib.pyplot as plt\n",
    "import matplotlib as mpl\n",
    "\n",
    "import warnings\n",
    "warnings.filterwarnings('ignore')\n",
    "\n",
    "COLOR = 'white'\n",
    "mpl.rcParams['text.color'] = COLOR\n",
    "mpl.rcParams['axes.labelcolor'] = COLOR\n",
    "mpl.rcParams['xtick.color'] = COLOR\n",
    "mpl.rcParams['ytick.color'] = COLOR"
   ]
  },
  {
   "cell_type": "code",
   "execution_count": 74,
   "metadata": {},
   "outputs": [],
   "source": [
    "# Split then vectorize (correct way)\n",
    "# We do the train/test split before the CountVectorizer to properly simulate the real world where our future data contains words we have not seen before"
   ]
  },
  {
   "cell_type": "markdown",
   "metadata": {},
   "source": [
    "#### Reading in Data"
   ]
  },
  {
   "cell_type": "code",
   "execution_count": 75,
   "metadata": {},
   "outputs": [],
   "source": [
    "df = pd.read_csv('data/cyberbullying_tweets.csv')\n",
    "\n",
    "\n",
    "# replacing offensive words\n",
    "df.tweet_text = df.tweet_text.str.replace('ggers','nnnn')\n",
    "df.tweet_text = df.tweet_text.str.replace('gger','nnnn')"
   ]
  },
  {
   "cell_type": "markdown",
   "metadata": {},
   "source": [
    "#### Understanding Labels"
   ]
  },
  {
   "cell_type": "code",
   "execution_count": 76,
   "metadata": {},
   "outputs": [
    {
     "data": {
      "text/html": [
       "<div>\n",
       "<style scoped>\n",
       "    .dataframe tbody tr th:only-of-type {\n",
       "        vertical-align: middle;\n",
       "    }\n",
       "\n",
       "    .dataframe tbody tr th {\n",
       "        vertical-align: top;\n",
       "    }\n",
       "\n",
       "    .dataframe thead th {\n",
       "        text-align: right;\n",
       "    }\n",
       "</style>\n",
       "<table border=\"1\" class=\"dataframe\">\n",
       "  <thead>\n",
       "    <tr style=\"text-align: right;\">\n",
       "      <th></th>\n",
       "      <th>cyberbullying_type</th>\n",
       "    </tr>\n",
       "  </thead>\n",
       "  <tbody>\n",
       "    <tr>\n",
       "      <th>religion</th>\n",
       "      <td>0.167701</td>\n",
       "    </tr>\n",
       "    <tr>\n",
       "      <th>age</th>\n",
       "      <td>0.167575</td>\n",
       "    </tr>\n",
       "    <tr>\n",
       "      <th>gender</th>\n",
       "      <td>0.167177</td>\n",
       "    </tr>\n",
       "    <tr>\n",
       "      <th>ethnicity</th>\n",
       "      <td>0.166925</td>\n",
       "    </tr>\n",
       "    <tr>\n",
       "      <th>not_cyberbullying</th>\n",
       "      <td>0.166590</td>\n",
       "    </tr>\n",
       "    <tr>\n",
       "      <th>other_cyberbullying</th>\n",
       "      <td>0.164032</td>\n",
       "    </tr>\n",
       "  </tbody>\n",
       "</table>\n",
       "</div>"
      ],
      "text/plain": [
       "                     cyberbullying_type\n",
       "religion                       0.167701\n",
       "age                            0.167575\n",
       "gender                         0.167177\n",
       "ethnicity                      0.166925\n",
       "not_cyberbullying              0.166590\n",
       "other_cyberbullying            0.164032"
      ]
     },
     "execution_count": 76,
     "metadata": {},
     "output_type": "execute_result"
    }
   ],
   "source": [
    "# checking distribution of target values - looks like a balanced dataset\n",
    "pd.DataFrame(df.cyberbullying_type.value_counts(normalize=True))"
   ]
  },
  {
   "cell_type": "code",
   "execution_count": 77,
   "metadata": {},
   "outputs": [],
   "source": [
    "# standardizing words to all be lowercase\n",
    "def lowercase(x):\n",
    "    return x.lower()\n",
    "\n",
    "df.tweet_text = df.tweet_text.apply(lowercase)"
   ]
  },
  {
   "cell_type": "code",
   "execution_count": 78,
   "metadata": {},
   "outputs": [],
   "source": [
    "# tokenizing words in df to inspect differences in cyberbullying classes\n",
    "def tokenize(x):\n",
    "    token_pattern = r\"(?u)\\b\\w\\w+\\b\"\n",
    "    tokenizer = RegexpTokenizer(token_pattern)\n",
    "    return tokenizer.tokenize(x)\n",
    "\n",
    "df['tokens'] = df.tweet_text.apply(tokenize)"
   ]
  },
  {
   "cell_type": "code",
   "execution_count": 79,
   "metadata": {},
   "outputs": [
    {
     "data": {
      "text/plain": [
       "[('mkr', 2543), ('muslims', 2513), ('muslim', 2491)]"
      ]
     },
     "execution_count": 79,
     "metadata": {},
     "output_type": "execute_result"
    }
   ],
   "source": [
    "# removing stopwords from data\n",
    "stopwords_list = stopwords.words('english')\n",
    "\n",
    "def remove_stopwords(token_list):\n",
    "    return [word for word in token_list if word not in stopwords_list]\n",
    "\n",
    "df.tokens = df.tokens.apply(remove_stopwords)\n",
    "\n",
    "FreqDist(df.tokens.explode()).most_common(30)[22:25]"
   ]
  },
  {
   "cell_type": "code",
   "execution_count": 80,
   "metadata": {},
   "outputs": [],
   "source": [
    "# Above we can see we need to stem the data (muslim vs. muslims)\n",
    "stemmer = SnowballStemmer(language=\"english\")\n",
    "\n",
    "def stem(tweets):\n",
    "    return [stemmer.stem(tweet) for tweet in tweets]\n",
    "\n",
    "df.tokens = df.tokens.apply(stem)"
   ]
  },
  {
   "cell_type": "code",
   "execution_count": 81,
   "metadata": {
    "scrolled": false
   },
   "outputs": [
    {
     "data": {
      "image/png": "[encoded data removed]",
      "text/plain": [
       "<Figure size 720x288 with 1 Axes>"
      ]
     },
     "metadata": {
      "needs_background": "dark"
     },
     "output_type": "display_data"
    },
    {
     "data": {
      "image/png": "[encoded data removed]",
      "text/plain": [
       "<Figure size 720x288 with 1 Axes>"
      ]
     },
     "metadata": {
      "needs_background": "dark"
     },
     "output_type": "display_data"
    },
    {
     "data": {
      "image/png": "[encoded data removed]",
      "text/plain": [
       "<Figure size 720x288 with 1 Axes>"
      ]
     },
     "metadata": {
      "needs_background": "dark"
     },
     "output_type": "display_data"
    },
    {
     "data": {
      "image/png": "[encoded data removed]",
      "text/plain": [
       "<Figure size 720x288 with 1 Axes>"
      ]
     },
     "metadata": {
      "needs_background": "dark"
     },
     "output_type": "display_data"
    },
    {
     "data": {
      "image/png": "[encoded data removed]",
      "text/plain": [
       "<Figure size 720x288 with 1 Axes>"
      ]
     },
     "metadata": {
      "needs_background": "dark"
     },
     "output_type": "display_data"
    },
    {
     "data": {
      "image/png": "[encoded data removed]",
      "text/plain": [
       "<Figure size 720x288 with 1 Axes>"
      ]
     },
     "metadata": {
      "needs_background": "dark"
     },
     "output_type": "display_data"
    }
   ],
   "source": [
    "# Creating frequency distributions for each label to visually inspect most common words in each tag\n",
    "freq_dict = {}\n",
    "\n",
    "for target in df.cyberbullying_type.unique():\n",
    "    freq_dict[target] = FreqDist(df.loc[df.cyberbullying_type == target].tokens.explode())\n",
    "    \n",
    "    top_10 = list(zip(*freq_dict[target].most_common(10)))\n",
    "    tokens = top_10[0]\n",
    "    counts = top_10[1]\n",
    "\n",
    "    fig = plt.figure(figsize=(10,4))\n",
    "    plt.bar(tokens,counts)\n",
    "    plt.title('Top tokens for '+target)\n",
    "    plt.show()"
   ]
  },
  {
   "cell_type": "markdown",
   "metadata": {},
   "source": [
    "#### Splitting Tweets and Labels into two dataframes"
   ]
  },
  {
   "cell_type": "code",
   "execution_count": 19,
   "metadata": {},
   "outputs": [],
   "source": [
    "X = pd.DataFrame(df.tweet_text)\n",
    "y = df.cyberbullying_type"
   ]
  },
  {
   "cell_type": "markdown",
   "metadata": {},
   "source": [
    "#### Performing Train Test Split for Data Validation"
   ]
  },
  {
   "cell_type": "code",
   "execution_count": 22,
   "metadata": {},
   "outputs": [],
   "source": [
    "X_train, X_test, y_train, y_test = train_test_split(X, y, test_size=0.25)"
   ]
  },
  {
   "cell_type": "code",
   "execution_count": 23,
   "metadata": {},
   "outputs": [],
   "source": [
    "# plot_confusion_matrix(baseline_model, X_train, df['cyberbullying_type']);"
   ]
  },
  {
   "cell_type": "markdown",
   "metadata": {},
   "source": [
    "## creating bigrams"
   ]
  },
  {
   "cell_type": "code",
   "execution_count": 24,
   "metadata": {},
   "outputs": [],
   "source": [
    "def bigram(tweet):\n",
    "    return [' '.join(word) for word in ngrams(tweet, 2)]\n",
    "\n",
    "def _3gram(tweet):\n",
    "    return [' '.join(word) for word in ngrams(tweet, 3)]\n",
    "\n",
    "df['bigram'] = df.tokens.apply(bigram)\n",
    "df['_3gram'] = df.tokens.apply(_3gram)"
   ]
  },
  {
   "cell_type": "code",
   "execution_count": 25,
   "metadata": {},
   "outputs": [
    {
     "data": {
      "text/plain": [
       "[('high school', 4733),\n",
       " ('http co', 2392),\n",
       " ('rape joke', 2291),\n",
       " ('dumb ass', 1570),\n",
       " ('bulli high', 1549),\n",
       " ('school bulli', 1502),\n",
       " ('girl bulli', 1449),\n",
       " ('ass ninnnn', 1272),\n",
       " ('dumb fuck', 1158),\n",
       " ('dumb ninnnn', 1061)]"
      ]
     },
     "execution_count": 25,
     "metadata": {},
     "output_type": "execute_result"
    }
   ],
   "source": [
    "FreqDist(df.bigram.explode()).most_common(10)"
   ]
  },
  {
   "cell_type": "code",
   "execution_count": 26,
   "metadata": {},
   "outputs": [],
   "source": [
    "# from sklearn.pipeline import Pipeline\n",
    "# from sklearn.naive_bayes import MultinomialNB\n",
    "# from sklearn.feature_extraction.text import CountVectorizer, TfidfTransformer\n",
    "# from sklearn.model_selection import train_test_split, GridSearchCV\n",
    "# text_clf = Pipeline([('vect', CountVectorizer()),\n",
    "#                      ('tfidf', TfidfTransformer()),\n",
    "#                      ('clf', MultinomialNB())])\n",
    "# tuned_parameters = {\n",
    "#     'vect__ngram_range': [(1, 1), (1, 2), (2, 2)],\n",
    "#     'tfidf__use_idf': (True, False),\n",
    "#     'tfidf__norm': ('l1', 'l2'),\n",
    "#     'clf__alpha': [1, 1e-1, 1e-2]\n",
    "# }"
   ]
  },
  {
   "cell_type": "markdown",
   "metadata": {},
   "source": [
    "# MODELING"
   ]
  },
  {
   "cell_type": "markdown",
   "metadata": {},
   "source": [
    "#### Baseline Model"
   ]
  },
  {
   "cell_type": "code",
   "execution_count": 16,
   "metadata": {},
   "outputs": [
    {
     "data": {
      "text/html": [
       "<div>\n",
       "<style scoped>\n",
       "    .dataframe tbody tr th:only-of-type {\n",
       "        vertical-align: middle;\n",
       "    }\n",
       "\n",
       "    .dataframe tbody tr th {\n",
       "        vertical-align: top;\n",
       "    }\n",
       "\n",
       "    .dataframe thead th {\n",
       "        text-align: right;\n",
       "    }\n",
       "</style>\n",
       "<table border=\"1\" class=\"dataframe\">\n",
       "  <thead>\n",
       "    <tr style=\"text-align: right;\">\n",
       "      <th></th>\n",
       "      <th>about</th>\n",
       "      <th>all</th>\n",
       "      <th>and</th>\n",
       "      <th>are</th>\n",
       "      <th>as</th>\n",
       "      <th>at</th>\n",
       "      <th>be</th>\n",
       "      <th>bullied</th>\n",
       "      <th>bully</th>\n",
       "      <th>but</th>\n",
       "      <th>...</th>\n",
       "      <th>they</th>\n",
       "      <th>this</th>\n",
       "      <th>to</th>\n",
       "      <th>was</th>\n",
       "      <th>we</th>\n",
       "      <th>what</th>\n",
       "      <th>who</th>\n",
       "      <th>with</th>\n",
       "      <th>you</th>\n",
       "      <th>your</th>\n",
       "    </tr>\n",
       "  </thead>\n",
       "  <tbody>\n",
       "    <tr>\n",
       "      <th>0</th>\n",
       "      <td>0.0</td>\n",
       "      <td>0.0</td>\n",
       "      <td>0.270936</td>\n",
       "      <td>0.0</td>\n",
       "      <td>0.0</td>\n",
       "      <td>0.462374</td>\n",
       "      <td>0.0</td>\n",
       "      <td>0.0</td>\n",
       "      <td>0.0</td>\n",
       "      <td>0.0</td>\n",
       "      <td>...</td>\n",
       "      <td>0.0</td>\n",
       "      <td>0.0</td>\n",
       "      <td>0.0</td>\n",
       "      <td>0.0</td>\n",
       "      <td>0.0</td>\n",
       "      <td>0.0</td>\n",
       "      <td>0.0</td>\n",
       "      <td>0.0</td>\n",
       "      <td>0.0</td>\n",
       "      <td>0.0</td>\n",
       "    </tr>\n",
       "  </tbody>\n",
       "</table>\n",
       "<p>1 rows × 50 columns</p>\n",
       "</div>"
      ],
      "text/plain": [
       "   about  all       and  are   as        at   be  bullied  bully  but  ...  \\\n",
       "0    0.0  0.0  0.270936  0.0  0.0  0.462374  0.0      0.0    0.0  0.0  ...   \n",
       "\n",
       "   they  this   to  was   we  what  who  with  you  your  \n",
       "0   0.0   0.0  0.0  0.0  0.0   0.0  0.0   0.0  0.0   0.0  \n",
       "\n",
       "[1 rows x 50 columns]"
      ]
     },
     "execution_count": 16,
     "metadata": {},
     "output_type": "execute_result"
    }
   ],
   "source": [
    "# initializing basic TFIDF vectorizer with 50 words with highest tfidf values\n",
    "tfidf = TfidfVectorizer(max_features=50)\n",
    "\n",
    "# Vectorizing tweets for modeling\n",
    "X_train_v = tfidf.fit_transform(X_train.tweet_text)\n",
    "\n",
    "# viewing features\n",
    "pd.DataFrame.sparse.from_spmatrix(X_train_v, columns=tfidf.get_feature_names()).head(1)"
   ]
  },
  {
   "cell_type": "code",
   "execution_count": 17,
   "metadata": {},
   "outputs": [
    {
     "name": "stdout",
     "output_type": "stream",
     "text": [
      "Accuracy: 56.1%\n",
      "\n",
      "Our baseline model performs relatively well, if we were to randomly classify cyberbullying we would get an accuracy of 16.6%, whereas our model has an\n",
      "accuracy of over 3x better. However this model will still predict correctly only about half the time. Let's try to improve it by removing stopwords.\n"
     ]
    }
   ],
   "source": [
    "# Instantiating a MultinomialNB classifier\n",
    "model_1 = MultinomialNB()\n",
    "\n",
    "# Running baseline model\n",
    "\n",
    "\n",
    "score_1 = cross_val_score(model_1, X_train_v, y_train).mean()\n",
    "print('Accuracy: {:.1%}'.format(score_1))\n",
    "print('''\\nOur baseline model performs relatively well, if we were to randomly classify cyberbullying we would get an accuracy of 16.6%, whereas our model has an\n",
    "accuracy of over 3x better. However this model will still predict correctly only about half the time. Let's try to improve it by removing stopwords.''')"
   ]
  },
  {
   "cell_type": "markdown",
   "metadata": {},
   "source": [
    "#### Model #2 - removing stopwords"
   ]
  },
  {
   "cell_type": "code",
   "execution_count": 18,
   "metadata": {},
   "outputs": [],
   "source": [
    "stopwords_list = stopwords.words('english')"
   ]
  },
  {
   "cell_type": "code",
   "execution_count": 19,
   "metadata": {},
   "outputs": [
    {
     "data": {
      "text/html": [
       "<div>\n",
       "<style scoped>\n",
       "    .dataframe tbody tr th:only-of-type {\n",
       "        vertical-align: middle;\n",
       "    }\n",
       "\n",
       "    .dataframe tbody tr th {\n",
       "        vertical-align: top;\n",
       "    }\n",
       "\n",
       "    .dataframe thead th {\n",
       "        text-align: right;\n",
       "    }\n",
       "</style>\n",
       "<table border=\"1\" class=\"dataframe\">\n",
       "  <thead>\n",
       "    <tr style=\"text-align: right;\">\n",
       "      <th></th>\n",
       "      <th>amp</th>\n",
       "      <th>ass</th>\n",
       "      <th>bitch</th>\n",
       "      <th>black</th>\n",
       "      <th>bullied</th>\n",
       "      <th>bullies</th>\n",
       "      <th>bully</th>\n",
       "      <th>call</th>\n",
       "      <th>called</th>\n",
       "      <th>christian</th>\n",
       "      <th>...</th>\n",
       "      <th>school</th>\n",
       "      <th>see</th>\n",
       "      <th>shit</th>\n",
       "      <th>think</th>\n",
       "      <th>time</th>\n",
       "      <th>ur</th>\n",
       "      <th>white</th>\n",
       "      <th>woman</th>\n",
       "      <th>women</th>\n",
       "      <th>would</th>\n",
       "    </tr>\n",
       "  </thead>\n",
       "  <tbody>\n",
       "    <tr>\n",
       "      <th>0</th>\n",
       "      <td>0.0</td>\n",
       "      <td>0.0</td>\n",
       "      <td>0.0</td>\n",
       "      <td>0.0</td>\n",
       "      <td>0.0</td>\n",
       "      <td>0.0</td>\n",
       "      <td>0.0</td>\n",
       "      <td>0.0</td>\n",
       "      <td>0.0</td>\n",
       "      <td>0.0</td>\n",
       "      <td>...</td>\n",
       "      <td>0.0</td>\n",
       "      <td>0.0</td>\n",
       "      <td>0.0</td>\n",
       "      <td>0.0</td>\n",
       "      <td>0.0</td>\n",
       "      <td>0.0</td>\n",
       "      <td>0.0</td>\n",
       "      <td>0.0</td>\n",
       "      <td>0.0</td>\n",
       "      <td>0.0</td>\n",
       "    </tr>\n",
       "  </tbody>\n",
       "</table>\n",
       "<p>1 rows × 50 columns</p>\n",
       "</div>"
      ],
      "text/plain": [
       "   amp  ass  bitch  black  bullied  bullies  bully  call  called  christian  \\\n",
       "0  0.0  0.0    0.0    0.0      0.0      0.0    0.0   0.0     0.0        0.0   \n",
       "\n",
       "   ...  school  see  shit  think  time   ur  white  woman  women  would  \n",
       "0  ...     0.0  0.0   0.0    0.0   0.0  0.0    0.0    0.0    0.0    0.0  \n",
       "\n",
       "[1 rows x 50 columns]"
      ]
     },
     "execution_count": 19,
     "metadata": {},
     "output_type": "execute_result"
    }
   ],
   "source": [
    "# Instantiate the vectorizer\n",
    "tfidf = TfidfVectorizer(\n",
    "    max_features=50,\n",
    "    stop_words=stopwords_list\n",
    ")\n",
    "\n",
    "# Fit and transform X_train\n",
    "X_train_v = tfidf.fit_transform(X_train.tweet_text)\n",
    "\n",
    "# look at data\n",
    "pd.DataFrame.sparse.from_spmatrix(X_train_v, columns=tfidf.get_feature_names()).head(1)"
   ]
  },
  {
   "cell_type": "code",
   "execution_count": 20,
   "metadata": {},
   "outputs": [
    {
     "name": "stdout",
     "output_type": "stream",
     "text": [
      "Accuracy: 64.2%\n"
     ]
    }
   ],
   "source": [
    "# Instantiate a MultinomialNB classifier\n",
    "baseline_model = MultinomialNB()\n",
    "\n",
    "# Evaluate the classifier on X_train_vectorized and y_train\n",
    "baseline_score = cross_val_score(baseline_model, X_train_v, y_train).mean()\n",
    "print('Accuracy: {:.1%}'.format(baseline_score))"
   ]
  },
  {
   "cell_type": "markdown",
   "metadata": {},
   "source": [
    "#### Model #4 - Removed Stopwords and Stemmed"
   ]
  },
  {
   "cell_type": "code",
   "execution_count": 21,
   "metadata": {},
   "outputs": [
    {
     "data": {
      "text/html": [
       "<div>\n",
       "<style scoped>\n",
       "    .dataframe tbody tr th:only-of-type {\n",
       "        vertical-align: middle;\n",
       "    }\n",
       "\n",
       "    .dataframe tbody tr th {\n",
       "        vertical-align: top;\n",
       "    }\n",
       "\n",
       "    .dataframe thead th {\n",
       "        text-align: right;\n",
       "    }\n",
       "</style>\n",
       "<table border=\"1\" class=\"dataframe\">\n",
       "  <thead>\n",
       "    <tr style=\"text-align: right;\">\n",
       "      <th></th>\n",
       "      <th>amp</th>\n",
       "      <th>ass</th>\n",
       "      <th>bitch</th>\n",
       "      <th>black</th>\n",
       "      <th>bullied</th>\n",
       "      <th>bullies</th>\n",
       "      <th>bully</th>\n",
       "      <th>call</th>\n",
       "      <th>called</th>\n",
       "      <th>christian</th>\n",
       "      <th>...</th>\n",
       "      <th>school</th>\n",
       "      <th>see</th>\n",
       "      <th>shit</th>\n",
       "      <th>think</th>\n",
       "      <th>u</th>\n",
       "      <th>ur</th>\n",
       "      <th>white</th>\n",
       "      <th>woman</th>\n",
       "      <th>women</th>\n",
       "      <th>would</th>\n",
       "    </tr>\n",
       "  </thead>\n",
       "  <tbody>\n",
       "    <tr>\n",
       "      <th>0</th>\n",
       "      <td>0.0</td>\n",
       "      <td>0.0</td>\n",
       "      <td>0.0</td>\n",
       "      <td>0.0</td>\n",
       "      <td>0.0</td>\n",
       "      <td>0.0</td>\n",
       "      <td>0.0</td>\n",
       "      <td>0.0</td>\n",
       "      <td>0.0</td>\n",
       "      <td>0.0</td>\n",
       "      <td>...</td>\n",
       "      <td>0.0</td>\n",
       "      <td>0.0</td>\n",
       "      <td>0.0</td>\n",
       "      <td>0.0</td>\n",
       "      <td>0.0</td>\n",
       "      <td>0.0</td>\n",
       "      <td>0.000000</td>\n",
       "      <td>0.0</td>\n",
       "      <td>0.0</td>\n",
       "      <td>0.0</td>\n",
       "    </tr>\n",
       "    <tr>\n",
       "      <th>1</th>\n",
       "      <td>0.0</td>\n",
       "      <td>0.0</td>\n",
       "      <td>0.0</td>\n",
       "      <td>0.0</td>\n",
       "      <td>0.0</td>\n",
       "      <td>0.0</td>\n",
       "      <td>0.0</td>\n",
       "      <td>0.0</td>\n",
       "      <td>0.0</td>\n",
       "      <td>0.0</td>\n",
       "      <td>...</td>\n",
       "      <td>0.0</td>\n",
       "      <td>0.0</td>\n",
       "      <td>0.0</td>\n",
       "      <td>0.0</td>\n",
       "      <td>0.0</td>\n",
       "      <td>0.0</td>\n",
       "      <td>0.727968</td>\n",
       "      <td>0.0</td>\n",
       "      <td>0.0</td>\n",
       "      <td>0.0</td>\n",
       "    </tr>\n",
       "    <tr>\n",
       "      <th>2</th>\n",
       "      <td>0.0</td>\n",
       "      <td>0.0</td>\n",
       "      <td>0.0</td>\n",
       "      <td>0.0</td>\n",
       "      <td>0.0</td>\n",
       "      <td>0.0</td>\n",
       "      <td>0.0</td>\n",
       "      <td>0.0</td>\n",
       "      <td>0.0</td>\n",
       "      <td>0.0</td>\n",
       "      <td>...</td>\n",
       "      <td>0.0</td>\n",
       "      <td>0.0</td>\n",
       "      <td>0.0</td>\n",
       "      <td>0.0</td>\n",
       "      <td>0.0</td>\n",
       "      <td>0.0</td>\n",
       "      <td>0.000000</td>\n",
       "      <td>0.0</td>\n",
       "      <td>0.0</td>\n",
       "      <td>0.0</td>\n",
       "    </tr>\n",
       "    <tr>\n",
       "      <th>3</th>\n",
       "      <td>0.0</td>\n",
       "      <td>0.0</td>\n",
       "      <td>0.0</td>\n",
       "      <td>0.0</td>\n",
       "      <td>0.0</td>\n",
       "      <td>0.0</td>\n",
       "      <td>0.0</td>\n",
       "      <td>0.0</td>\n",
       "      <td>0.0</td>\n",
       "      <td>0.0</td>\n",
       "      <td>...</td>\n",
       "      <td>0.0</td>\n",
       "      <td>0.0</td>\n",
       "      <td>0.0</td>\n",
       "      <td>0.0</td>\n",
       "      <td>0.0</td>\n",
       "      <td>0.0</td>\n",
       "      <td>0.000000</td>\n",
       "      <td>0.0</td>\n",
       "      <td>0.0</td>\n",
       "      <td>0.0</td>\n",
       "    </tr>\n",
       "    <tr>\n",
       "      <th>4</th>\n",
       "      <td>0.0</td>\n",
       "      <td>0.0</td>\n",
       "      <td>0.0</td>\n",
       "      <td>0.0</td>\n",
       "      <td>0.0</td>\n",
       "      <td>0.0</td>\n",
       "      <td>0.0</td>\n",
       "      <td>0.0</td>\n",
       "      <td>0.0</td>\n",
       "      <td>0.0</td>\n",
       "      <td>...</td>\n",
       "      <td>0.0</td>\n",
       "      <td>0.0</td>\n",
       "      <td>0.0</td>\n",
       "      <td>0.0</td>\n",
       "      <td>0.0</td>\n",
       "      <td>0.0</td>\n",
       "      <td>0.000000</td>\n",
       "      <td>0.0</td>\n",
       "      <td>0.0</td>\n",
       "      <td>0.0</td>\n",
       "    </tr>\n",
       "  </tbody>\n",
       "</table>\n",
       "<p>5 rows × 50 columns</p>\n",
       "</div>"
      ],
      "text/plain": [
       "   amp  ass  bitch  black  bullied  bullies  bully  call  called  christian  \\\n",
       "0  0.0  0.0    0.0    0.0      0.0      0.0    0.0   0.0     0.0        0.0   \n",
       "1  0.0  0.0    0.0    0.0      0.0      0.0    0.0   0.0     0.0        0.0   \n",
       "2  0.0  0.0    0.0    0.0      0.0      0.0    0.0   0.0     0.0        0.0   \n",
       "3  0.0  0.0    0.0    0.0      0.0      0.0    0.0   0.0     0.0        0.0   \n",
       "4  0.0  0.0    0.0    0.0      0.0      0.0    0.0   0.0     0.0        0.0   \n",
       "\n",
       "   ...  school  see  shit  think    u   ur     white  woman  women  would  \n",
       "0  ...     0.0  0.0   0.0    0.0  0.0  0.0  0.000000    0.0    0.0    0.0  \n",
       "1  ...     0.0  0.0   0.0    0.0  0.0  0.0  0.727968    0.0    0.0    0.0  \n",
       "2  ...     0.0  0.0   0.0    0.0  0.0  0.0  0.000000    0.0    0.0    0.0  \n",
       "3  ...     0.0  0.0   0.0    0.0  0.0  0.0  0.000000    0.0    0.0    0.0  \n",
       "4  ...     0.0  0.0   0.0    0.0  0.0  0.0  0.000000    0.0    0.0    0.0  \n",
       "\n",
       "[5 rows x 50 columns]"
      ]
     },
     "execution_count": 21,
     "metadata": {},
     "output_type": "execute_result"
    }
   ],
   "source": [
    "# Instantiate the vectorizer\n",
    "tfidf = TfidfVectorizer(\n",
    "    max_features = 50,\n",
    "    stop_words = stopwords_list,\n",
    "    token_pattern = r\"(?u)\\b\\w+\\b\" #Changing tokens to include single letter words since people on twitter type in shorthand\n",
    ")\n",
    "\n",
    "# Fit the vectorizer on col and transform it\n",
    "X_vector = tfidf.fit_transform(df[\"tweet_text\"])\n",
    "\n",
    "# Visually inspect the vectorized data\n",
    "pd.DataFrame.sparse.from_spmatrix(X_vector, columns=tfidf.get_feature_names()).head()"
   ]
  },
  {
   "cell_type": "code",
   "execution_count": 22,
   "metadata": {},
   "outputs": [
    {
     "name": "stdout",
     "output_type": "stream",
     "text": [
      "Accuracy: 64.2%\n"
     ]
    }
   ],
   "source": [
    "# Instantiate a MultinomialNB classifier\n",
    "baseline_model = MultinomialNB()\n",
    "\n",
    "# Evaluate the classifier on X_train_vectorized and y_train\n",
    "baseline_score = cross_val_score(baseline_model, X_train_v, y_train).mean()\n",
    "print('Accuracy: {:.1%}'.format(baseline_score))"
   ]
  },
  {
   "cell_type": "markdown",
   "metadata": {},
   "source": [
    "#### Model #4 - Removed Stopwords and added Bigrams"
   ]
  },
  {
   "cell_type": "code",
   "execution_count": 23,
   "metadata": {},
   "outputs": [
    {
     "data": {
      "text/html": [
       "<div>\n",
       "<style scoped>\n",
       "    .dataframe tbody tr th:only-of-type {\n",
       "        vertical-align: middle;\n",
       "    }\n",
       "\n",
       "    .dataframe tbody tr th {\n",
       "        vertical-align: top;\n",
       "    }\n",
       "\n",
       "    .dataframe thead th {\n",
       "        text-align: right;\n",
       "    }\n",
       "</style>\n",
       "<table border=\"1\" class=\"dataframe\">\n",
       "  <thead>\n",
       "    <tr style=\"text-align: right;\">\n",
       "      <th></th>\n",
       "      <th>also</th>\n",
       "      <th>amp</th>\n",
       "      <th>anything</th>\n",
       "      <th>ass</th>\n",
       "      <th>ass ninnnn</th>\n",
       "      <th>back</th>\n",
       "      <th>bitch</th>\n",
       "      <th>black</th>\n",
       "      <th>bullied</th>\n",
       "      <th>bullied high</th>\n",
       "      <th>...</th>\n",
       "      <th>think</th>\n",
       "      <th>time</th>\n",
       "      <th>u</th>\n",
       "      <th>ur</th>\n",
       "      <th>us</th>\n",
       "      <th>want</th>\n",
       "      <th>white</th>\n",
       "      <th>woman</th>\n",
       "      <th>women</th>\n",
       "      <th>would</th>\n",
       "    </tr>\n",
       "  </thead>\n",
       "  <tbody>\n",
       "    <tr>\n",
       "      <th>0</th>\n",
       "      <td>0.0</td>\n",
       "      <td>0.0</td>\n",
       "      <td>0.0</td>\n",
       "      <td>0.0</td>\n",
       "      <td>0.0</td>\n",
       "      <td>0.0</td>\n",
       "      <td>0.0</td>\n",
       "      <td>0.0</td>\n",
       "      <td>0.0</td>\n",
       "      <td>0.0</td>\n",
       "      <td>...</td>\n",
       "      <td>0.0</td>\n",
       "      <td>0.0</td>\n",
       "      <td>0.0</td>\n",
       "      <td>0.0</td>\n",
       "      <td>0.0</td>\n",
       "      <td>0.0</td>\n",
       "      <td>0.0</td>\n",
       "      <td>0.0</td>\n",
       "      <td>0.0</td>\n",
       "      <td>0.0</td>\n",
       "    </tr>\n",
       "  </tbody>\n",
       "</table>\n",
       "<p>1 rows × 80 columns</p>\n",
       "</div>"
      ],
      "text/plain": [
       "   also  amp  anything  ass  ass ninnnn  back  bitch  black  bullied  \\\n",
       "0   0.0  0.0       0.0  0.0         0.0   0.0    0.0    0.0      0.0   \n",
       "\n",
       "   bullied high  ...  think  time    u   ur   us  want  white  woman  women  \\\n",
       "0           0.0  ...    0.0   0.0  0.0  0.0  0.0   0.0    0.0    0.0    0.0   \n",
       "\n",
       "   would  \n",
       "0    0.0  \n",
       "\n",
       "[1 rows x 80 columns]"
      ]
     },
     "execution_count": 23,
     "metadata": {},
     "output_type": "execute_result"
    }
   ],
   "source": [
    "# Instantiate the vectorizer\n",
    "tfidf = TfidfVectorizer(\n",
    "    max_features = 80,\n",
    "    stop_words = stopwords_list,\n",
    "    token_pattern = r\"(?u)\\b\\w+\\b\",\n",
    "    ngram_range = (1, 2)\n",
    ")\n",
    "\n",
    "# Fit the vectorizer on col and transform it\n",
    "X_train_v = tfidf.fit_transform(X_train.tweet_text)\n",
    "\n",
    "# Visually inspect the vectorized data\n",
    "pd.DataFrame.sparse.from_spmatrix(X_train_v, columns=tfidf.get_feature_names()).head(1)"
   ]
  },
  {
   "cell_type": "code",
   "execution_count": 24,
   "metadata": {},
   "outputs": [
    {
     "name": "stdout",
     "output_type": "stream",
     "text": [
      "Accuracy: 69.3%\n"
     ]
    }
   ],
   "source": [
    "# Instantiate a MultinomialNB classifier\n",
    "baseline_model = MultinomialNB()\n",
    "\n",
    "# Evaluate the classifier on X_train_vectorized and y_train\n",
    "baseline_score = cross_val_score(baseline_model, X_train_v, y_train).mean()\n",
    "print('Accuracy: {:.1%}'.format(baseline_score))"
   ]
  },
  {
   "cell_type": "markdown",
   "metadata": {},
   "source": [
    "#### NEW MODEL - adding has_link feature and is_reply"
   ]
  },
  {
   "cell_type": "code",
   "execution_count": 25,
   "metadata": {},
   "outputs": [],
   "source": [
    "# creating a column that notes if a tweet has a link or not\n",
    "def has_link(x):\n",
    "    if 'https' in x:\n",
    "        return 1\n",
    "    else:\n",
    "        return 0\n",
    "\n",
    "X_train['has_link'] = X_train.tweet_text.apply(has_link)"
   ]
  },
  {
   "cell_type": "code",
   "execution_count": 26,
   "metadata": {},
   "outputs": [],
   "source": [
    "# creating a column that notes if a tweet is a reply or not\n",
    "def is_reply(x):\n",
    "    if '@' in x:\n",
    "        return 1    \n",
    "    else:\n",
    "        return 0\n",
    "\n",
    "X_train['is_reply'] = df.tweet_text.apply(is_reply)"
   ]
  },
  {
   "cell_type": "code",
   "execution_count": 27,
   "metadata": {},
   "outputs": [],
   "source": [
    "# resetting indices\n",
    "X_train.reset_index(inplace=True)"
   ]
  },
  {
   "cell_type": "code",
   "execution_count": 28,
   "metadata": {},
   "outputs": [],
   "source": [
    "# creating a column that notes if a tweet has an emoticon or not\n",
    "emoticon_query = r'(?:[\\:;X=B][-^]?[)\\]3D([OP/\\\\|])(?:(?=\\s))'\n",
    "X_train[\"has_emoticon\"] = X_train.tweet_text.str.contains(emoticon_query)"
   ]
  },
  {
   "cell_type": "code",
   "execution_count": 29,
   "metadata": {},
   "outputs": [
    {
     "data": {
      "text/html": [
       "<div>\n",
       "<style scoped>\n",
       "    .dataframe tbody tr th:only-of-type {\n",
       "        vertical-align: middle;\n",
       "    }\n",
       "\n",
       "    .dataframe tbody tr th {\n",
       "        vertical-align: top;\n",
       "    }\n",
       "\n",
       "    .dataframe thead th {\n",
       "        text-align: right;\n",
       "    }\n",
       "</style>\n",
       "<table border=\"1\" class=\"dataframe\">\n",
       "  <thead>\n",
       "    <tr style=\"text-align: right;\">\n",
       "      <th></th>\n",
       "      <th>also</th>\n",
       "      <th>amp</th>\n",
       "      <th>anything</th>\n",
       "      <th>ass</th>\n",
       "      <th>ass ninnnn</th>\n",
       "      <th>back</th>\n",
       "      <th>bitch</th>\n",
       "      <th>black</th>\n",
       "      <th>bullied</th>\n",
       "      <th>bullied high</th>\n",
       "      <th>...</th>\n",
       "      <th>ur</th>\n",
       "      <th>us</th>\n",
       "      <th>want</th>\n",
       "      <th>white</th>\n",
       "      <th>woman</th>\n",
       "      <th>women</th>\n",
       "      <th>would</th>\n",
       "      <th>has_link</th>\n",
       "      <th>is_reply</th>\n",
       "      <th>has_emoticon</th>\n",
       "    </tr>\n",
       "  </thead>\n",
       "  <tbody>\n",
       "    <tr>\n",
       "      <th>0</th>\n",
       "      <td>0.0</td>\n",
       "      <td>0.0</td>\n",
       "      <td>0.0</td>\n",
       "      <td>0.0</td>\n",
       "      <td>0.0</td>\n",
       "      <td>0.0</td>\n",
       "      <td>0.0</td>\n",
       "      <td>0.0</td>\n",
       "      <td>0.0</td>\n",
       "      <td>0.0</td>\n",
       "      <td>...</td>\n",
       "      <td>0.0</td>\n",
       "      <td>0.0</td>\n",
       "      <td>0.0</td>\n",
       "      <td>0.0</td>\n",
       "      <td>0.0</td>\n",
       "      <td>0.0</td>\n",
       "      <td>0.0</td>\n",
       "      <td>0</td>\n",
       "      <td>1</td>\n",
       "      <td>False</td>\n",
       "    </tr>\n",
       "  </tbody>\n",
       "</table>\n",
       "<p>1 rows × 83 columns</p>\n",
       "</div>"
      ],
      "text/plain": [
       "   also  amp  anything  ass  ass ninnnn  back  bitch  black  bullied  \\\n",
       "0   0.0  0.0       0.0  0.0         0.0   0.0    0.0    0.0      0.0   \n",
       "\n",
       "   bullied high  ...   ur   us  want  white  woman  women  would  has_link  \\\n",
       "0           0.0  ...  0.0  0.0   0.0    0.0    0.0    0.0    0.0         0   \n",
       "\n",
       "   is_reply  has_emoticon  \n",
       "0         1         False  \n",
       "\n",
       "[1 rows x 83 columns]"
      ]
     },
     "execution_count": 29,
     "metadata": {},
     "output_type": "execute_result"
    }
   ],
   "source": [
    "# adding new columns to dataframe\n",
    "\n",
    "X_train_df = pd.DataFrame.sparse.from_spmatrix(X_train_v, columns=tfidf.get_feature_names())\n",
    "X_train_2 = pd.concat([X_train_df, X_train[['has_link', 'is_reply', 'has_emoticon']]], axis=1)\n",
    "X_train_2.head(1)"
   ]
  },
  {
   "cell_type": "code",
   "execution_count": 30,
   "metadata": {},
   "outputs": [
    {
     "name": "stdout",
     "output_type": "stream",
     "text": [
      "Accuracy: 72.7%\n"
     ]
    }
   ],
   "source": [
    "# Instantiate a MultinomialNB classifier\n",
    "baseline_model = MultinomialNB()\n",
    "\n",
    "# Evaluate the classifier on X_train_vectorized and y_train\n",
    "baseline_score = cross_val_score(baseline_model, X_train_2, y_train).mean()\n",
    "print('Accuracy: {:.1%}'.format(baseline_score))"
   ]
  },
  {
   "cell_type": "code",
   "execution_count": 32,
   "metadata": {},
   "outputs": [],
   "source": [
    "#### TRYING TENSORFLOW AND KERAS\n",
    "from tensorflow.keras.models import Sequential\n",
    "from tensorflow.keras.layers import Embedding\n",
    "import numpy as np\n",
    "\n",
    "from keras.preprocessing.sequence import pad_sequences\n",
    "from keras.layers import Input, Dense, LSTM, Embedding\n",
    "from keras.layers import Dropout, Activation, Bidirectional, GlobalMaxPool1D\n",
    "from keras.models import Sequential\n",
    "from keras import initializers, regularizers, constraints, optimizers, layers\n",
    "from keras.preprocessing import text, sequence"
   ]
  },
  {
   "cell_type": "code",
   "execution_count": 44,
   "metadata": {},
   "outputs": [],
   "source": [
    "data = df['tweet_text'].map(word_tokenize).values\n",
    "total_vocabulary = set(word.lower() for tweet in data for word in tweet)  # set created from nested comprehension "
   ]
  },
  {
   "cell_type": "code",
   "execution_count": 68,
   "metadata": {},
   "outputs": [
    {
     "name": "stdout",
     "output_type": "stream",
     "text": [
      "total number of characters in book:  47692\n",
      "Found 757 unique characters. \n",
      "char to integer dictionary:  {' ': 1, 'e': 2, 't': 3, 'a': 4, 'o': 5, 'i': 6, 'n': 7, 's': 8, 'r': 9, 'h': 10, 'l': 11, 'u': 12, 'd': 13, 'm': 14, 'c': 15, 'y': 16, 'g': 17, 'b': 18, 'w': 19, 'p': 20, 'f': 21, '.': 22, 'k': 23, 'v': 24, ',': 25, '@': 26, \"'\": 27, 'j': 28, '/': 29, ':': 30, '!': 31, '#': 32, '?': 33, 'x': 34, '’': 35, '\"': 36, 'z': 37, '-': 38, '1': 39, '_': 40, '0': 41, 'q': 42, '2': 43, ';': 44, '&': 45, '3': 46, '4': 47, '5': 48, '9': 49, '“': 50, '”': 51, '8': 52, ')': 53, '7': 54, '6': 55, '(': 56, '*': 57, '…': 58, '\\x9f': 59, 'ð': 60, '=': 61, 'â': 62, '%': 63, '\\x98': 64, '+': 65, '—': 66, '\\r': 67, '\\n': 68, '‘': 69, 'é': 70, '\\x80': 71, 'ã': 72, '\\x82': 73, '$': 74, '~': 75, '¦': 76, ']': 77, '^': 78, '[': 79, '¤': 80, '\\x8f': 81, '|': 82, '•': 83, '°': 84, '️': 85, '\\x99': 86, 'ç': 87, '›': 88, '>': 89, 'í': 90, '\\x8d': 91, '❤': 92, 'á': 93, '😂': 94, '\\x92': 95, '\\x94': 96, 'ó': 97, '\\\\': 98, '¸': 99, '😘': 100, '»': 101, 'ê': 102, 'ï': 103, '«': 104, '\\x9d': 105, '¢': 106, '⠀': 107, '\\x91': 108, '\\x84': 109, '\\x95': 110, '\\ue416': 111, '©': 112, '♥': 113, '\\x93': 114, '👏': 115, '£': 116, '\\x96': 117, '\\xad': 118, '–': 119, '¿': 120, 'ñ': 121, '😊': 122, '´': 123, 'ì': 124, '¬': 125, '½': 126, 'ú': 127, '¾': 128, '\\ue412': 129, 'à': 130, '¯': 131, '\\u2066': 132, '\\u2069': 133, '`': 134, '\\xa0': 135, '👍': 136, '±': 137, 'ा': 138, '♡': 139, '😜': 140, '\\x8c': 141, '̶': 142, '\\x9c': 143, '😡': 144, 'ë': 145, '！': 146, '\\x83': 147, '😁': 148, '̩': 149, '😒': 150, '☺': 151, '\\x85': 152, 'ツ': 153, '¡': 154, '¼': 155, '💕': 156, '·': 157, '˘': 158, '😍': 159, '👌': 160, '\\x88': 161, '😤': 162, '\\x9a': 163, 'ン': 164, 'ー': 165, '̅': 166, '̲': 167, '👎': 168, '®': 169, '²': 170, '¥': 171, '✨': 172, 'パ': 173, '\\x90': 174, '}': 175, '👧': 176, '➳': 177, 'ü': 178, '😭': 179, '\\x97': 180, '😩': 181, '😉': 182, '♪': 183, '😳': 184, '¶': 185, 'र': 186, 'म': 187, 'ᵗ': 188, 'ᵉ': 189, '̥': 190, 'ı': 191, 'õ': 192, 'ª': 193, '😱': 194, '💋': 195, 'ब': 196, '𝕠': 197, '𝕖': 198, '̊': 199, 'م': 200, 'ا': 201, '🙅': 202, '™': 203, 'ô': 204, '\\x9b': 205, 'い': 206, 'è': 207, '³': 208, 'ス': 209, 'क': 210, 'ʳ': 211, 'ˡ': 212, 'ğ': 213, 'º': 214, '😏': 215, '⌣': 216, '😃': 217, '̇': 218, '\\x87': 219, '🐧': 220, 'く': 221, '（': 222, '）': 223, 'ل': 224, '\\x8a': 225, '{': 226, '♫': 227, 'न': 228, 'े': 229, 'य': 230, '𝕟': 231, '︎': 232, '\\u2063': 233, '͡': 234, '\\u200b': 235, '😄': 236, '🎶': 237, '😷': 238, 'ā': 239, '😐': 240, '🔫': 241, '😋': 242, '¹': 243, 'よ': 244, '👉': 245, 'ر': 246, 'µ': 247, 'ワ': 248, 'و': 249, 'ी': 250, 'ग': 251, '𝕣': 252, 'ə': 253, '\\ue411': 254, 'ᵒ': 255, 'ʰ': 256, '𝓷': 257, 'د': 258, 'ن': 259, 'ب': 260, '😌': 261, '🙏': 262, 'ş': 263, '\\u200e': 264, '💩': 265, '💁': 266, 'ˆ': 267, '✌': 268, 'ö': 269, '\\x81': 270, '😆': 271, 'な': 272, '。': 273, 'れ': 274, 'っ': 275, '☑': 276, '🙌': 277, '🍓': 278, '🍌': 279, '‾': 280, '\\x8e': 281, '\\x89': 282, '自': 283, 'と': 284, '殺': 285, 'も': 286, '≠': 287, 'ق': 288, '😻': 289, '🔥': 290, '„': 291, 'ह': 292, '्': 293, '𝕦': 294, '𝕥': 295, '𝕚': 296, '𝕙': 297, 'я': 298, '⚡': 299, 'ハ': 300, 'イ': 301, 'ニ': 302, 'ュ': 303, 'ⁱ': 304, 'ᵘ': 305, 'ʸ': 306, '➤': 307, '𝓮': 308, '🍋': 309, 'ƪ': 310, '😅': 311, '😔': 312, '🎵': 313, '😈': 314, '👯': 315, '\\u3000': 316, '📷': 317, '🍩': 318, '🍗': 319, '\\ue40e': 320, '😣': 321, '►': 322, 'ラ': 323, 'の': 324, 'じ': 325, 'ｗ': 326, '§': 327, 'σ': 328, '😛': 329, '🙊': 330, 'ร': 331, 'ส': 332, 'ش': 333, 'ع': 334, 'น': 335, 'ก': 336, 'เ': 337, 'ม': 338, 'ү': 339, '\\U000fe32d': 340, 'श': 341, 'ं': 342, 'द': 343, 'ä': 344, 'प': 345, '𝕕': 346, '𝕤': 347, '𝕒': 348, '𝕔': 349, 'α': 350, '，': 351, 'ル': 352, '─': 353, 'ⁿ': 354, 'ᵍ': 355, '✎': 356, '☆': 357, '𝓪': 358, '？': 359, '𝐭': 360, 'ي': 361, 'ة': 362, 'ح': 363, 'ز': 364, '😝': 365, '😰': 366, '😀': 367, '💔': 368, 'щ': 369, 'д': 370, '😴': 371, '🍴': 372, '💦': 373, '😟': 374, '😠': 375, 'ぁ': 376, 'ォ': 377, 'お': 378, 'ら': 379, 'え': 380, 'か': 381, '・': 382, '😵': 383, '💬': 384, 'ˇ': 385, '\\uf04a': 386, 'î': 387, 'ف': 388, '📖': 389, '\\x9e': 390, '😕': 391, '¨': 392, '▿': 393, '😬': 394, '\\x8b': 395, '╥': 396, '見': 397, 'り': 398, 'オ': 399, 'з': 400, 'め': 401, '、': 402, '相': 403, 'し': 404, 'ろ': 405, '🙉': 406, '💨': 407, '♨': 408, '🐸': 409, '☕': 410, '👦': 411, '\\x86': 412, 'ั': 413, 'ه': 414, 'จ': 415, '็': 416, 'ป': 417, 'า': 418, 'ロ': 419, 'μ': 420, '🐀': 421, 'آ': 422, 'ی': 423, 'ि': 424, 'त': 425, '।': 426, 'ο': 427, '़': 428, 'ज': 429, 'ī': 430, 'ै': 431, '€': 432, 'ί': 433, 'व': 434, '●': 435, '☻': 436, '⚠': 437, '😇': 438, '\\ue00d': 439, '🎼': 440, 'ᵖ': 441, 'ᶠ': 442, 'ᵃ': 443, '마': 444, 'ū': 445, 'ł': 446, '𝔀': 447, '𝓸': 448, '𝓻': 449, '𝓭': 450, '𝓱': 451, '𝔂': 452, '𝓫': 453, '𝓲': 454, '𝚎': 455, '〝': 456, '〞': 457, 'ム': 458, '𝐒': 459, '𝐢': 460, '𝐞': 461, '𝓉': 462, 'å': 463, '․': 464, '̯': 465, 'ʊ': 466, 'ɣ': 467, '😹': 468, '˛': 469, 'ʃ': 470, '́': 471, '̀': 472, '☹': 473, '🎁': 474, '😨': 475, '🏀': 476, '💅': 477, '😢': 478, '🙈': 479, '🙀': 480, '💉': 481, '😲': 482, '😦': 483, 'ў': 484, 'ΰ': 485, '🐚': 486, '😓': 487, '\\ue022': 488, '👳': 489, '👠': 490, '👗': 491, '❌': 492, '🎧': 493, '💙': 494, '💐': 495, 'ち': 496, 'ょ': 497, 'だ': 498, '前': 499, 'や': 500, '😧': 501, '📱': 502, '👔': 503, '👿': 504, '∫': 505, '🕡': 506, '🕟': 507, '🕠': 508, '🕞': 509, '🕥': 510, '🕗': 511, '🕛': 512, 'ص': 513, '✘': 514, '😚': 515, '☝': 516, '💜': 517, '♣': 518, '👹': 519, '😯': 520, '😞': 521, 'ټ': 522, '😥': 523, '﹏': 524, 'ト': 525, '発': 526, '🚬': 527, '👢': 528, 'ƒ': 529, '【': 530, '動': 531, '】': 532, 'で': 533, 'す': 534, 'る': 535, 'は': 536, '憎': 537, '手': 538, 'を': 539, 'た': 540, '後': 541, '死': 542, 'ば': 543, 'て': 544, 'こ': 545, '🚦': 546, '📝': 547, '🚶': 548, '✋': 549, '÷': 550, '『': 551, '』': 552, 'ㅡ': 553, 'ค': 554, 'ิ': 555, 'พ': 556, 'ี': 557, 'ว': 558, 'أ': 559, 'ى': 560, 'แ': 561, 'ด': 562, 'ง': 563, 'ต': 564, 'ึ': 565, 'ไ': 566, 'ะ': 567, '🍊': 568, '🌋': 569, '👋': 570, '互': 571, 'フ': 572, '💪': 573, '🐕': 574, 'پ': 575, 'ک': 576, 'چ': 577, 'ہ': 578, 'ے': 579, '۔': 580, '،': 581, 'ث': 582, 'č': 583, 'ت': 584, 'ऊ': 585, 'औ': 586, '५': 587, 'س': 588, 'झ': 589, 'ड': 590, 'अ': 591, 'उ': 592, 'ो': 593, 'स': 594, 'आ': 595, '▶': 596, '𝕀': 597, '𝕨': 598, '𝕝': 599, '𝕢': 600, '𝕞': 601, 'γ': 602, 'φ': 603, 'ट': 604, 'ु': 605, 'ल': 606, 'ए': 607, '🔵': 608, '🔖': 609, '‚': 610, '☭': 611, '🐎': 612, '💓': 613, '🐟': 614, '💃': 615, '🍦': 616, '🐙': 617, '🌸': 618, '🌟': 619, 'н': 620, 'о': 621, 'й': 622, 'р': 623, 'е': 624, 'п': 625, 'а': 626, 'б': 627, 'л': 628, 'и': 629, 'к': 630, '\\ue337': 631, '\\ue40d': 632, '\\ue402': 633, 'ø': 634, '\\ue409': 635, '😎': 636, '🐊': 637, '👊': 638, '🏼': 639, '🚗': 640, '猫': 641, '足': 642, '踏': 643, 'み': 644, 'レ': 645, '✊': 646, '😫': 647, '🍳': 648, '📺': 649, '🎥': 650, 'ナ': 651, 'ウ': 652, 'リ': 653, 'ア': 654, '❞': 655, 'ʷ': 656, 'ᵐ': 657, 'ᵇ': 658, 'ˢ': 659, 'ᵛ': 660, '▼': 661, 'อ': 662, 'ใ': 663, '―': 664, '中': 665, '川': 666, '大': 667, '志': 668, '石': 669, '井': 670, '杏': 671, '奈': 672, '少': 673, '年': 674, '的': 675, '你': 676, '★': 677, '무': 678, '솔': 679, '라': 680, '⨾': 681, 'ē': 682, 'ę': 683, 'š': 684, '𝓘': 685, '𝓵': 686, '𝓾': 687, '𝓬': 688, '𝓽': 689, '𝓰': 690, '𝓴': 691, '＞': 692, '＿': 693, '＜': 694, 'ﾉ': 695, '｀': 696, '˚': 697, '𝚕': 698, '𝚞': 699, '𝚜': 700, '𝚒': 701, '𝚟': 702, '概': 703, '要': 704, 'ホ': 705, '山': 706, '田': 707, '裕': 708, '貴': 709, '𝕧': 710, '𝕘': 711, '𝕫': 712, '𝕪': 713, '𝐀': 714, '𝐥': 715, '𝐧': 716, '𝐕': 717, '𝗼': 718, '𝐜': 719, '𝐚': 720, '𝐮': 721, '𝐬': 722, '◄': 723, '❝': 724, '𝓂': 725, '𝒶': 726, '𝒽': 727, '𝑒': 728, '𝓌': 729, '𝟧': 730, '𝟪': 731, '\\ue408': 732, '\\ue41e': 733, '\\U000feb7b': 734, 'ś': 735, 'ĺ': 736, 'ҩ': 737, 'ŋ': 738, 'ԃ': 739, '∂': 740, '\\ue11a': 741, '✗': 742, '인': 743, '종': 744, '차': 745, '별': 746, '》': 747, '‽': 748, 'ɪ': 749, 'ɡ': 750, '\\ue410': 751, '\\ue011': 752, '◂': 753, '⛽': 754, '🅰': 755, '🆖': 756, '💯': 757}\n",
      "integer to char dictionary:  {0: ' ', 1: 'e', 2: 't', 3: 'a', 4: 'o', 5: 'i', 6: 'n', 7: 's', 8: 'r', 9: 'h', 10: 'l', 11: 'u', 12: 'd', 13: 'm', 14: 'c', 15: 'y', 16: 'g', 17: 'b', 18: 'w', 19: 'p', 20: 'f', 21: '.', 22: 'k', 23: 'v', 24: ',', 25: '@', 26: \"'\", 27: 'j', 28: '/', 29: ':', 30: '!', 31: '#', 32: '?', 33: 'x', 34: '’', 35: '\"', 36: 'z', 37: '-', 38: '1', 39: '_', 40: '0', 41: 'q', 42: '2', 43: ';', 44: '&', 45: '3', 46: '4', 47: '5', 48: '9', 49: '“', 50: '”', 51: '8', 52: ')', 53: '7', 54: '6', 55: '(', 56: '*', 57: '…', 58: '\\x9f', 59: 'ð', 60: '=', 61: 'â', 62: '%', 63: '\\x98', 64: '+', 65: '—', 66: '\\r', 67: '\\n', 68: '‘', 69: 'é', 70: '\\x80', 71: 'ã', 72: '\\x82', 73: '$', 74: '~', 75: '¦', 76: ']', 77: '^', 78: '[', 79: '¤', 80: '\\x8f', 81: '|', 82: '•', 83: '°', 84: '️', 85: '\\x99', 86: 'ç', 87: '›', 88: '>', 89: 'í', 90: '\\x8d', 91: '❤', 92: 'á', 93: '😂', 94: '\\x92', 95: '\\x94', 96: 'ó', 97: '\\\\', 98: '¸', 99: '😘', 100: '»', 101: 'ê', 102: 'ï', 103: '«', 104: '\\x9d', 105: '¢', 106: '⠀', 107: '\\x91', 108: '\\x84', 109: '\\x95', 110: '\\ue416', 111: '©', 112: '♥', 113: '\\x93', 114: '👏', 115: '£', 116: '\\x96', 117: '\\xad', 118: '–', 119: '¿', 120: 'ñ', 121: '😊', 122: '´', 123: 'ì', 124: '¬', 125: '½', 126: 'ú', 127: '¾', 128: '\\ue412', 129: 'à', 130: '¯', 131: '\\u2066', 132: '\\u2069', 133: '`', 134: '\\xa0', 135: '👍', 136: '±', 137: 'ा', 138: '♡', 139: '😜', 140: '\\x8c', 141: '̶', 142: '\\x9c', 143: '😡', 144: 'ë', 145: '！', 146: '\\x83', 147: '😁', 148: '̩', 149: '😒', 150: '☺', 151: '\\x85', 152: 'ツ', 153: '¡', 154: '¼', 155: '💕', 156: '·', 157: '˘', 158: '😍', 159: '👌', 160: '\\x88', 161: '😤', 162: '\\x9a', 163: 'ン', 164: 'ー', 165: '̅', 166: '̲', 167: '👎', 168: '®', 169: '²', 170: '¥', 171: '✨', 172: 'パ', 173: '\\x90', 174: '}', 175: '👧', 176: '➳', 177: 'ü', 178: '😭', 179: '\\x97', 180: '😩', 181: '😉', 182: '♪', 183: '😳', 184: '¶', 185: 'र', 186: 'म', 187: 'ᵗ', 188: 'ᵉ', 189: '̥', 190: 'ı', 191: 'õ', 192: 'ª', 193: '😱', 194: '💋', 195: 'ब', 196: '𝕠', 197: '𝕖', 198: '̊', 199: 'م', 200: 'ا', 201: '🙅', 202: '™', 203: 'ô', 204: '\\x9b', 205: 'い', 206: 'è', 207: '³', 208: 'ス', 209: 'क', 210: 'ʳ', 211: 'ˡ', 212: 'ğ', 213: 'º', 214: '😏', 215: '⌣', 216: '😃', 217: '̇', 218: '\\x87', 219: '🐧', 220: 'く', 221: '（', 222: '）', 223: 'ل', 224: '\\x8a', 225: '{', 226: '♫', 227: 'न', 228: 'े', 229: 'य', 230: '𝕟', 231: '︎', 232: '\\u2063', 233: '͡', 234: '\\u200b', 235: '😄', 236: '🎶', 237: '😷', 238: 'ā', 239: '😐', 240: '🔫', 241: '😋', 242: '¹', 243: 'よ', 244: '👉', 245: 'ر', 246: 'µ', 247: 'ワ', 248: 'و', 249: 'ी', 250: 'ग', 251: '𝕣', 252: 'ə', 253: '\\ue411', 254: 'ᵒ', 255: 'ʰ', 256: '𝓷', 257: 'د', 258: 'ن', 259: 'ب', 260: '😌', 261: '🙏', 262: 'ş', 263: '\\u200e', 264: '💩', 265: '💁', 266: 'ˆ', 267: '✌', 268: 'ö', 269: '\\x81', 270: '😆', 271: 'な', 272: '。', 273: 'れ', 274: 'っ', 275: '☑', 276: '🙌', 277: '🍓', 278: '🍌', 279: '‾', 280: '\\x8e', 281: '\\x89', 282: '自', 283: 'と', 284: '殺', 285: 'も', 286: '≠', 287: 'ق', 288: '😻', 289: '🔥', 290: '„', 291: 'ह', 292: '्', 293: '𝕦', 294: '𝕥', 295: '𝕚', 296: '𝕙', 297: 'я', 298: '⚡', 299: 'ハ', 300: 'イ', 301: 'ニ', 302: 'ュ', 303: 'ⁱ', 304: 'ᵘ', 305: 'ʸ', 306: '➤', 307: '𝓮', 308: '🍋', 309: 'ƪ', 310: '😅', 311: '😔', 312: '🎵', 313: '😈', 314: '👯', 315: '\\u3000', 316: '📷', 317: '🍩', 318: '🍗', 319: '\\ue40e', 320: '😣', 321: '►', 322: 'ラ', 323: 'の', 324: 'じ', 325: 'ｗ', 326: '§', 327: 'σ', 328: '😛', 329: '🙊', 330: 'ร', 331: 'ส', 332: 'ش', 333: 'ع', 334: 'น', 335: 'ก', 336: 'เ', 337: 'ม', 338: 'ү', 339: '\\U000fe32d', 340: 'श', 341: 'ं', 342: 'द', 343: 'ä', 344: 'प', 345: '𝕕', 346: '𝕤', 347: '𝕒', 348: '𝕔', 349: 'α', 350: '，', 351: 'ル', 352: '─', 353: 'ⁿ', 354: 'ᵍ', 355: '✎', 356: '☆', 357: '𝓪', 358: '？', 359: '𝐭', 360: 'ي', 361: 'ة', 362: 'ح', 363: 'ز', 364: '😝', 365: '😰', 366: '😀', 367: '💔', 368: 'щ', 369: 'д', 370: '😴', 371: '🍴', 372: '💦', 373: '😟', 374: '😠', 375: 'ぁ', 376: 'ォ', 377: 'お', 378: 'ら', 379: 'え', 380: 'か', 381: '・', 382: '😵', 383: '💬', 384: 'ˇ', 385: '\\uf04a', 386: 'î', 387: 'ف', 388: '📖', 389: '\\x9e', 390: '😕', 391: '¨', 392: '▿', 393: '😬', 394: '\\x8b', 395: '╥', 396: '見', 397: 'り', 398: 'オ', 399: 'з', 400: 'め', 401: '、', 402: '相', 403: 'し', 404: 'ろ', 405: '🙉', 406: '💨', 407: '♨', 408: '🐸', 409: '☕', 410: '👦', 411: '\\x86', 412: 'ั', 413: 'ه', 414: 'จ', 415: '็', 416: 'ป', 417: 'า', 418: 'ロ', 419: 'μ', 420: '🐀', 421: 'آ', 422: 'ی', 423: 'ि', 424: 'त', 425: '।', 426: 'ο', 427: '़', 428: 'ज', 429: 'ī', 430: 'ै', 431: '€', 432: 'ί', 433: 'व', 434: '●', 435: '☻', 436: '⚠', 437: '😇', 438: '\\ue00d', 439: '🎼', 440: 'ᵖ', 441: 'ᶠ', 442: 'ᵃ', 443: '마', 444: 'ū', 445: 'ł', 446: '𝔀', 447: '𝓸', 448: '𝓻', 449: '𝓭', 450: '𝓱', 451: '𝔂', 452: '𝓫', 453: '𝓲', 454: '𝚎', 455: '〝', 456: '〞', 457: 'ム', 458: '𝐒', 459: '𝐢', 460: '𝐞', 461: '𝓉', 462: 'å', 463: '․', 464: '̯', 465: 'ʊ', 466: 'ɣ', 467: '😹', 468: '˛', 469: 'ʃ', 470: '́', 471: '̀', 472: '☹', 473: '🎁', 474: '😨', 475: '🏀', 476: '💅', 477: '😢', 478: '🙈', 479: '🙀', 480: '💉', 481: '😲', 482: '😦', 483: 'ў', 484: 'ΰ', 485: '🐚', 486: '😓', 487: '\\ue022', 488: '👳', 489: '👠', 490: '👗', 491: '❌', 492: '🎧', 493: '💙', 494: '💐', 495: 'ち', 496: 'ょ', 497: 'だ', 498: '前', 499: 'や', 500: '😧', 501: '📱', 502: '👔', 503: '👿', 504: '∫', 505: '🕡', 506: '🕟', 507: '🕠', 508: '🕞', 509: '🕥', 510: '🕗', 511: '🕛', 512: 'ص', 513: '✘', 514: '😚', 515: '☝', 516: '💜', 517: '♣', 518: '👹', 519: '😯', 520: '😞', 521: 'ټ', 522: '😥', 523: '﹏', 524: 'ト', 525: '発', 526: '🚬', 527: '👢', 528: 'ƒ', 529: '【', 530: '動', 531: '】', 532: 'で', 533: 'す', 534: 'る', 535: 'は', 536: '憎', 537: '手', 538: 'を', 539: 'た', 540: '後', 541: '死', 542: 'ば', 543: 'て', 544: 'こ', 545: '🚦', 546: '📝', 547: '🚶', 548: '✋', 549: '÷', 550: '『', 551: '』', 552: 'ㅡ', 553: 'ค', 554: 'ิ', 555: 'พ', 556: 'ี', 557: 'ว', 558: 'أ', 559: 'ى', 560: 'แ', 561: 'ด', 562: 'ง', 563: 'ต', 564: 'ึ', 565: 'ไ', 566: 'ะ', 567: '🍊', 568: '🌋', 569: '👋', 570: '互', 571: 'フ', 572: '💪', 573: '🐕', 574: 'پ', 575: 'ک', 576: 'چ', 577: 'ہ', 578: 'ے', 579: '۔', 580: '،', 581: 'ث', 582: 'č', 583: 'ت', 584: 'ऊ', 585: 'औ', 586: '५', 587: 'س', 588: 'झ', 589: 'ड', 590: 'अ', 591: 'उ', 592: 'ो', 593: 'स', 594: 'आ', 595: '▶', 596: '𝕀', 597: '𝕨', 598: '𝕝', 599: '𝕢', 600: '𝕞', 601: 'γ', 602: 'φ', 603: 'ट', 604: 'ु', 605: 'ल', 606: 'ए', 607: '🔵', 608: '🔖', 609: '‚', 610: '☭', 611: '🐎', 612: '💓', 613: '🐟', 614: '💃', 615: '🍦', 616: '🐙', 617: '🌸', 618: '🌟', 619: 'н', 620: 'о', 621: 'й', 622: 'р', 623: 'е', 624: 'п', 625: 'а', 626: 'б', 627: 'л', 628: 'и', 629: 'к', 630: '\\ue337', 631: '\\ue40d', 632: '\\ue402', 633: 'ø', 634: '\\ue409', 635: '😎', 636: '🐊', 637: '👊', 638: '🏼', 639: '🚗', 640: '猫', 641: '足', 642: '踏', 643: 'み', 644: 'レ', 645: '✊', 646: '😫', 647: '🍳', 648: '📺', 649: '🎥', 650: 'ナ', 651: 'ウ', 652: 'リ', 653: 'ア', 654: '❞', 655: 'ʷ', 656: 'ᵐ', 657: 'ᵇ', 658: 'ˢ', 659: 'ᵛ', 660: '▼', 661: 'อ', 662: 'ใ', 663: '―', 664: '中', 665: '川', 666: '大', 667: '志', 668: '石', 669: '井', 670: '杏', 671: '奈', 672: '少', 673: '年', 674: '的', 675: '你', 676: '★', 677: '무', 678: '솔', 679: '라', 680: '⨾', 681: 'ē', 682: 'ę', 683: 'š', 684: '𝓘', 685: '𝓵', 686: '𝓾', 687: '𝓬', 688: '𝓽', 689: '𝓰', 690: '𝓴', 691: '＞', 692: '＿', 693: '＜', 694: 'ﾉ', 695: '｀', 696: '˚', 697: '𝚕', 698: '𝚞', 699: '𝚜', 700: '𝚒', 701: '𝚟', 702: '概', 703: '要', 704: 'ホ', 705: '山', 706: '田', 707: '裕', 708: '貴', 709: '𝕧', 710: '𝕘', 711: '𝕫', 712: '𝕪', 713: '𝐀', 714: '𝐥', 715: '𝐧', 716: '𝐕', 717: '𝗼', 718: '𝐜', 719: '𝐚', 720: '𝐮', 721: '𝐬', 722: '◄', 723: '❝', 724: '𝓂', 725: '𝒶', 726: '𝒽', 727: '𝑒', 728: '𝓌', 729: '𝟧', 730: '𝟪', 731: '\\ue408', 732: '\\ue41e', 733: '\\U000feb7b', 734: 'ś', 735: 'ĺ', 736: 'ҩ', 737: 'ŋ', 738: 'ԃ', 739: '∂', 740: '\\ue11a', 741: '✗', 742: '인', 743: '종', 744: '차', 745: '별', 746: '》', 747: '‽', 748: 'ɪ', 749: 'ɡ', 750: '\\ue410', 751: '\\ue011', 752: '◂', 753: '⛽', 754: '🅰', 755: '🆖', 756: '💯'}\n"
     ]
    }
   ],
   "source": [
    "# import numpy as np\n",
    "# from tensorflow import keras\n",
    "# from keras_preprocessing.text import Tokenizer\n",
    "# tokenizer = Tokenizer(char_level=True)\n",
    "# print('total number of tweets: ', len(df.tweet_text))\n",
    "# # create mapping of unique chars to integers and reverse\n",
    "# tokenizer.fit_on_texts(df.tweet_text)\n",
    "# char_index = tokenizer.word_index\n",
    "# print('Found %s unique characters. ' % len(char_index))\n",
    "# print('char to integer dictionary: ',char_index)\n",
    "# index_char = dict(enumerate(char_index.keys()))\n",
    "# print('integer to char dictionary: ',index_char)"
   ]
  },
  {
   "cell_type": "code",
   "execution_count": 66,
   "metadata": {},
   "outputs": [
    {
     "ename": "ValueError",
     "evalue": "invalid literal for int() with base 10: 'tweet_text'",
     "output_type": "error",
     "traceback": [
      "\u001b[0;31m---------------------------------------------------------------------------\u001b[0m",
      "\u001b[0;31mValueError\u001b[0m                                Traceback (most recent call last)",
      "\u001b[0;32m<ipython-input-66-60e11129f716>\u001b[0m in \u001b[0;36m<module>\u001b[0;34m\u001b[0m\n\u001b[1;32m      9\u001b[0m \u001b[0;31m# X_train_pad = sequence.pad_sequences(tokenized_texts, maxlen=100)\u001b[0m\u001b[0;34m\u001b[0m\u001b[0;34m\u001b[0m\u001b[0;34m\u001b[0m\u001b[0m\n\u001b[1;32m     10\u001b[0m \u001b[0;34m\u001b[0m\u001b[0m\n\u001b[0;32m---> 11\u001b[0;31m \u001b[0mX_train_pad\u001b[0m \u001b[0;34m=\u001b[0m \u001b[0mpad_sequences\u001b[0m\u001b[0;34m(\u001b[0m\u001b[0mX_train\u001b[0m\u001b[0;34m,\u001b[0m \u001b[0mmaxlen\u001b[0m\u001b[0;34m=\u001b[0m\u001b[0;36m140\u001b[0m\u001b[0;34m)\u001b[0m\u001b[0;34m\u001b[0m\u001b[0;34m\u001b[0m\u001b[0m\n\u001b[0m",
      "\u001b[0;32m/opt/anaconda3/envs/learn-env/lib/python3.8/site-packages/tensorflow/python/keras/preprocessing/sequence.py\u001b[0m in \u001b[0;36mpad_sequences\u001b[0;34m(sequences, maxlen, dtype, padding, truncating, value)\u001b[0m\n\u001b[1;32m    154\u001b[0m           \u001b[0;32mor\u001b[0m \u001b[0;32min\u001b[0m \u001b[0mcase\u001b[0m \u001b[0mof\u001b[0m \u001b[0minvalid\u001b[0m \u001b[0mshape\u001b[0m \u001b[0;32mfor\u001b[0m \u001b[0ma\u001b[0m\u001b[0;31m \u001b[0m\u001b[0;31m`\u001b[0m\u001b[0msequences\u001b[0m\u001b[0;31m`\u001b[0m \u001b[0mentry\u001b[0m\u001b[0;34m.\u001b[0m\u001b[0;34m\u001b[0m\u001b[0;34m\u001b[0m\u001b[0m\n\u001b[1;32m    155\u001b[0m   \"\"\"\n\u001b[0;32m--> 156\u001b[0;31m   return sequence.pad_sequences(\n\u001b[0m\u001b[1;32m    157\u001b[0m       \u001b[0msequences\u001b[0m\u001b[0;34m,\u001b[0m \u001b[0mmaxlen\u001b[0m\u001b[0;34m=\u001b[0m\u001b[0mmaxlen\u001b[0m\u001b[0;34m,\u001b[0m \u001b[0mdtype\u001b[0m\u001b[0;34m=\u001b[0m\u001b[0mdtype\u001b[0m\u001b[0;34m,\u001b[0m\u001b[0;34m\u001b[0m\u001b[0;34m\u001b[0m\u001b[0m\n\u001b[1;32m    158\u001b[0m       padding=padding, truncating=truncating, value=value)\n",
      "\u001b[0;32m/opt/anaconda3/envs/learn-env/lib/python3.8/site-packages/keras_preprocessing/sequence.py\u001b[0m in \u001b[0;36mpad_sequences\u001b[0;34m(sequences, maxlen, dtype, padding, truncating, value)\u001b[0m\n\u001b[1;32m     96\u001b[0m \u001b[0;34m\u001b[0m\u001b[0m\n\u001b[1;32m     97\u001b[0m         \u001b[0;31m# check `trunc` has expected shape\u001b[0m\u001b[0;34m\u001b[0m\u001b[0;34m\u001b[0m\u001b[0;34m\u001b[0m\u001b[0m\n\u001b[0;32m---> 98\u001b[0;31m         \u001b[0mtrunc\u001b[0m \u001b[0;34m=\u001b[0m \u001b[0mnp\u001b[0m\u001b[0;34m.\u001b[0m\u001b[0masarray\u001b[0m\u001b[0;34m(\u001b[0m\u001b[0mtrunc\u001b[0m\u001b[0;34m,\u001b[0m \u001b[0mdtype\u001b[0m\u001b[0;34m=\u001b[0m\u001b[0mdtype\u001b[0m\u001b[0;34m)\u001b[0m\u001b[0;34m\u001b[0m\u001b[0;34m\u001b[0m\u001b[0m\n\u001b[0m\u001b[1;32m     99\u001b[0m         \u001b[0;32mif\u001b[0m \u001b[0mtrunc\u001b[0m\u001b[0;34m.\u001b[0m\u001b[0mshape\u001b[0m\u001b[0;34m[\u001b[0m\u001b[0;36m1\u001b[0m\u001b[0;34m:\u001b[0m\u001b[0;34m]\u001b[0m \u001b[0;34m!=\u001b[0m \u001b[0msample_shape\u001b[0m\u001b[0;34m:\u001b[0m\u001b[0;34m\u001b[0m\u001b[0;34m\u001b[0m\u001b[0m\n\u001b[1;32m    100\u001b[0m             raise ValueError('Shape of sample %s of sequence at position %s '\n",
      "\u001b[0;32m/opt/anaconda3/envs/learn-env/lib/python3.8/site-packages/numpy/core/_asarray.py\u001b[0m in \u001b[0;36masarray\u001b[0;34m(a, dtype, order)\u001b[0m\n\u001b[1;32m     83\u001b[0m \u001b[0;34m\u001b[0m\u001b[0m\n\u001b[1;32m     84\u001b[0m     \"\"\"\n\u001b[0;32m---> 85\u001b[0;31m     \u001b[0;32mreturn\u001b[0m \u001b[0marray\u001b[0m\u001b[0;34m(\u001b[0m\u001b[0ma\u001b[0m\u001b[0;34m,\u001b[0m \u001b[0mdtype\u001b[0m\u001b[0;34m,\u001b[0m \u001b[0mcopy\u001b[0m\u001b[0;34m=\u001b[0m\u001b[0;32mFalse\u001b[0m\u001b[0;34m,\u001b[0m \u001b[0morder\u001b[0m\u001b[0;34m=\u001b[0m\u001b[0morder\u001b[0m\u001b[0;34m)\u001b[0m\u001b[0;34m\u001b[0m\u001b[0;34m\u001b[0m\u001b[0m\n\u001b[0m\u001b[1;32m     86\u001b[0m \u001b[0;34m\u001b[0m\u001b[0m\n\u001b[1;32m     87\u001b[0m \u001b[0;34m\u001b[0m\u001b[0m\n",
      "\u001b[0;31mValueError\u001b[0m: invalid literal for int() with base 10: 'tweet_text'"
     ]
    }
   ],
   "source": [
    "# use one hot encoding since our target is categorical\n",
    "y_train_d = pd.get_dummies(y_train).values\n",
    "\n",
    "# use keras to create a Tokenizer object\n",
    "tokenizer = text.Tokenizer(num_words=20000)  # limit to the num_words most important ones\n",
    "\n",
    "# tokenizer.fit_on_texts(list(X_train))\n",
    "# tokenized_texts = tokenizer.texts_to_sequences(X_train)\n",
    "# X_train_pad = sequence.pad_sequences(tokenized_texts, maxlen=100)\n",
    "\n",
    "X_train_pad = pad_sequences(X_train, maxlen=140)"
   ]
  },
  {
   "cell_type": "code",
   "execution_count": null,
   "metadata": {},
   "outputs": [],
   "source": []
  },
  {
   "cell_type": "code",
   "execution_count": 53,
   "metadata": {},
   "outputs": [],
   "source": [
    "# create my NN model\n",
    "model = Sequential()\n",
    "\n",
    "embedding_size = 128\n",
    "model.add(Embedding(len(total_vocabulary), embedding_size))\n",
    "model.add(LSTM(25, return_sequences=True))\n",
    "model.add(GlobalMaxPool1D())\n",
    "model.add(Dropout(0.5))\n",
    "model.add(Dense(50, activation='relu'))\n",
    "model.add(Dropout(0.5))\n",
    "model.add(Dense(50, activation='relu'))\n",
    "model.add(Dropout(0.5))\n",
    "model.add(Dense(6, activation='softmax'))  # use 4 because we have 4 categories"
   ]
  },
  {
   "cell_type": "code",
   "execution_count": 54,
   "metadata": {},
   "outputs": [
    {
     "name": "stdout",
     "output_type": "stream",
     "text": [
      "Model: \"sequential_2\"\n",
      "_________________________________________________________________\n",
      "Layer (type)                 Output Shape              Param #   \n",
      "=================================================================\n",
      "embedding_2 (Embedding)      (None, None, 128)         8440832   \n",
      "_________________________________________________________________\n",
      "lstm_1 (LSTM)                (None, None, 25)          15400     \n",
      "_________________________________________________________________\n",
      "global_max_pooling1d_1 (Glob (None, 25)                0         \n",
      "_________________________________________________________________\n",
      "dropout_3 (Dropout)          (None, 25)                0         \n",
      "_________________________________________________________________\n",
      "dense_3 (Dense)              (None, 50)                1300      \n",
      "_________________________________________________________________\n",
      "dropout_4 (Dropout)          (None, 50)                0         \n",
      "_________________________________________________________________\n",
      "dense_4 (Dense)              (None, 50)                2550      \n",
      "_________________________________________________________________\n",
      "dropout_5 (Dropout)          (None, 50)                0         \n",
      "_________________________________________________________________\n",
      "dense_5 (Dense)              (None, 6)                 306       \n",
      "=================================================================\n",
      "Total params: 8,460,388\n",
      "Trainable params: 8,460,388\n",
      "Non-trainable params: 0\n",
      "_________________________________________________________________\n"
     ]
    }
   ],
   "source": [
    "model.compile(loss='categorical_crossentropy', \n",
    "              optimizer='adam', \n",
    "              metrics=['accuracy'])\n",
    "model.summary() # check the shape="
   ]
  },
  {
   "cell_type": "code",
   "execution_count": 56,
   "metadata": {},
   "outputs": [
    {
     "data": {
      "text/html": [
       "<div>\n",
       "<style scoped>\n",
       "    .dataframe tbody tr th:only-of-type {\n",
       "        vertical-align: middle;\n",
       "    }\n",
       "\n",
       "    .dataframe tbody tr th {\n",
       "        vertical-align: top;\n",
       "    }\n",
       "\n",
       "    .dataframe thead th {\n",
       "        text-align: right;\n",
       "    }\n",
       "</style>\n",
       "<table border=\"1\" class=\"dataframe\">\n",
       "  <thead>\n",
       "    <tr style=\"text-align: right;\">\n",
       "      <th></th>\n",
       "      <th>tweet_text</th>\n",
       "    </tr>\n",
       "  </thead>\n",
       "  <tbody>\n",
       "    <tr>\n",
       "      <th>32253</th>\n",
       "      <td>these are the type of bitches who used to bull...</td>\n",
       "    </tr>\n",
       "    <tr>\n",
       "      <th>45039</th>\n",
       "      <td>fuck around and get smoked rt @dizure_: type t...</td>\n",
       "    </tr>\n",
       "    <tr>\n",
       "      <th>13889</th>\n",
       "      <td>deprived of new women to hate in toronto, a vo...</td>\n",
       "    </tr>\n",
       "    <tr>\n",
       "      <th>19701</th>\n",
       "      <td>even you know your position on mic. cool down ...</td>\n",
       "    </tr>\n",
       "    <tr>\n",
       "      <th>35249</th>\n",
       "      <td>the first time i was in middle school, i was a...</td>\n",
       "    </tr>\n",
       "    <tr>\n",
       "      <th>...</th>\n",
       "      <td>...</td>\n",
       "    </tr>\n",
       "    <tr>\n",
       "      <th>34686</th>\n",
       "      <td>i’ve known a girl when i was in high school wh...</td>\n",
       "    </tr>\n",
       "    <tr>\n",
       "      <th>45684</th>\n",
       "      <td>rt\"@tayyoung_: fuck obama, dumb ass ninnnn\" wh...</td>\n",
       "    </tr>\n",
       "    <tr>\n",
       "      <th>18221</th>\n",
       "      <td>wrong! i love muslims but not radical islam an...</td>\n",
       "    </tr>\n",
       "    <tr>\n",
       "      <th>27718</th>\n",
       "      <td>@shervyn i need to be less uncomfortable talki...</td>\n",
       "    </tr>\n",
       "    <tr>\n",
       "      <th>26844</th>\n",
       "      <td>13 reasons why got me fucked up i hate the cho...</td>\n",
       "    </tr>\n",
       "  </tbody>\n",
       "</table>\n",
       "<p>35769 rows × 1 columns</p>\n",
       "</div>"
      ],
      "text/plain": [
       "                                              tweet_text\n",
       "32253  these are the type of bitches who used to bull...\n",
       "45039  fuck around and get smoked rt @dizure_: type t...\n",
       "13889  deprived of new women to hate in toronto, a vo...\n",
       "19701  even you know your position on mic. cool down ...\n",
       "35249  the first time i was in middle school, i was a...\n",
       "...                                                  ...\n",
       "34686  i’ve known a girl when i was in high school wh...\n",
       "45684  rt\"@tayyoung_: fuck obama, dumb ass ninnnn\" wh...\n",
       "18221  wrong! i love muslims but not radical islam an...\n",
       "27718  @shervyn i need to be less uncomfortable talki...\n",
       "26844  13 reasons why got me fucked up i hate the cho...\n",
       "\n",
       "[35769 rows x 1 columns]"
      ]
     },
     "execution_count": 56,
     "metadata": {},
     "output_type": "execute_result"
    }
   ],
   "source": [
    "X_train"
   ]
  },
  {
   "cell_type": "code",
   "execution_count": 57,
   "metadata": {},
   "outputs": [
    {
     "ename": "ValueError",
     "evalue": "Training data contains 1 samples, which is not sufficient to split it into a validation and training set as specified by `validation_split=0.1`. Either provide more data, or a different value for the `validation_split` argument.",
     "output_type": "error",
     "traceback": [
      "\u001b[0;31m---------------------------------------------------------------------------\u001b[0m",
      "\u001b[0;31mValueError\u001b[0m                                Traceback (most recent call last)",
      "\u001b[0;32m<ipython-input-57-ab73ef1fe1c1>\u001b[0m in \u001b[0;36m<module>\u001b[0;34m\u001b[0m\n\u001b[0;32m----> 1\u001b[0;31m \u001b[0mmodel\u001b[0m\u001b[0;34m.\u001b[0m\u001b[0mfit\u001b[0m\u001b[0;34m(\u001b[0m\u001b[0mX_train_pad\u001b[0m\u001b[0;34m,\u001b[0m \u001b[0my_train_d\u001b[0m\u001b[0;34m,\u001b[0m \u001b[0mepochs\u001b[0m\u001b[0;34m=\u001b[0m\u001b[0;36m10\u001b[0m\u001b[0;34m,\u001b[0m \u001b[0mbatch_size\u001b[0m\u001b[0;34m=\u001b[0m\u001b[0;36m32\u001b[0m\u001b[0;34m,\u001b[0m \u001b[0mvalidation_split\u001b[0m\u001b[0;34m=\u001b[0m\u001b[0;36m0.1\u001b[0m\u001b[0;34m)\u001b[0m\u001b[0;34m\u001b[0m\u001b[0;34m\u001b[0m\u001b[0m\n\u001b[0m",
      "\u001b[0;32m/opt/anaconda3/envs/learn-env/lib/python3.8/site-packages/tensorflow/python/keras/engine/training.py\u001b[0m in \u001b[0;36m_method_wrapper\u001b[0;34m(self, *args, **kwargs)\u001b[0m\n\u001b[1;32m    106\u001b[0m   \u001b[0;32mdef\u001b[0m \u001b[0m_method_wrapper\u001b[0m\u001b[0;34m(\u001b[0m\u001b[0mself\u001b[0m\u001b[0;34m,\u001b[0m \u001b[0;34m*\u001b[0m\u001b[0margs\u001b[0m\u001b[0;34m,\u001b[0m \u001b[0;34m**\u001b[0m\u001b[0mkwargs\u001b[0m\u001b[0;34m)\u001b[0m\u001b[0;34m:\u001b[0m\u001b[0;34m\u001b[0m\u001b[0;34m\u001b[0m\u001b[0m\n\u001b[1;32m    107\u001b[0m     \u001b[0;32mif\u001b[0m \u001b[0;32mnot\u001b[0m \u001b[0mself\u001b[0m\u001b[0;34m.\u001b[0m\u001b[0m_in_multi_worker_mode\u001b[0m\u001b[0;34m(\u001b[0m\u001b[0;34m)\u001b[0m\u001b[0;34m:\u001b[0m  \u001b[0;31m# pylint: disable=protected-access\u001b[0m\u001b[0;34m\u001b[0m\u001b[0;34m\u001b[0m\u001b[0m\n\u001b[0;32m--> 108\u001b[0;31m       \u001b[0;32mreturn\u001b[0m \u001b[0mmethod\u001b[0m\u001b[0;34m(\u001b[0m\u001b[0mself\u001b[0m\u001b[0;34m,\u001b[0m \u001b[0;34m*\u001b[0m\u001b[0margs\u001b[0m\u001b[0;34m,\u001b[0m \u001b[0;34m**\u001b[0m\u001b[0mkwargs\u001b[0m\u001b[0;34m)\u001b[0m\u001b[0;34m\u001b[0m\u001b[0;34m\u001b[0m\u001b[0m\n\u001b[0m\u001b[1;32m    109\u001b[0m \u001b[0;34m\u001b[0m\u001b[0m\n\u001b[1;32m    110\u001b[0m     \u001b[0;31m# Running inside `run_distribute_coordinator` already.\u001b[0m\u001b[0;34m\u001b[0m\u001b[0;34m\u001b[0m\u001b[0;34m\u001b[0m\u001b[0m\n",
      "\u001b[0;32m/opt/anaconda3/envs/learn-env/lib/python3.8/site-packages/tensorflow/python/keras/engine/training.py\u001b[0m in \u001b[0;36mfit\u001b[0;34m(self, x, y, batch_size, epochs, verbose, callbacks, validation_split, validation_data, shuffle, class_weight, sample_weight, initial_epoch, steps_per_epoch, validation_steps, validation_batch_size, validation_freq, max_queue_size, workers, use_multiprocessing)\u001b[0m\n\u001b[1;32m   1037\u001b[0m       \u001b[0;31m# `Tensor` and `NumPy` input.\u001b[0m\u001b[0;34m\u001b[0m\u001b[0;34m\u001b[0m\u001b[0;34m\u001b[0m\u001b[0m\n\u001b[1;32m   1038\u001b[0m       (x, y, sample_weight), validation_data = (\n\u001b[0;32m-> 1039\u001b[0;31m           data_adapter.train_validation_split(\n\u001b[0m\u001b[1;32m   1040\u001b[0m               (x, y, sample_weight), validation_split=validation_split))\n\u001b[1;32m   1041\u001b[0m \u001b[0;34m\u001b[0m\u001b[0m\n",
      "\u001b[0;32m/opt/anaconda3/envs/learn-env/lib/python3.8/site-packages/tensorflow/python/keras/engine/data_adapter.py\u001b[0m in \u001b[0;36mtrain_validation_split\u001b[0;34m(arrays, validation_split)\u001b[0m\n\u001b[1;32m   1390\u001b[0m \u001b[0;34m\u001b[0m\u001b[0m\n\u001b[1;32m   1391\u001b[0m   \u001b[0;32mif\u001b[0m \u001b[0msplit_at\u001b[0m \u001b[0;34m==\u001b[0m \u001b[0;36m0\u001b[0m \u001b[0;32mor\u001b[0m \u001b[0msplit_at\u001b[0m \u001b[0;34m==\u001b[0m \u001b[0mbatch_dim\u001b[0m\u001b[0;34m:\u001b[0m\u001b[0;34m\u001b[0m\u001b[0;34m\u001b[0m\u001b[0m\n\u001b[0;32m-> 1392\u001b[0;31m     raise ValueError(\n\u001b[0m\u001b[1;32m   1393\u001b[0m         \u001b[0;34m\"Training data contains {batch_dim} samples, which is not sufficient \"\u001b[0m\u001b[0;34m\u001b[0m\u001b[0;34m\u001b[0m\u001b[0m\n\u001b[1;32m   1394\u001b[0m         \u001b[0;34m\"to split it into a validation and training set as specified by \"\u001b[0m\u001b[0;34m\u001b[0m\u001b[0;34m\u001b[0m\u001b[0m\n",
      "\u001b[0;31mValueError\u001b[0m: Training data contains 1 samples, which is not sufficient to split it into a validation and training set as specified by `validation_split=0.1`. Either provide more data, or a different value for the `validation_split` argument."
     ]
    }
   ],
   "source": [
    "model.fit(X_train_pad, y_train_d, epochs=10, batch_size=32, validation_split=0.1)"
   ]
  },
  {
   "cell_type": "code",
   "execution_count": 5,
   "metadata": {},
   "outputs": [],
   "source": [
    "# glove = {}\n",
    "# with open('glove.6B.50d.txt', 'rb') as f:\n",
    "#     for line in f:\n",
    "#         parts = line.split()\n",
    "#         word = parts[0].decode('utf-8')\n",
    "#         if word in total_vocabulary:\n",
    "#             vector = np.array(parts[1:], dtype=np.float32)\n",
    "#             glove[word] = vector"
   ]
  },
  {
   "cell_type": "code",
   "execution_count": null,
   "metadata": {},
   "outputs": [],
   "source": [
    "model_1 = Sequential()\n",
    "model_1.add(tf.keras.layers.Embedding(word_size, embed_size, input_shape=(x_train.shape[1],)))\n",
    "# LSTM Layer\n",
    "model_1.add(tf.keras.layers.LSTM(units=128, activation='tanh'))\n",
    "# Output Layer\n",
    "model_1.add(tf.keras.layers.Dense(units=1, activation='sigmoid'))"
   ]
  },
  {
   "cell_type": "code",
   "execution_count": 86,
   "metadata": {},
   "outputs": [],
   "source": [
    "dictionary = FreqDist(df.tokens.explode()).most_common(20000)"
   ]
  },
  {
   "cell_type": "code",
   "execution_count": 87,
   "metadata": {},
   "outputs": [
    {
     "data": {
      "text/plain": [
       "20000"
      ]
     },
     "execution_count": 87,
     "metadata": {},
     "output_type": "execute_result"
    }
   ],
   "source": [
    "len(dictionary)"
   ]
  },
  {
   "cell_type": "code",
   "execution_count": 98,
   "metadata": {},
   "outputs": [],
   "source": [
    "all_tokens_list = list(itertools.chain.from_iterable(df.tokens))\n",
    "all_tokens_set = set(all_tokens_list)\n",
    "token_freqs = {token : 0 for token in all_tokens_set}\n",
    "\n",
    "for token in all_tokens_list:\n",
    "    token_freqs[token] += 1\n",
    "    \n",
    "top_10000 = sorted(token_freqs.items(), key=lambda x: x[1], reverse=True)[:10000]\n",
    "top_10000_dict = {x[0] : idx for idx, x in enumerate(top_10000)}"
   ]
  },
  {
   "cell_type": "code",
   "execution_count": 99,
   "metadata": {},
   "outputs": [],
   "source": [
    "numberize = {}\n",
    "for token in all_tokens_set:\n",
    "    if token in top_10000_dict.keys():\n",
    "        numberize[token] = top_10000_dict[token]\n",
    "    else:\n",
    "        numberize[token] = 10000\n",
    "        \n",
    "reverse_numberize = {10000 : '<UNK>', 10001: '<EOS>'}\n",
    "for token, idx in top_10000_dict.items():\n",
    "    reverse_numberize[idx] = token"
   ]
  },
  {
   "cell_type": "code",
   "execution_count": 113,
   "metadata": {},
   "outputs": [],
   "source": [
    "# Create numberized sentences, end-padded with <EOS> tokens to length 30.\n",
    "# Filters for sentences of length <30.\n",
    "numberized_sents = [\n",
    "  [numberize[token] for token in df.tweet_text] + [10001]*(30 - len(df.tweet_text))\n",
    "  for token in df.tweet_text\n",
    "  if len(df.tweet_text) < 30\n",
    "]"
   ]
  },
  {
   "cell_type": "code",
   "execution_count": 119,
   "metadata": {},
   "outputs": [
    {
     "ename": "KeyError",
     "evalue": "'in other words #katandandre, your food was crapilicious! #mkr'",
     "output_type": "error",
     "traceback": [
      "\u001b[0;31m---------------------------------------------------------------------------\u001b[0m",
      "\u001b[0;31mKeyError\u001b[0m                                  Traceback (most recent call last)",
      "\u001b[0;32m<ipython-input-119-98ef6c2148d7>\u001b[0m in \u001b[0;36m<module>\u001b[0;34m\u001b[0m\n\u001b[0;32m----> 1\u001b[0;31m \u001b[0;34m[\u001b[0m\u001b[0mnumberize\u001b[0m\u001b[0;34m[\u001b[0m\u001b[0mtoken\u001b[0m\u001b[0;34m]\u001b[0m \u001b[0;32mfor\u001b[0m \u001b[0mtoken\u001b[0m \u001b[0;32min\u001b[0m \u001b[0mdf\u001b[0m\u001b[0;34m.\u001b[0m\u001b[0mtweet_text\u001b[0m\u001b[0;34m]\u001b[0m\u001b[0;34m\u001b[0m\u001b[0;34m\u001b[0m\u001b[0m\n\u001b[0m",
      "\u001b[0;32m<ipython-input-119-98ef6c2148d7>\u001b[0m in \u001b[0;36m<listcomp>\u001b[0;34m(.0)\u001b[0m\n\u001b[0;32m----> 1\u001b[0;31m \u001b[0;34m[\u001b[0m\u001b[0mnumberize\u001b[0m\u001b[0;34m[\u001b[0m\u001b[0mtoken\u001b[0m\u001b[0;34m]\u001b[0m \u001b[0;32mfor\u001b[0m \u001b[0mtoken\u001b[0m \u001b[0;32min\u001b[0m \u001b[0mdf\u001b[0m\u001b[0;34m.\u001b[0m\u001b[0mtweet_text\u001b[0m\u001b[0;34m]\u001b[0m\u001b[0;34m\u001b[0m\u001b[0;34m\u001b[0m\u001b[0m\n\u001b[0m",
      "\u001b[0;31mKeyError\u001b[0m: 'in other words #katandandre, your food was crapilicious! #mkr'"
     ]
    }
   ],
   "source": [
    "[numberize[token] for token in df.tweet_text]"
   ]
  },
  {
   "cell_type": "markdown",
   "metadata": {},
   "source": [
    "## Links\n",
    "\n",
    "https://medium.com/analytics-vidhya/nlp-tutorial-for-text-classification-in-python-8f19cd17b49e\n",
    "\n",
    "data - https://www.kaggle.com/datasets/andrewmvd/cyberbullying-classification\n",
    "\n",
    "https://www.ritchieng.com/machine-learning-multinomial-naive-bayes-vectorization/\n",
    "\n",
    "https://towardsdatascience.com/multi-class-text-classification-with-scikit-learn-12f1e60e0a9f\n",
    "\n",
    "looking at diff models - https://towardsdatascience.com/multi-class-text-classification-with-scikit-learn-12f1e60e0a9f\n",
    "\n"
   ]
  },
  {
   "cell_type": "code",
   "execution_count": 120,
   "metadata": {},
   "outputs": [],
   "source": [
    "from keras.datasets import imdb\n",
    "import pandas as pd\n",
    "import numpy as np\n",
    "from keras.layers import LSTM, Activation, Dropout, Dense, Input\n",
    "from keras.layers.embeddings import Embedding\n",
    "from keras.models import Model\n",
    "import string\n",
    "import re\n",
    "from keras.preprocessing.text import Tokenizer\n",
    "from sklearn.preprocessing import LabelBinarizer\n",
    "from keras.preprocessing.sequence import pad_sequences\n",
    "import keras\n",
    "from sklearn.model_selection import train_test_split"
   ]
  },
  {
   "cell_type": "code",
   "execution_count": 131,
   "metadata": {},
   "outputs": [],
   "source": [
    "data = pd.read_csv('/Users/sabinabains/Downloads/IMDB Dataset.csv')\n",
    "data['review'] = data['review'].str.lower()"
   ]
  },
  {
   "cell_type": "code",
   "execution_count": 134,
   "metadata": {},
   "outputs": [],
   "source": [
    "def remove_stopwords(data):\n",
    "  data['review without stopwords'] = data['review'].apply(lambda x : ' '.join([word for word in x.split() if word not in (stopwords_list)]))\n",
    "  return data"
   ]
  },
  {
   "cell_type": "code",
   "execution_count": 135,
   "metadata": {},
   "outputs": [],
   "source": [
    "data = remove_stopwords(data)"
   ]
  },
  {
   "cell_type": "code",
   "execution_count": 139,
   "metadata": {},
   "outputs": [],
   "source": [
    "# reviews_list = []\n",
    "# for i in range(len(reviews)):\n",
    "#     reviews_list.append(reviews[i])\n",
    " \n",
    "# sentiment = data_without_stopwords['sentiment']"
   ]
  },
  {
   "cell_type": "code",
   "execution_count": null,
   "metadata": {},
   "outputs": [],
   "source": [
    "tokenizer = Tokenizer(num_words=5000)\n",
    "tokenizer.fit_on_texts(X_train)"
   ]
  },
  {
   "cell_type": "code",
   "execution_count": 140,
   "metadata": {},
   "outputs": [],
   "source": [
    "def read_glove_vector(glove_vec):\n",
    "    with open(glove_vec, 'r', encoding='UTF-8') as f:\n",
    "        words = set()\n",
    "        word_to_vec_map = {}\n",
    "        for line in f:\n",
    "            w_line = line.split()\n",
    "            curr_word = w_line[0]\n",
    "            word_to_vec_map[curr_word] = np.array(w_line[1:], dtype=np.float64)\n",
    "    return word_to_vec_map"
   ]
  },
  {
   "cell_type": "code",
   "execution_count": 141,
   "metadata": {},
   "outputs": [],
   "source": [
    "word_to_vec_map = read_glove_vector('/Users/sabinabains/Downloads/glove.6B.50d.txt')\n",
    "maxLen = 150"
   ]
  },
  {
   "cell_type": "code",
   "execution_count": null,
   "metadata": {},
   "outputs": [],
   "source": [
    "vocab_len = len(words_to_index)\n",
    "embed_vector_len = word_to_vec_map['moon'].shape[0]\n",
    "\n",
    "emb_matrix = np.zeros((vocab_len, embed_vector_len))\n",
    "\n",
    "for word, index in words_to_index.items():\n",
    "    embedding_vector = word_to_vec_map.get(word)\n",
    "    if embedding_vector is not None:\n",
    "        emb_matrix[index, :] = embedding_vector\n",
    "\n",
    "embedding_layer = Embedding(input_dim=vocab_len, output_dim=embed_vector_len, input_length=maxLen, weights = [emb_matrix], trainable=False)"
   ]
  },
  {
   "cell_type": "code",
   "execution_count": 153,
   "metadata": {},
   "outputs": [
    {
     "data": {
      "text/html": [
       "<div>\n",
       "<style scoped>\n",
       "    .dataframe tbody tr th:only-of-type {\n",
       "        vertical-align: middle;\n",
       "    }\n",
       "\n",
       "    .dataframe tbody tr th {\n",
       "        vertical-align: top;\n",
       "    }\n",
       "\n",
       "    .dataframe thead th {\n",
       "        text-align: right;\n",
       "    }\n",
       "</style>\n",
       "<table border=\"1\" class=\"dataframe\">\n",
       "  <thead>\n",
       "    <tr style=\"text-align: right;\">\n",
       "      <th></th>\n",
       "      <th>review</th>\n",
       "      <th>sentiment</th>\n",
       "      <th>review without stopwords</th>\n",
       "    </tr>\n",
       "  </thead>\n",
       "  <tbody>\n",
       "    <tr>\n",
       "      <th>0</th>\n",
       "      <td>one of the other reviewers has mentioned that ...</td>\n",
       "      <td>positive</td>\n",
       "      <td>one reviewers mentioned watching 1 oz episode ...</td>\n",
       "    </tr>\n",
       "    <tr>\n",
       "      <th>1</th>\n",
       "      <td>a wonderful little production. &lt;br /&gt;&lt;br /&gt;the...</td>\n",
       "      <td>positive</td>\n",
       "      <td>wonderful little production. &lt;br /&gt;&lt;br /&gt;the f...</td>\n",
       "    </tr>\n",
       "    <tr>\n",
       "      <th>2</th>\n",
       "      <td>i thought this was a wonderful way to spend ti...</td>\n",
       "      <td>positive</td>\n",
       "      <td>thought wonderful way spend time hot summer we...</td>\n",
       "    </tr>\n",
       "    <tr>\n",
       "      <th>3</th>\n",
       "      <td>basically there's a family where a little boy ...</td>\n",
       "      <td>negative</td>\n",
       "      <td>basically there's family little boy (jake) thi...</td>\n",
       "    </tr>\n",
       "    <tr>\n",
       "      <th>4</th>\n",
       "      <td>petter mattei's \"love in the time of money\" is...</td>\n",
       "      <td>positive</td>\n",
       "      <td>petter mattei's \"love time money\" visually stu...</td>\n",
       "    </tr>\n",
       "  </tbody>\n",
       "</table>\n",
       "</div>"
      ],
      "text/plain": [
       "                                              review sentiment  \\\n",
       "0  one of the other reviewers has mentioned that ...  positive   \n",
       "1  a wonderful little production. <br /><br />the...  positive   \n",
       "2  i thought this was a wonderful way to spend ti...  positive   \n",
       "3  basically there's a family where a little boy ...  negative   \n",
       "4  petter mattei's \"love in the time of money\" is...  positive   \n",
       "\n",
       "                            review without stopwords  \n",
       "0  one reviewers mentioned watching 1 oz episode ...  \n",
       "1  wonderful little production. <br /><br />the f...  \n",
       "2  thought wonderful way spend time hot summer we...  \n",
       "3  basically there's family little boy (jake) thi...  \n",
       "4  petter mattei's \"love time money\" visually stu...  "
      ]
     },
     "execution_count": 153,
     "metadata": {},
     "output_type": "execute_result"
    }
   ],
   "source": [
    "data.head()"
   ]
  },
  {
   "cell_type": "code",
   "execution_count": 164,
   "metadata": {},
   "outputs": [],
   "source": [
    "X_train_indices = tokenizer.texts_to_sequences(data['review without stopwords'])\n",
    "\n",
    "X_train_indices = pad_sequences(X_train_indices, maxlen=maxLen, padding='post')"
   ]
  },
  {
   "cell_type": "code",
   "execution_count": 165,
   "metadata": {
    "scrolled": false
   },
   "outputs": [
    {
     "data": {
      "text/plain": [
       "50000"
      ]
     },
     "execution_count": 165,
     "metadata": {},
     "output_type": "execute_result"
    }
   ],
   "source": [
    "len(X_train_indices)"
   ]
  },
  {
   "cell_type": "code",
   "execution_count": 167,
   "metadata": {},
   "outputs": [
    {
     "data": {
      "text/plain": [
       "(50000, 150)"
      ]
     },
     "execution_count": 167,
     "metadata": {},
     "output_type": "execute_result"
    }
   ],
   "source": [
    "X_train_indices.shape"
   ]
  },
  {
   "cell_type": "code",
   "execution_count": 178,
   "metadata": {},
   "outputs": [],
   "source": [
    "# create my NN model\n",
    "model = Sequential()\n",
    "\n",
    "embedding_size = 128\n",
    "model.add(Embedding(len(total_vocabulary), embedding_size))\n",
    "model.add(LSTM(25, return_sequences=True))\n",
    "model.add(GlobalMaxPool1D())\n",
    "model.add(Dropout(0.5))\n",
    "model.add(Dense(50, activation='relu'))\n",
    "model.add(Dropout(0.5))\n",
    "model.add(Dense(50, activation='relu'))\n",
    "model.add(Dropout(0.5))\n",
    "model.add(Dense(1, activation='softmax'))  # use 4 because we have 4 categories"
   ]
  },
  {
   "cell_type": "code",
   "execution_count": 179,
   "metadata": {},
   "outputs": [
    {
     "name": "stdout",
     "output_type": "stream",
     "text": [
      "Model: \"sequential_4\"\n",
      "_________________________________________________________________\n",
      "Layer (type)                 Output Shape              Param #   \n",
      "=================================================================\n",
      "embedding_4 (Embedding)      (None, None, 128)         8440832   \n",
      "_________________________________________________________________\n",
      "lstm_3 (LSTM)                (None, None, 25)          15400     \n",
      "_________________________________________________________________\n",
      "global_max_pooling1d_3 (Glob (None, 25)                0         \n",
      "_________________________________________________________________\n",
      "dropout_9 (Dropout)          (None, 25)                0         \n",
      "_________________________________________________________________\n",
      "dense_9 (Dense)              (None, 50)                1300      \n",
      "_________________________________________________________________\n",
      "dropout_10 (Dropout)         (None, 50)                0         \n",
      "_________________________________________________________________\n",
      "dense_10 (Dense)             (None, 50)                2550      \n",
      "_________________________________________________________________\n",
      "dropout_11 (Dropout)         (None, 50)                0         \n",
      "_________________________________________________________________\n",
      "dense_11 (Dense)             (None, 1)                 51        \n",
      "=================================================================\n",
      "Total params: 8,460,133\n",
      "Trainable params: 8,460,133\n",
      "Non-trainable params: 0\n",
      "_________________________________________________________________\n"
     ]
    }
   ],
   "source": [
    "model.compile(loss='categorical_crossentropy', \n",
    "              optimizer='adam', \n",
    "              metrics=['accuracy'])\n",
    "model.summary() # check the shape="
   ]
  },
  {
   "cell_type": "code",
   "execution_count": 180,
   "metadata": {},
   "outputs": [],
   "source": [
    "y = np.array(list(map(lambda x: 1 if x==\"positive\" else 0, data['sentiment'])))"
   ]
  },
  {
   "cell_type": "code",
   "execution_count": 181,
   "metadata": {},
   "outputs": [
    {
     "name": "stdout",
     "output_type": "stream",
     "text": [
      "Epoch 1/10\n",
      "1407/1407 [==============================] - 165s 118ms/step - loss: 0.0000e+00 - accuracy: 0.5007 - val_loss: 0.0000e+00 - val_accuracy: 0.4940\n",
      "Epoch 2/10\n",
      "1407/1407 [==============================] - 162s 115ms/step - loss: 0.0000e+00 - accuracy: 0.5007 - val_loss: 0.0000e+00 - val_accuracy: 0.4940\n",
      "Epoch 3/10\n",
      "1407/1407 [==============================] - 166s 118ms/step - loss: 0.0000e+00 - accuracy: 0.5007 - val_loss: 0.0000e+00 - val_accuracy: 0.4940\n",
      "Epoch 4/10\n",
      "1319/1407 [===========================>..] - ETA: 10s - loss: 0.0000e+00 - accuracy: 0.4999"
     ]
    },
    {
     "ename": "KeyboardInterrupt",
     "evalue": "",
     "output_type": "error",
     "traceback": [
      "\u001b[0;31m---------------------------------------------------------------------------\u001b[0m",
      "\u001b[0;31mKeyboardInterrupt\u001b[0m                         Traceback (most recent call last)",
      "\u001b[0;32m<ipython-input-181-b982891b108f>\u001b[0m in \u001b[0;36m<module>\u001b[0;34m\u001b[0m\n\u001b[0;32m----> 1\u001b[0;31m \u001b[0mmodel\u001b[0m\u001b[0;34m.\u001b[0m\u001b[0mfit\u001b[0m\u001b[0;34m(\u001b[0m\u001b[0mX_train_indices\u001b[0m\u001b[0;34m,\u001b[0m \u001b[0my\u001b[0m\u001b[0;34m,\u001b[0m \u001b[0mepochs\u001b[0m\u001b[0;34m=\u001b[0m\u001b[0;36m10\u001b[0m\u001b[0;34m,\u001b[0m \u001b[0mbatch_size\u001b[0m\u001b[0;34m=\u001b[0m\u001b[0;36m32\u001b[0m\u001b[0;34m,\u001b[0m \u001b[0mvalidation_split\u001b[0m\u001b[0;34m=\u001b[0m\u001b[0;36m0.1\u001b[0m\u001b[0;34m)\u001b[0m\u001b[0;34m\u001b[0m\u001b[0;34m\u001b[0m\u001b[0m\n\u001b[0m",
      "\u001b[0;32m/opt/anaconda3/envs/learn-env/lib/python3.8/site-packages/tensorflow/python/keras/engine/training.py\u001b[0m in \u001b[0;36m_method_wrapper\u001b[0;34m(self, *args, **kwargs)\u001b[0m\n\u001b[1;32m    106\u001b[0m   \u001b[0;32mdef\u001b[0m \u001b[0m_method_wrapper\u001b[0m\u001b[0;34m(\u001b[0m\u001b[0mself\u001b[0m\u001b[0;34m,\u001b[0m \u001b[0;34m*\u001b[0m\u001b[0margs\u001b[0m\u001b[0;34m,\u001b[0m \u001b[0;34m**\u001b[0m\u001b[0mkwargs\u001b[0m\u001b[0;34m)\u001b[0m\u001b[0;34m:\u001b[0m\u001b[0;34m\u001b[0m\u001b[0;34m\u001b[0m\u001b[0m\n\u001b[1;32m    107\u001b[0m     \u001b[0;32mif\u001b[0m \u001b[0;32mnot\u001b[0m \u001b[0mself\u001b[0m\u001b[0;34m.\u001b[0m\u001b[0m_in_multi_worker_mode\u001b[0m\u001b[0;34m(\u001b[0m\u001b[0;34m)\u001b[0m\u001b[0;34m:\u001b[0m  \u001b[0;31m# pylint: disable=protected-access\u001b[0m\u001b[0;34m\u001b[0m\u001b[0;34m\u001b[0m\u001b[0m\n\u001b[0;32m--> 108\u001b[0;31m       \u001b[0;32mreturn\u001b[0m \u001b[0mmethod\u001b[0m\u001b[0;34m(\u001b[0m\u001b[0mself\u001b[0m\u001b[0;34m,\u001b[0m \u001b[0;34m*\u001b[0m\u001b[0margs\u001b[0m\u001b[0;34m,\u001b[0m \u001b[0;34m**\u001b[0m\u001b[0mkwargs\u001b[0m\u001b[0;34m)\u001b[0m\u001b[0;34m\u001b[0m\u001b[0;34m\u001b[0m\u001b[0m\n\u001b[0m\u001b[1;32m    109\u001b[0m \u001b[0;34m\u001b[0m\u001b[0m\n\u001b[1;32m    110\u001b[0m     \u001b[0;31m# Running inside `run_distribute_coordinator` already.\u001b[0m\u001b[0;34m\u001b[0m\u001b[0;34m\u001b[0m\u001b[0;34m\u001b[0m\u001b[0m\n",
      "\u001b[0;32m/opt/anaconda3/envs/learn-env/lib/python3.8/site-packages/tensorflow/python/keras/engine/training.py\u001b[0m in \u001b[0;36mfit\u001b[0;34m(self, x, y, batch_size, epochs, verbose, callbacks, validation_split, validation_data, shuffle, class_weight, sample_weight, initial_epoch, steps_per_epoch, validation_steps, validation_batch_size, validation_freq, max_queue_size, workers, use_multiprocessing)\u001b[0m\n\u001b[1;32m   1096\u001b[0m                 batch_size=batch_size):\n\u001b[1;32m   1097\u001b[0m               \u001b[0mcallbacks\u001b[0m\u001b[0;34m.\u001b[0m\u001b[0mon_train_batch_begin\u001b[0m\u001b[0;34m(\u001b[0m\u001b[0mstep\u001b[0m\u001b[0;34m)\u001b[0m\u001b[0;34m\u001b[0m\u001b[0;34m\u001b[0m\u001b[0m\n\u001b[0;32m-> 1098\u001b[0;31m               \u001b[0mtmp_logs\u001b[0m \u001b[0;34m=\u001b[0m \u001b[0mtrain_function\u001b[0m\u001b[0;34m(\u001b[0m\u001b[0miterator\u001b[0m\u001b[0;34m)\u001b[0m\u001b[0;34m\u001b[0m\u001b[0;34m\u001b[0m\u001b[0m\n\u001b[0m\u001b[1;32m   1099\u001b[0m               \u001b[0;32mif\u001b[0m \u001b[0mdata_handler\u001b[0m\u001b[0;34m.\u001b[0m\u001b[0mshould_sync\u001b[0m\u001b[0;34m:\u001b[0m\u001b[0;34m\u001b[0m\u001b[0;34m\u001b[0m\u001b[0m\n\u001b[1;32m   1100\u001b[0m                 \u001b[0mcontext\u001b[0m\u001b[0;34m.\u001b[0m\u001b[0masync_wait\u001b[0m\u001b[0;34m(\u001b[0m\u001b[0;34m)\u001b[0m\u001b[0;34m\u001b[0m\u001b[0;34m\u001b[0m\u001b[0m\n",
      "\u001b[0;32m/opt/anaconda3/envs/learn-env/lib/python3.8/site-packages/tensorflow/python/eager/def_function.py\u001b[0m in \u001b[0;36m__call__\u001b[0;34m(self, *args, **kwds)\u001b[0m\n\u001b[1;32m    778\u001b[0m       \u001b[0;32melse\u001b[0m\u001b[0;34m:\u001b[0m\u001b[0;34m\u001b[0m\u001b[0;34m\u001b[0m\u001b[0m\n\u001b[1;32m    779\u001b[0m         \u001b[0mcompiler\u001b[0m \u001b[0;34m=\u001b[0m \u001b[0;34m\"nonXla\"\u001b[0m\u001b[0;34m\u001b[0m\u001b[0;34m\u001b[0m\u001b[0m\n\u001b[0;32m--> 780\u001b[0;31m         \u001b[0mresult\u001b[0m \u001b[0;34m=\u001b[0m \u001b[0mself\u001b[0m\u001b[0;34m.\u001b[0m\u001b[0m_call\u001b[0m\u001b[0;34m(\u001b[0m\u001b[0;34m*\u001b[0m\u001b[0margs\u001b[0m\u001b[0;34m,\u001b[0m \u001b[0;34m**\u001b[0m\u001b[0mkwds\u001b[0m\u001b[0;34m)\u001b[0m\u001b[0;34m\u001b[0m\u001b[0;34m\u001b[0m\u001b[0m\n\u001b[0m\u001b[1;32m    781\u001b[0m \u001b[0;34m\u001b[0m\u001b[0m\n\u001b[1;32m    782\u001b[0m       \u001b[0mnew_tracing_count\u001b[0m \u001b[0;34m=\u001b[0m \u001b[0mself\u001b[0m\u001b[0;34m.\u001b[0m\u001b[0m_get_tracing_count\u001b[0m\u001b[0;34m(\u001b[0m\u001b[0;34m)\u001b[0m\u001b[0;34m\u001b[0m\u001b[0;34m\u001b[0m\u001b[0m\n",
      "\u001b[0;32m/opt/anaconda3/envs/learn-env/lib/python3.8/site-packages/tensorflow/python/eager/def_function.py\u001b[0m in \u001b[0;36m_call\u001b[0;34m(self, *args, **kwds)\u001b[0m\n\u001b[1;32m    805\u001b[0m       \u001b[0;31m# In this case we have created variables on the first call, so we run the\u001b[0m\u001b[0;34m\u001b[0m\u001b[0;34m\u001b[0m\u001b[0;34m\u001b[0m\u001b[0m\n\u001b[1;32m    806\u001b[0m       \u001b[0;31m# defunned version which is guaranteed to never create variables.\u001b[0m\u001b[0;34m\u001b[0m\u001b[0;34m\u001b[0m\u001b[0;34m\u001b[0m\u001b[0m\n\u001b[0;32m--> 807\u001b[0;31m       \u001b[0;32mreturn\u001b[0m \u001b[0mself\u001b[0m\u001b[0;34m.\u001b[0m\u001b[0m_stateless_fn\u001b[0m\u001b[0;34m(\u001b[0m\u001b[0;34m*\u001b[0m\u001b[0margs\u001b[0m\u001b[0;34m,\u001b[0m \u001b[0;34m**\u001b[0m\u001b[0mkwds\u001b[0m\u001b[0;34m)\u001b[0m  \u001b[0;31m# pylint: disable=not-callable\u001b[0m\u001b[0;34m\u001b[0m\u001b[0;34m\u001b[0m\u001b[0m\n\u001b[0m\u001b[1;32m    808\u001b[0m     \u001b[0;32melif\u001b[0m \u001b[0mself\u001b[0m\u001b[0;34m.\u001b[0m\u001b[0m_stateful_fn\u001b[0m \u001b[0;32mis\u001b[0m \u001b[0;32mnot\u001b[0m \u001b[0;32mNone\u001b[0m\u001b[0;34m:\u001b[0m\u001b[0;34m\u001b[0m\u001b[0;34m\u001b[0m\u001b[0m\n\u001b[1;32m    809\u001b[0m       \u001b[0;31m# Release the lock early so that multiple threads can perform the call\u001b[0m\u001b[0;34m\u001b[0m\u001b[0;34m\u001b[0m\u001b[0;34m\u001b[0m\u001b[0m\n",
      "\u001b[0;32m/opt/anaconda3/envs/learn-env/lib/python3.8/site-packages/tensorflow/python/eager/function.py\u001b[0m in \u001b[0;36m__call__\u001b[0;34m(self, *args, **kwargs)\u001b[0m\n\u001b[1;32m   2827\u001b[0m     \u001b[0;32mwith\u001b[0m \u001b[0mself\u001b[0m\u001b[0;34m.\u001b[0m\u001b[0m_lock\u001b[0m\u001b[0;34m:\u001b[0m\u001b[0;34m\u001b[0m\u001b[0;34m\u001b[0m\u001b[0m\n\u001b[1;32m   2828\u001b[0m       \u001b[0mgraph_function\u001b[0m\u001b[0;34m,\u001b[0m \u001b[0margs\u001b[0m\u001b[0;34m,\u001b[0m \u001b[0mkwargs\u001b[0m \u001b[0;34m=\u001b[0m \u001b[0mself\u001b[0m\u001b[0;34m.\u001b[0m\u001b[0m_maybe_define_function\u001b[0m\u001b[0;34m(\u001b[0m\u001b[0margs\u001b[0m\u001b[0;34m,\u001b[0m \u001b[0mkwargs\u001b[0m\u001b[0;34m)\u001b[0m\u001b[0;34m\u001b[0m\u001b[0;34m\u001b[0m\u001b[0m\n\u001b[0;32m-> 2829\u001b[0;31m     \u001b[0;32mreturn\u001b[0m \u001b[0mgraph_function\u001b[0m\u001b[0;34m.\u001b[0m\u001b[0m_filtered_call\u001b[0m\u001b[0;34m(\u001b[0m\u001b[0margs\u001b[0m\u001b[0;34m,\u001b[0m \u001b[0mkwargs\u001b[0m\u001b[0;34m)\u001b[0m  \u001b[0;31m# pylint: disable=protected-access\u001b[0m\u001b[0;34m\u001b[0m\u001b[0;34m\u001b[0m\u001b[0m\n\u001b[0m\u001b[1;32m   2830\u001b[0m \u001b[0;34m\u001b[0m\u001b[0m\n\u001b[1;32m   2831\u001b[0m   \u001b[0;34m@\u001b[0m\u001b[0mproperty\u001b[0m\u001b[0;34m\u001b[0m\u001b[0;34m\u001b[0m\u001b[0m\n",
      "\u001b[0;32m/opt/anaconda3/envs/learn-env/lib/python3.8/site-packages/tensorflow/python/eager/function.py\u001b[0m in \u001b[0;36m_filtered_call\u001b[0;34m(self, args, kwargs, cancellation_manager)\u001b[0m\n\u001b[1;32m   1841\u001b[0m       \u001b[0;31m`\u001b[0m\u001b[0margs\u001b[0m\u001b[0;31m`\u001b[0m \u001b[0;32mand\u001b[0m\u001b[0;31m \u001b[0m\u001b[0;31m`\u001b[0m\u001b[0mkwargs\u001b[0m\u001b[0;31m`\u001b[0m\u001b[0;34m.\u001b[0m\u001b[0;34m\u001b[0m\u001b[0;34m\u001b[0m\u001b[0m\n\u001b[1;32m   1842\u001b[0m     \"\"\"\n\u001b[0;32m-> 1843\u001b[0;31m     return self._call_flat(\n\u001b[0m\u001b[1;32m   1844\u001b[0m         [t for t in nest.flatten((args, kwargs), expand_composites=True)\n\u001b[1;32m   1845\u001b[0m          if isinstance(t, (ops.Tensor,\n",
      "\u001b[0;32m/opt/anaconda3/envs/learn-env/lib/python3.8/site-packages/tensorflow/python/eager/function.py\u001b[0m in \u001b[0;36m_call_flat\u001b[0;34m(self, args, captured_inputs, cancellation_manager)\u001b[0m\n\u001b[1;32m   1921\u001b[0m         and executing_eagerly):\n\u001b[1;32m   1922\u001b[0m       \u001b[0;31m# No tape is watching; skip to running the function.\u001b[0m\u001b[0;34m\u001b[0m\u001b[0;34m\u001b[0m\u001b[0;34m\u001b[0m\u001b[0m\n\u001b[0;32m-> 1923\u001b[0;31m       return self._build_call_outputs(self._inference_function.call(\n\u001b[0m\u001b[1;32m   1924\u001b[0m           ctx, args, cancellation_manager=cancellation_manager))\n\u001b[1;32m   1925\u001b[0m     forward_backward = self._select_forward_and_backward_functions(\n",
      "\u001b[0;32m/opt/anaconda3/envs/learn-env/lib/python3.8/site-packages/tensorflow/python/eager/function.py\u001b[0m in \u001b[0;36mcall\u001b[0;34m(self, ctx, args, cancellation_manager)\u001b[0m\n\u001b[1;32m    543\u001b[0m       \u001b[0;32mwith\u001b[0m \u001b[0m_InterpolateFunctionError\u001b[0m\u001b[0;34m(\u001b[0m\u001b[0mself\u001b[0m\u001b[0;34m)\u001b[0m\u001b[0;34m:\u001b[0m\u001b[0;34m\u001b[0m\u001b[0;34m\u001b[0m\u001b[0m\n\u001b[1;32m    544\u001b[0m         \u001b[0;32mif\u001b[0m \u001b[0mcancellation_manager\u001b[0m \u001b[0;32mis\u001b[0m \u001b[0;32mNone\u001b[0m\u001b[0;34m:\u001b[0m\u001b[0;34m\u001b[0m\u001b[0;34m\u001b[0m\u001b[0m\n\u001b[0;32m--> 545\u001b[0;31m           outputs = execute.execute(\n\u001b[0m\u001b[1;32m    546\u001b[0m               \u001b[0mstr\u001b[0m\u001b[0;34m(\u001b[0m\u001b[0mself\u001b[0m\u001b[0;34m.\u001b[0m\u001b[0msignature\u001b[0m\u001b[0;34m.\u001b[0m\u001b[0mname\u001b[0m\u001b[0;34m)\u001b[0m\u001b[0;34m,\u001b[0m\u001b[0;34m\u001b[0m\u001b[0;34m\u001b[0m\u001b[0m\n\u001b[1;32m    547\u001b[0m               \u001b[0mnum_outputs\u001b[0m\u001b[0;34m=\u001b[0m\u001b[0mself\u001b[0m\u001b[0;34m.\u001b[0m\u001b[0m_num_outputs\u001b[0m\u001b[0;34m,\u001b[0m\u001b[0;34m\u001b[0m\u001b[0;34m\u001b[0m\u001b[0m\n",
      "\u001b[0;32m/opt/anaconda3/envs/learn-env/lib/python3.8/site-packages/tensorflow/python/eager/execute.py\u001b[0m in \u001b[0;36mquick_execute\u001b[0;34m(op_name, num_outputs, inputs, attrs, ctx, name)\u001b[0m\n\u001b[1;32m     57\u001b[0m   \u001b[0;32mtry\u001b[0m\u001b[0;34m:\u001b[0m\u001b[0;34m\u001b[0m\u001b[0;34m\u001b[0m\u001b[0m\n\u001b[1;32m     58\u001b[0m     \u001b[0mctx\u001b[0m\u001b[0;34m.\u001b[0m\u001b[0mensure_initialized\u001b[0m\u001b[0;34m(\u001b[0m\u001b[0;34m)\u001b[0m\u001b[0;34m\u001b[0m\u001b[0;34m\u001b[0m\u001b[0m\n\u001b[0;32m---> 59\u001b[0;31m     tensors = pywrap_tfe.TFE_Py_Execute(ctx._handle, device_name, op_name,\n\u001b[0m\u001b[1;32m     60\u001b[0m                                         inputs, attrs, num_outputs)\n\u001b[1;32m     61\u001b[0m   \u001b[0;32mexcept\u001b[0m \u001b[0mcore\u001b[0m\u001b[0;34m.\u001b[0m\u001b[0m_NotOkStatusException\u001b[0m \u001b[0;32mas\u001b[0m \u001b[0me\u001b[0m\u001b[0;34m:\u001b[0m\u001b[0;34m\u001b[0m\u001b[0;34m\u001b[0m\u001b[0m\n",
      "\u001b[0;31mKeyboardInterrupt\u001b[0m: "
     ]
    }
   ],
   "source": [
    "model.fit(X_train_indices, y, epochs=10, batch_size=32, validation_split=0.1)"
   ]
  },
  {
   "cell_type": "code",
   "execution_count": null,
   "metadata": {},
   "outputs": [],
   "source": []
  }
 ],
 "metadata": {
  "kernelspec": {
   "display_name": "Python (learn-env)",
   "language": "python",
   "name": "learn-env"
  },
  "language_info": {
   "codemirror_mode": {
    "name": "ipython",
    "version": 3
   },
   "file_extension": ".py",
   "mimetype": "text/x-python",
   "name": "python",
   "nbconvert_exporter": "python",
   "pygments_lexer": "ipython3",
   "version": "3.8.5"
  }
 },
 "nbformat": 4,
 "nbformat_minor": 4
}
