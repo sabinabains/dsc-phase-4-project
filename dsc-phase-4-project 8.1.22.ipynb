{
 "cells": [
  {
   "cell_type": "markdown",
   "metadata": {},
   "source": [
    "# Final Project Submission\n",
    "\n",
    "- Student name: Sabina Bains\n",
    "- Student pace: Self Paced\n",
    "- Scheduled project review date / time: 7/29 11am EST\n",
    "- Instructor name: Claude Fried"
   ]
  },
  {
   "cell_type": "markdown",
   "metadata": {},
   "source": [
    "# Business Understanding"
   ]
  },
  {
   "cell_type": "markdown",
   "metadata": {},
   "source": [
    "Over the past couple of months, Twitter has been in the headlines for the potential acquistion of their company from Elon Musk. This has upset many people, as Musk plans to reduce the level of moderation Twitter currently has on potentially harmful tweets.\n",
    "\n",
    "BeKind Org. believes this change will likely lead to a massive increase in hate speech and misinformation, and will negatively affect users. They therefore would like our help to create the model behind a browser extension that can flag tweets that are considered cyberbullying. This way, users have the option to hide tweets from their feed. \n",
    "\n",
    "We will tackle this with a supervised learning approach, therefore training our models a [dataset](https://www.kaggle.com/code/anayad/classifying-cyberbullying-tweets/data) of 47K tweets that have already been flagged for cyberbullying type. Since this analysis involves natural language processing, we will have to process our data accordingly.\n",
    "\n",
    "We will first train a multinomial naive bayes model, then compare our model's accuracy with recurrent neural networks to see which performs better on unseen data. The final model will then be used in the extension to sift through tweets and flag by type of cyberbullying."
   ]
  },
  {
   "cell_type": "markdown",
   "metadata": {},
   "source": [
    "# Data Understanding"
   ]
  },
  {
   "cell_type": "markdown",
   "metadata": {},
   "source": [
    "#### Reading in Necessary Packages"
   ]
  },
  {
   "cell_type": "code",
   "execution_count": 1,
   "metadata": {},
   "outputs": [],
   "source": [
    "# importing standard packages\n",
    "import pandas as pd\n",
    "import re\n",
    "import numpy as np\n",
    "\n",
    "# importing packagest for NLP and Multinomial Naive Bayes\n",
    "from nltk.tokenize import RegexpTokenizer\n",
    "from sklearn.naive_bayes import MultinomialNB\n",
    "from sklearn.model_selection import cross_val_score, train_test_split\n",
    "from nltk import FreqDist\n",
    "from nltk.corpus import stopwords\n",
    "from nltk.stem.snowball import SnowballStemmer\n",
    "from sklearn.feature_extraction.text import TfidfVectorizer\n",
    "from nltk.util import ngrams\n",
    "\n",
    "# importing packages for plotting results\n",
    "from sklearn.metrics import plot_confusion_matrix, ConfusionMatrixDisplay, confusion_matrix\n",
    "import matplotlib.pyplot as plt\n",
    "import matplotlib as mpl\n",
    "\n",
    "# changing colors of output\n",
    "COLOR = 'white'\n",
    "mpl.rcParams['text.color'] = COLOR\n",
    "mpl.rcParams['axes.labelcolor'] = COLOR\n",
    "mpl.rcParams['xtick.color'] = COLOR\n",
    "mpl.rcParams['ytick.color'] = COLOR\n",
    "\n",
    "\n",
    "# importing keras packages for neural networks\n",
    "import keras\n",
    "from tensorflow.keras.models import Sequential\n",
    "from tensorflow.keras.layers import Embedding\n",
    "from keras.preprocessing.sequence import pad_sequences\n",
    "from keras.layers import Input, Dense, LSTM, Embedding, Dropout, Activation, Bidirectional, GlobalMaxPool1D\n",
    "from keras import initializers, regularizers, constraints, optimizers, layers\n",
    "from keras.preprocessing import text, sequence\n",
    "\n",
    "# importing warning package to ignore\n",
    "import warnings\n",
    "warnings.filterwarnings('ignore')"
   ]
  },
  {
   "cell_type": "markdown",
   "metadata": {},
   "source": [
    "#### Reading in Data"
   ]
  },
  {
   "cell_type": "code",
   "execution_count": 2,
   "metadata": {},
   "outputs": [],
   "source": [
    "# reading in data\n",
    "df = pd.read_csv('data/cyberbullying_tweets.csv')\n",
    "\n",
    "\n",
    "# replacing offensive words\n",
    "df.tweet_text = df.tweet_text.str.replace('ggers','xxxxx')\n",
    "df.tweet_text = df.tweet_text.str.replace('gger','xxxx')"
   ]
  },
  {
   "cell_type": "markdown",
   "metadata": {},
   "source": [
    "#### Understanding Labels"
   ]
  },
  {
   "cell_type": "code",
   "execution_count": 3,
   "metadata": {},
   "outputs": [
    {
     "data": {
      "text/html": [
       "<div>\n",
       "<style scoped>\n",
       "    .dataframe tbody tr th:only-of-type {\n",
       "        vertical-align: middle;\n",
       "    }\n",
       "\n",
       "    .dataframe tbody tr th {\n",
       "        vertical-align: top;\n",
       "    }\n",
       "\n",
       "    .dataframe thead th {\n",
       "        text-align: right;\n",
       "    }\n",
       "</style>\n",
       "<table border=\"1\" class=\"dataframe\">\n",
       "  <thead>\n",
       "    <tr style=\"text-align: right;\">\n",
       "      <th></th>\n",
       "      <th>cyberbullying_type</th>\n",
       "    </tr>\n",
       "  </thead>\n",
       "  <tbody>\n",
       "    <tr>\n",
       "      <th>religion</th>\n",
       "      <td>0.167701</td>\n",
       "    </tr>\n",
       "    <tr>\n",
       "      <th>age</th>\n",
       "      <td>0.167575</td>\n",
       "    </tr>\n",
       "    <tr>\n",
       "      <th>gender</th>\n",
       "      <td>0.167177</td>\n",
       "    </tr>\n",
       "    <tr>\n",
       "      <th>ethnicity</th>\n",
       "      <td>0.166925</td>\n",
       "    </tr>\n",
       "    <tr>\n",
       "      <th>not_cyberbullying</th>\n",
       "      <td>0.166590</td>\n",
       "    </tr>\n",
       "    <tr>\n",
       "      <th>other_cyberbullying</th>\n",
       "      <td>0.164032</td>\n",
       "    </tr>\n",
       "  </tbody>\n",
       "</table>\n",
       "</div>"
      ],
      "text/plain": [
       "                     cyberbullying_type\n",
       "religion                       0.167701\n",
       "age                            0.167575\n",
       "gender                         0.167177\n",
       "ethnicity                      0.166925\n",
       "not_cyberbullying              0.166590\n",
       "other_cyberbullying            0.164032"
      ]
     },
     "execution_count": 3,
     "metadata": {},
     "output_type": "execute_result"
    }
   ],
   "source": [
    "# checking distribution of target values - looks like a balanced dataset\n",
    "pd.DataFrame(df.cyberbullying_type.value_counts(normalize=True))"
   ]
  },
  {
   "cell_type": "code",
   "execution_count": 4,
   "metadata": {},
   "outputs": [],
   "source": [
    "# standardizing words to all be lowercase\n",
    "def lowercase(x):\n",
    "    return x.lower()\n",
    "\n",
    "df.tweet_text = df.tweet_text.apply(lowercase)"
   ]
  },
  {
   "cell_type": "code",
   "execution_count": 5,
   "metadata": {},
   "outputs": [],
   "source": [
    "# tokenizing words in df to inspect differences in cyberbullying classes\n",
    "def tokenize(x):\n",
    "    token_pattern = r\"(?u)\\b\\w\\w+\\b\"\n",
    "    tokenizer = RegexpTokenizer(token_pattern)\n",
    "    return tokenizer.tokenize(x)\n",
    "\n",
    "df['tokens'] = df.tweet_text.apply(tokenize)"
   ]
  },
  {
   "cell_type": "code",
   "execution_count": 6,
   "metadata": {},
   "outputs": [],
   "source": [
    "# creating function to remove stopwords\n",
    "stopwords_list = stopwords.words('english')\n",
    "\n",
    "def remove_stopwords(token_list):\n",
    "    return [word for word in token_list if word not in stopwords_list]\n",
    "\n",
    "df.tokens = df.tokens.apply(remove_stopwords)"
   ]
  },
  {
   "cell_type": "code",
   "execution_count": 7,
   "metadata": {},
   "outputs": [],
   "source": [
    "# Above we can see we need to stem the data (muslim vs. muslims). creating here\n",
    "stemmer = SnowballStemmer(language=\"english\")\n",
    "\n",
    "def stem(tweets):\n",
    "    return [stemmer.stem(tweet) for tweet in tweets]\n",
    "\n",
    "df.tokens = df.tokens.apply(stem)"
   ]
  },
  {
   "cell_type": "code",
   "execution_count": 8,
   "metadata": {},
   "outputs": [
    {
     "data": {
      "image/png": "[encoded data removed]",
      "text/plain": [
       "<Figure size 504x288 with 1 Axes>"
      ]
     },
     "metadata": {
      "needs_background": "dark"
     },
     "output_type": "display_data"
    }
   ],
   "source": [
    "# looking at top words in entire dataset, regardless of label\n",
    "total_top_10 = FreqDist(df.tokens.explode()).most_common(10)\n",
    "\n",
    "tokens = [word[0] for word in total_top_10]\n",
    "counts = [value[1] for value in total_top_10]\n",
    "\n",
    "fig = plt.figure(figsize=(7,4))\n",
    "plt.bar(tokens,counts, color= 'grey')\n",
    "plt.title('Top Tokens')\n",
    "plt.show()"
   ]
  },
  {
   "cell_type": "code",
   "execution_count": 9,
   "metadata": {
    "scrolled": false
   },
   "outputs": [
    {
     "data": {
      "image/png": "[encoded data removed]",
      "text/plain": [
       "<Figure size 720x288 with 1 Axes>"
      ]
     },
     "metadata": {
      "needs_background": "dark"
     },
     "output_type": "display_data"
    },
    {
     "data": {
      "image/png": "[encoded data removed]",
      "text/plain": [
       "<Figure size 720x288 with 1 Axes>"
      ]
     },
     "metadata": {
      "needs_background": "dark"
     },
     "output_type": "display_data"
    },
    {
     "data": {
      "image/png": "[encoded data removed]",
      "text/plain": [
       "<Figure size 720x288 with 1 Axes>"
      ]
     },
     "metadata": {
      "needs_background": "dark"
     },
     "output_type": "display_data"
    },
    {
     "data": {
      "image/png": "[encoded data removed]",
      "text/plain": [
       "<Figure size 720x288 with 1 Axes>"
      ]
     },
     "metadata": {
      "needs_background": "dark"
     },
     "output_type": "display_data"
    },
    {
     "data": {
      "image/png": "[encoded data removed]",
      "text/plain": [
       "<Figure size 720x288 with 1 Axes>"
      ]
     },
     "metadata": {
      "needs_background": "dark"
     },
     "output_type": "display_data"
    },
    {
     "data": {
      "image/png": "[encoded data removed]",
      "text/plain": [
       "<Figure size 720x288 with 1 Axes>"
      ]
     },
     "metadata": {
      "needs_background": "dark"
     },
     "output_type": "display_data"
    }
   ],
   "source": [
    "# Creating frequency distributions for each label to visually inspect most common words in each label\n",
    "freq_dict = {}\n",
    "\n",
    "for target in df.cyberbullying_type.unique():\n",
    "    freq_dict[target] = FreqDist(df.loc[df.cyberbullying_type == target].tokens.explode())\n",
    "    \n",
    "    top_10 = list(zip(*freq_dict[target].most_common(10)))\n",
    "    tokens = top_10[0]\n",
    "    counts = top_10[1]\n",
    "\n",
    "    fig = plt.figure(figsize=(10,4))\n",
    "    plt.bar(tokens,counts, color = 'grey')\n",
    "    plt.title('Top tokens for '+target)\n",
    "    plt.show()"
   ]
  },
  {
   "cell_type": "markdown",
   "metadata": {},
   "source": [
    "#### Observing Bigrams and Trigrams"
   ]
  },
  {
   "cell_type": "code",
   "execution_count": 10,
   "metadata": {},
   "outputs": [],
   "source": [
    "# creating bigrams\n",
    "def bigram(tweet):\n",
    "    return [' '.join(word) for word in ngrams(tweet, 2)]\n",
    "\n",
    "#creating trigrams\n",
    "def _3gram(tweet):\n",
    "    return [' '.join(word) for word in ngrams(tweet, 3)]\n",
    "\n",
    "#adding to df\n",
    "df['bigram'] = df.tokens.apply(bigram)\n",
    "df['_3gram'] = df.tokens.apply(_3gram)"
   ]
  },
  {
   "cell_type": "code",
   "execution_count": 11,
   "metadata": {},
   "outputs": [
    {
     "data": {
      "text/plain": [
       "[('bulli high school', 1539),\n",
       " (nan, 1127),\n",
       " ('dumb ass nixxxx', 1104),\n",
       " ('fuck obama dumb', 979),\n",
       " ('obama dumb ass', 966),\n",
       " ('tayyoung_ fuck obama', 956),\n",
       " ('girl bulli high', 824),\n",
       " ('high school bulli', 653),\n",
       " ('rt tayyoung_ fuck', 456),\n",
       " ('girl high school', 415)]"
      ]
     },
     "execution_count": 11,
     "metadata": {},
     "output_type": "execute_result"
    }
   ],
   "source": [
    "# looking at most common trigrams in dataset\n",
    "FreqDist(df._3gram.explode()).most_common(10)"
   ]
  },
  {
   "cell_type": "markdown",
   "metadata": {},
   "source": [
    "#### Splitting Tweets and Labels into two dataframes"
   ]
  },
  {
   "cell_type": "code",
   "execution_count": 12,
   "metadata": {},
   "outputs": [],
   "source": [
    "# df of features only\n",
    "X = pd.DataFrame(df.tweet_text)\n",
    "\n",
    "# df of labels\n",
    "y = df.cyberbullying_type"
   ]
  },
  {
   "cell_type": "markdown",
   "metadata": {},
   "source": [
    "#### Performing Train Test Split for Data Validation"
   ]
  },
  {
   "cell_type": "code",
   "execution_count": 13,
   "metadata": {},
   "outputs": [],
   "source": [
    "# Split the data into Train and Test, so we can later validate our model on \"unseen\" data.\n",
    "# We must split before vectorizing, to simulate the real world where our future data may contain words we have not seen before\n",
    "X_train, X_test, y_train, y_test = train_test_split(X, y, test_size=0.25)"
   ]
  },
  {
   "cell_type": "markdown",
   "metadata": {},
   "source": [
    "# MODELING"
   ]
  },
  {
   "cell_type": "markdown",
   "metadata": {},
   "source": [
    "We will first try classify cyberbullying using a multinomial bayes classifier. "
   ]
  },
  {
   "cell_type": "code",
   "execution_count": 14,
   "metadata": {},
   "outputs": [],
   "source": [
    "# creating a function to evaluate models\n",
    "def evaluate_multinomialnb(tfidf, model, X_train, X_test):\n",
    "    \n",
    "    # vectorizing data and fitting on training data\n",
    "    X_train_v = tfidf.fit_transform(X_train.tweet_text)\n",
    "    X_test_v = tfidf.transform(X_test.tweet_text)\n",
    "    \n",
    "    # computing mean accuracy\n",
    "    train_acc = cross_val_score(model, X_train_v, y_train).mean()\n",
    "    test_acc = cross_val_score(model, X_test_v, y_test).mean()\n",
    "\n",
    "    # printing result\n",
    "    print('Training Accuracy: {:.1%}'.format(train_acc))\n",
    "    print('Testing Accuracy: {:.1%}'.format(test_acc))"
   ]
  },
  {
   "cell_type": "markdown",
   "metadata": {},
   "source": [
    "#### Baseline Model"
   ]
  },
  {
   "cell_type": "code",
   "execution_count": 15,
   "metadata": {},
   "outputs": [
    {
     "name": "stdout",
     "output_type": "stream",
     "text": [
      "Training Accuracy: 56.6%\n",
      "Testing Accuracy: 55.0%\n",
      "\n",
      "Our baseline model performs ok, if we were to randomly classify cyberbullying we would get an accuracy of 16.6%, whereas our model\n",
      "has an accuracy of over 3x better. However this model will still predict correctly only about half the time. Let's try to improve it by\n",
      "removing stopwords.\n"
     ]
    }
   ],
   "source": [
    "# initializing basic TFIDF vectorizer with 50 words with highest tfidf values\n",
    "tfidf_1 = TfidfVectorizer(max_features=50)\n",
    "model_1 = MultinomialNB()\n",
    "\n",
    "evaluate_multinomialnb(tfidf_1, model_1, X_train, X_test)\n",
    "\n",
    "print('''\\nOur baseline model performs ok, if we were to randomly classify cyberbullying we would get an accuracy of 16.6%, whereas our model\n",
    "has an accuracy of over 3x better. However this model will still predict correctly only about half the time. Let's try to improve it by\n",
    "removing stopwords.''')"
   ]
  },
  {
   "cell_type": "markdown",
   "metadata": {},
   "source": [
    "#### Model #2 - Removing Stopwords"
   ]
  },
  {
   "cell_type": "code",
   "execution_count": 16,
   "metadata": {},
   "outputs": [
    {
     "name": "stdout",
     "output_type": "stream",
     "text": [
      "Training Accuracy: 65.2%\n",
      "Testing Accuracy: 63.6%\n",
      "\n",
      " Our model has significantly improved once removing stopwords. Let's continue to tweak by stemming words, as we saw earlier that some\n",
      "words are considered different when they have the same underlying meaning\n"
     ]
    }
   ],
   "source": [
    "# Instantiate the vectorizer with stopwords removed\n",
    "tfidf_2 = TfidfVectorizer(\n",
    "    max_features=50,\n",
    "    stop_words=stopwords_list\n",
    ")\n",
    "\n",
    "evaluate_multinomialnb(tfidf_2, model_1, X_train, X_test)\n",
    "\n",
    "print('''\\n Our model has significantly improved once removing stopwords. Let's continue to tweak by stemming words, as we saw earlier that some\n",
    "words are considered different when they have the same underlying meaning''')"
   ]
  },
  {
   "cell_type": "markdown",
   "metadata": {},
   "source": [
    "#### Model #3 - Removed Stopwords and Stemmed"
   ]
  },
  {
   "cell_type": "code",
   "execution_count": 17,
   "metadata": {},
   "outputs": [
    {
     "name": "stdout",
     "output_type": "stream",
     "text": [
      "Training Accuracy: 66.0%\n",
      "Testing Accuracy: 64.3%\n",
      "\n",
      " Still improving slightly. lets add bigrams and increase max_features\n"
     ]
    }
   ],
   "source": [
    "# Instantiate the vectorizer with stemmed words\n",
    "tfidf_3 = TfidfVectorizer(\n",
    "    max_features = 50,\n",
    "    stop_words = stopwords_list,\n",
    "    token_pattern = r\"(?u)\\b\\w+\\b\" #Changing tokens to include single letter words since people on twitter type in shorthand\n",
    ")\n",
    "# calling function to evaluate\n",
    "evaluate_multinomialnb(tfidf_3, model_1, X_train, X_test)\n",
    "\n",
    "print('''\\n Still improving slightly. lets add bigrams and increase max_features''')"
   ]
  },
  {
   "cell_type": "markdown",
   "metadata": {},
   "source": [
    "#### Model #4 - Removed Stopwords and added Bigrams"
   ]
  },
  {
   "cell_type": "code",
   "execution_count": 18,
   "metadata": {},
   "outputs": [
    {
     "name": "stdout",
     "output_type": "stream",
     "text": [
      "Training Accuracy: 70.7%\n",
      "Testing Accuracy: 68.8%\n",
      "\n",
      " Lets do some feature engineering to see if we can improve accuracy while taking order of words into account\n"
     ]
    }
   ],
   "source": [
    "# Instantiate the vectorizer with added Bigrams. also increased max_features.\n",
    "tfidf_4 = TfidfVectorizer(\n",
    "    max_features = 80,\n",
    "    stop_words = stopwords_list,\n",
    "    token_pattern = r\"(?u)\\b\\w+\\b\",\n",
    "    ngram_range = (1, 2)\n",
    ")\n",
    "# calling function to evaluate\n",
    "evaluate_multinomialnb(tfidf_4, model_1, X_train, X_test)\n",
    "\n",
    "print('''\\n Lets do some feature engineering to see if we can improve accuracy while taking order of words into account''')"
   ]
  },
  {
   "cell_type": "markdown",
   "metadata": {},
   "source": [
    "#### Model #5 - feature engineering"
   ]
  },
  {
   "cell_type": "code",
   "execution_count": 19,
   "metadata": {},
   "outputs": [],
   "source": [
    "# creating a column that notes if a tweet has a link or not\n",
    "def has_link(x):\n",
    "    if 'https' in x:\n",
    "        return 1\n",
    "    else:\n",
    "        return 0\n",
    "\n",
    "X_train['has_link'] = X_train.tweet_text.apply(has_link)\n",
    "X_test['has_link'] = X_test.tweet_text.apply(has_link)"
   ]
  },
  {
   "cell_type": "code",
   "execution_count": 20,
   "metadata": {},
   "outputs": [],
   "source": [
    "# creating a column that notes if a tweet is a reply or not\n",
    "def is_reply(x):\n",
    "    if '@' in x:\n",
    "        return 1    \n",
    "    else:\n",
    "        return 0\n",
    "\n",
    "# applying new features to data\n",
    "X_train['is_reply'] = X_train.tweet_text.apply(is_reply)\n",
    "X_test['is_reply'] = X_test.tweet_text.apply(is_reply)\n",
    "\n",
    "# resetting indices\n",
    "X_train.reset_index(inplace=True)\n",
    "X_test.reset_index(inplace=True)"
   ]
  },
  {
   "cell_type": "code",
   "execution_count": 21,
   "metadata": {},
   "outputs": [
    {
     "name": "stdout",
     "output_type": "stream",
     "text": [
      "Training Accuracy: 73.5%\n",
      "Testing Accuracy: 72.3%\n",
      "\n",
      "Here we have improved our model even more. Testing accuracy indicates we are not overfitting at all.\n",
      "We can continue to add more features and start tuning, but let's first take a look at recurrent neural networks and see if we\n",
      "can get any promising results that way.\n"
     ]
    }
   ],
   "source": [
    "# fitting and transforming X_train with tfidf used in previous model\n",
    "X_train_v2 = tfidf_4.fit_transform(X_train.tweet_text)\n",
    "\n",
    "# adding engineered features to X_train\n",
    "X_train_2 = pd.DataFrame.sparse.from_spmatrix(X_train_v2, columns=tfidf_4.get_feature_names())\n",
    "X_train_2 = pd.concat([X_train_2, X_train[['has_link', 'is_reply']]], axis=1)\n",
    "\n",
    "# transforming X_test\n",
    "X_test_v2 = tfidf_4.transform(X_test.tweet_text)\n",
    "\n",
    "# adding engineered features to X_test\n",
    "X_test_2 = pd.DataFrame.sparse.from_spmatrix(X_test_v2, columns=tfidf_4.get_feature_names())\n",
    "X_test_2 = pd.concat([X_test_2, X_test[['has_link', 'is_reply']]], axis=1)\n",
    "    \n",
    "# getting accuracy of X_train and X_test\n",
    "train_acc = cross_val_score(model_1, X_train_2, y_train).mean()\n",
    "test_acc = cross_val_score(model_1, X_test_2, y_test).mean()\n",
    "\n",
    "#printing result\n",
    "print('Training Accuracy: {:.1%}'.format(train_acc))\n",
    "print('Testing Accuracy: {:.1%}'.format(test_acc))\n",
    "print('''\\nHere we have improved our model even more. Testing accuracy indicates we are not overfitting at all.\n",
    "We can continue to add more features and start tuning, but let's first take a look at recurrent neural networks and see if we\n",
    "can get any promising results that way.''')"
   ]
  },
  {
   "cell_type": "markdown",
   "metadata": {},
   "source": [
    "### Trying Recurrent Neural Networks\n",
    "\n",
    "\n",
    "Bigrams and trigrams have clearly improved the model's ability to classify cyberbulling, however we are still losing knowledge with our bag of words approach, rather than having the ability to understand the complete order of the sentence. A recurrent neural network can help with this, and potentially give us a higher accuracy. \n",
    "\n",
    "Recurrent Neural Networks take in the output of the first word, and use it as the input for the next run."
   ]
  },
  {
   "cell_type": "code",
   "execution_count": 22,
   "metadata": {},
   "outputs": [],
   "source": [
    "# tokenizing X_train_data\n",
    "tweets = X_train.tweet_text.apply(tokenize)\n",
    "\n",
    "# creating total vocabulary by using a set and comprehension. This will be used for embedding layer\n",
    "total_vocabulary = set(word.lower() for tweet in tweets for word in tweet)"
   ]
  },
  {
   "cell_type": "code",
   "execution_count": 23,
   "metadata": {},
   "outputs": [],
   "source": [
    "# encoding labels\n",
    "y_train_d = pd.get_dummies(y_train).values\n",
    "y_test_d = pd.get_dummies(y_test).values\n",
    "\n",
    "# use keras to create a Tokenizer object\n",
    "tokenizer = text.Tokenizer(num_words=20000)  # limiting number of words for processing sake\n",
    "\n",
    "# giving each word a unique integer\n",
    "tokenizer.fit_on_texts(list(X_train.tweet_text))\n",
    "\n",
    "# creating a sequence of the created unique integers for each tweet for X_train\n",
    "tokenized_X_train = tokenizer.texts_to_sequences(X_train.tweet_text)\n",
    "\n",
    "# Transforming X_test as well\n",
    "tokenized_X_test  = tokenizer.texts_to_sequences(X_test.tweet_text)\n",
    "\n",
    "# finally, padding each tweet in X_train so they are all the length of the longest tweet, in this case 100 words. \n",
    "X_train_pad = sequence.pad_sequences(tokenized_X_train, maxlen=140)\n",
    "\n",
    "# padding test data\n",
    "X_test_pad = sequence.pad_sequences(tokenized_X_test, maxlen=140)"
   ]
  },
  {
   "cell_type": "code",
   "execution_count": 24,
   "metadata": {},
   "outputs": [],
   "source": [
    "# Running first Recurrent Neural Network Model\n",
    "rnn_model_1 = Sequential() # Initializing sequential rnn_model_1\n",
    "rnn_model_1.add(Embedding(len(total_vocabulary), 140)) # Embedding to help with Dimensionality Reduction. the layer creates it's own vectors based on the language in the text data it trains on, and then passes that information on to the LSTM network one word at a time. First input is length of the total tweet vocab, and second input is the length of the tweets in words (we capped at 140 here since that is how long most tweets are capped at)\n",
    "rnn_model_1.add(LSTM(25, return_sequences=True)) # Adding the Long Short Term Memory Cells layer (RNN), gives us the ability to forget information that is less important, so our rnn_model_1 can remember only what matters, and avoid vanishing or exploding gradients\n",
    "rnn_model_1.add(GlobalMaxPool1D()) # Downsamples the input representation by taking the maximum value over the time dimension.\n",
    "rnn_model_1.add(Dense(50, activation='relu')) # Adding hidden layer with 50 neurons and ReLu activation because it is effective when derivatives are very small. Since learning happens very slowly because weights are affected very little.\n",
    "rnn_model_1.add(Dense(50, activation='relu')) # Adding another hidden layer with 50 neurons and Relu activation\n",
    "rnn_model_1.add(Dense(6, activation='softmax'))  # 6 neurons because we have 6 labels. We use softmax activation so that the network will output a vector of predictions, where each element's value corresponds to the percentage chance that the example is the class that corresponds to that element, and where the sum of all elements in the output vector is 1."
   ]
  },
  {
   "cell_type": "code",
   "execution_count": 25,
   "metadata": {},
   "outputs": [
    {
     "name": "stdout",
     "output_type": "stream",
     "text": [
      "Model: \"sequential\"\n",
      "_________________________________________________________________\n",
      "Layer (type)                 Output Shape              Param #   \n",
      "=================================================================\n",
      "embedding (Embedding)        (None, None, 140)         7091140   \n",
      "_________________________________________________________________\n",
      "lstm (LSTM)                  (None, None, 25)          16600     \n",
      "_________________________________________________________________\n",
      "global_max_pooling1d (Global (None, 25)                0         \n",
      "_________________________________________________________________\n",
      "dense (Dense)                (None, 50)                1300      \n",
      "_________________________________________________________________\n",
      "dense_1 (Dense)              (None, 50)                2550      \n",
      "_________________________________________________________________\n",
      "dense_2 (Dense)              (None, 6)                 306       \n",
      "=================================================================\n",
      "Total params: 7,111,896\n",
      "Trainable params: 7,111,896\n",
      "Non-trainable params: 0\n",
      "_________________________________________________________________\n"
     ]
    }
   ],
   "source": [
    "rnn_model_1.compile(loss='categorical_crossentropy', # using this loss function because this is a multiclass problem\n",
    "              optimizer='adam', # an extension to stochastic gradient descent\n",
    "              metrics=['accuracy']) # using accuracy to evaluate our models\n",
    "rnn_model_1.summary() # printing summary"
   ]
  },
  {
   "cell_type": "code",
   "execution_count": 26,
   "metadata": {},
   "outputs": [
    {
     "name": "stdout",
     "output_type": "stream",
     "text": [
      "Epoch 1/5\n",
      "1006/1006 [==============================] - 96s 96ms/step - loss: 0.5757 - accuracy: 0.7652 - val_loss: 0.4029 - val_accuracy: 0.8409\n",
      "Epoch 2/5\n",
      "1006/1006 [==============================] - 88s 87ms/step - loss: 0.3116 - accuracy: 0.8756 - val_loss: 0.3884 - val_accuracy: 0.8451\n",
      "Epoch 3/5\n",
      "1006/1006 [==============================] - 88s 88ms/step - loss: 0.2288 - accuracy: 0.9107 - val_loss: 0.4637 - val_accuracy: 0.8272\n",
      "Epoch 4/5\n",
      "1006/1006 [==============================] - 90s 90ms/step - loss: 0.1721 - accuracy: 0.9308 - val_loss: 0.5499 - val_accuracy: 0.8197\n",
      "Epoch 5/5\n",
      "1006/1006 [==============================] - 89s 89ms/step - loss: 0.1389 - accuracy: 0.9411 - val_loss: 0.5861 - val_accuracy: 0.8133\n"
     ]
    },
    {
     "data": {
      "text/plain": [
       "<tensorflow.python.keras.callbacks.History at 0x15106b640>"
      ]
     },
     "execution_count": 26,
     "metadata": {},
     "output_type": "execute_result"
    }
   ],
   "source": [
    "rnn_model_1.fit(X_train_pad, y_train_d, epochs=5, batch_size=32, validation_split=0.1)"
   ]
  },
  {
   "cell_type": "code",
   "execution_count": 27,
   "metadata": {},
   "outputs": [
    {
     "data": {
      "text/plain": [
       "\"\\nOur first RNN model had a high accuracy of 94% on it's training data, but a significantly lower validation accuracy of 82%. this indicates\\nwe are indeed overfitting. Let's try adding dropout layers.\\n\""
      ]
     },
     "execution_count": 27,
     "metadata": {},
     "output_type": "execute_result"
    }
   ],
   "source": [
    "'''\n",
    "Our first RNN model had a high accuracy of 94% on it's training data, but a significantly lower validation accuracy of 82%. this indicates\n",
    "we are indeed overfitting. Let's try adding dropout layers.\n",
    "'''"
   ]
  },
  {
   "cell_type": "code",
   "execution_count": 28,
   "metadata": {},
   "outputs": [],
   "source": [
    "# Running second Recurrent Neural Network rnn_model_2\n",
    "rnn_model_2 = Sequential()\n",
    "\n",
    "rnn_model_2.add(Embedding(len(total_vocabulary), 140))\n",
    "rnn_model_2.add(LSTM(25, return_sequences=True))\n",
    "rnn_model_2.add(GlobalMaxPool1D())\n",
    "rnn_model_2.add(Dropout(0.5)) # randomly ignoring half of the neurons for the upcoming layer to prevent overfitting\n",
    "rnn_model_2.add(Dense(50, activation='relu'))\n",
    "rnn_model_2.add(Dropout(0.5))\n",
    "rnn_model_2.add(Dense(50, activation='relu'))\n",
    "rnn_model_2.add(Dropout(0.5))\n",
    "rnn_model_2.add(Dense(6, activation='softmax'))"
   ]
  },
  {
   "cell_type": "code",
   "execution_count": 29,
   "metadata": {
    "scrolled": false
   },
   "outputs": [
    {
     "name": "stdout",
     "output_type": "stream",
     "text": [
      "Model: \"sequential_1\"\n",
      "_________________________________________________________________\n",
      "Layer (type)                 Output Shape              Param #   \n",
      "=================================================================\n",
      "embedding_1 (Embedding)      (None, None, 140)         7091140   \n",
      "_________________________________________________________________\n",
      "lstm_1 (LSTM)                (None, None, 25)          16600     \n",
      "_________________________________________________________________\n",
      "global_max_pooling1d_1 (Glob (None, 25)                0         \n",
      "_________________________________________________________________\n",
      "dropout (Dropout)            (None, 25)                0         \n",
      "_________________________________________________________________\n",
      "dense_3 (Dense)              (None, 50)                1300      \n",
      "_________________________________________________________________\n",
      "dropout_1 (Dropout)          (None, 50)                0         \n",
      "_________________________________________________________________\n",
      "dense_4 (Dense)              (None, 50)                2550      \n",
      "_________________________________________________________________\n",
      "dropout_2 (Dropout)          (None, 50)                0         \n",
      "_________________________________________________________________\n",
      "dense_5 (Dense)              (None, 6)                 306       \n",
      "=================================================================\n",
      "Total params: 7,111,896\n",
      "Trainable params: 7,111,896\n",
      "Non-trainable params: 0\n",
      "_________________________________________________________________\n"
     ]
    }
   ],
   "source": [
    "# compiling second model and printing summary\n",
    "rnn_model_2.compile(loss='categorical_crossentropy', \n",
    "              optimizer='adam', \n",
    "              metrics=['accuracy'])\n",
    "rnn_model_2.summary()"
   ]
  },
  {
   "cell_type": "code",
   "execution_count": 30,
   "metadata": {},
   "outputs": [
    {
     "name": "stdout",
     "output_type": "stream",
     "text": [
      "Epoch 1/5\n",
      "1006/1006 [==============================] - 89s 89ms/step - loss: 0.9103 - accuracy: 0.6275 - val_loss: 0.4823 - val_accuracy: 0.8035\n",
      "Epoch 2/5\n",
      "1006/1006 [==============================] - 90s 89ms/step - loss: 0.5227 - accuracy: 0.7788 - val_loss: 0.4502 - val_accuracy: 0.8303\n",
      "Epoch 3/5\n",
      "1006/1006 [==============================] - 90s 90ms/step - loss: 0.4506 - accuracy: 0.8097 - val_loss: 0.4671 - val_accuracy: 0.8214\n",
      "Epoch 4/5\n",
      "1006/1006 [==============================] - 89s 89ms/step - loss: 0.4095 - accuracy: 0.8269 - val_loss: 0.4758 - val_accuracy: 0.8286\n",
      "Epoch 5/5\n",
      "1006/1006 [==============================] - 83s 83ms/step - loss: 0.3782 - accuracy: 0.8395 - val_loss: 0.4705 - val_accuracy: 0.8353\n"
     ]
    }
   ],
   "source": [
    "# running second model\n",
    "history = rnn_model_2.fit(X_train_pad, y_train_d, epochs=5, batch_size=32, validation_split=0.1)"
   ]
  },
  {
   "cell_type": "code",
   "execution_count": 31,
   "metadata": {},
   "outputs": [],
   "source": [
    "# Running next Recurrent Neural Network rnn_model_3\n",
    "rnn_model_3 = Sequential()\n",
    "\n",
    "rnn_model_3.add(Embedding(len(total_vocabulary), 140))\n",
    "rnn_model_3.add(LSTM(25, kernel_regularizer=regularizers.l2(0.005), return_sequences=True))\n",
    "rnn_model_3.add(GlobalMaxPool1D())\n",
    "rnn_model_3.add(Dropout(0.5)) # randomly ignoring half of the neurons from the layer to prevent overfitting\n",
    "rnn_model_3.add(Dense(50, kernel_regularizer=regularizers.l2(0.005), activation='relu'))\n",
    "rnn_model_3.add(Dropout(0.5))\n",
    "rnn_model_3.add(Dense(50, kernel_regularizer=regularizers.l2(0.005), activation='relu'))\n",
    "rnn_model_3.add(Dropout(0.5))\n",
    "rnn_model_3.add(Dense(6, activation='softmax'))"
   ]
  },
  {
   "cell_type": "code",
   "execution_count": 32,
   "metadata": {},
   "outputs": [
    {
     "name": "stdout",
     "output_type": "stream",
     "text": [
      "Model: \"sequential_2\"\n",
      "_________________________________________________________________\n",
      "Layer (type)                 Output Shape              Param #   \n",
      "=================================================================\n",
      "embedding_2 (Embedding)      (None, None, 140)         7091140   \n",
      "_________________________________________________________________\n",
      "lstm_2 (LSTM)                (None, None, 25)          16600     \n",
      "_________________________________________________________________\n",
      "global_max_pooling1d_2 (Glob (None, 25)                0         \n",
      "_________________________________________________________________\n",
      "dropout_3 (Dropout)          (None, 25)                0         \n",
      "_________________________________________________________________\n",
      "dense_6 (Dense)              (None, 50)                1300      \n",
      "_________________________________________________________________\n",
      "dropout_4 (Dropout)          (None, 50)                0         \n",
      "_________________________________________________________________\n",
      "dense_7 (Dense)              (None, 50)                2550      \n",
      "_________________________________________________________________\n",
      "dropout_5 (Dropout)          (None, 50)                0         \n",
      "_________________________________________________________________\n",
      "dense_8 (Dense)              (None, 6)                 306       \n",
      "=================================================================\n",
      "Total params: 7,111,896\n",
      "Trainable params: 7,111,896\n",
      "Non-trainable params: 0\n",
      "_________________________________________________________________\n"
     ]
    }
   ],
   "source": [
    "# compiling second model and printing summary\n",
    "rnn_model_3.compile(loss='categorical_crossentropy', \n",
    "              optimizer='adam', \n",
    "              metrics=['accuracy'])\n",
    "rnn_model_3.summary()"
   ]
  },
  {
   "cell_type": "code",
   "execution_count": 33,
   "metadata": {},
   "outputs": [
    {
     "name": "stdout",
     "output_type": "stream",
     "text": [
      "Epoch 1/5\n",
      "1006/1006 [==============================] - 90s 89ms/step - loss: 1.3658 - accuracy: 0.4484 - val_loss: 0.9992 - val_accuracy: 0.6553\n",
      "Epoch 2/5\n",
      "1006/1006 [==============================] - 83s 82ms/step - loss: 0.8561 - accuracy: 0.6794 - val_loss: 0.6981 - val_accuracy: 0.7425\n",
      "Epoch 3/5\n",
      "1006/1006 [==============================] - 83s 82ms/step - loss: 0.7027 - accuracy: 0.7397 - val_loss: 0.6440 - val_accuracy: 0.7744\n",
      "Epoch 4/5\n",
      "1006/1006 [==============================] - 84s 83ms/step - loss: 0.6508 - accuracy: 0.7584 - val_loss: 0.6524 - val_accuracy: 0.7780\n",
      "Epoch 5/5\n",
      "1006/1006 [==============================] - 88s 87ms/step - loss: 0.5965 - accuracy: 0.7727 - val_loss: 0.6414 - val_accuracy: 0.7755\n"
     ]
    }
   ],
   "source": [
    "# running second model\n",
    "history_rnn_3 = rnn_model_3.fit(X_train_pad, y_train_d, epochs=5, batch_size=32, validation_split=0.1)"
   ]
  },
  {
   "cell_type": "code",
   "execution_count": 34,
   "metadata": {},
   "outputs": [],
   "source": [
    "# Running next Recurrent Neural Network rnn_model_4\n",
    "rnn_model_4 = Sequential()\n",
    "\n",
    "rnn_model_4.add(Embedding(len(total_vocabulary), 140))\n",
    "rnn_model_4.add(LSTM(25, kernel_regularizer=regularizers.l2(0.05), return_sequences=True))\n",
    "rnn_model_4.add(GlobalMaxPool1D())\n",
    "rnn_model_4.add(Dropout(0.5)) # randomly ignoring half of the neurons from the layer to prevent overfitting\n",
    "rnn_model_4.add(Dense(50, kernel_regularizer=regularizers.l2(0.05), activation='relu'))\n",
    "rnn_model_4.add(Dropout(0.5))\n",
    "rnn_model_4.add(Dense(6, activation='softmax'))"
   ]
  },
  {
   "cell_type": "code",
   "execution_count": 35,
   "metadata": {},
   "outputs": [
    {
     "name": "stdout",
     "output_type": "stream",
     "text": [
      "Model: \"sequential_3\"\n",
      "_________________________________________________________________\n",
      "Layer (type)                 Output Shape              Param #   \n",
      "=================================================================\n",
      "embedding_3 (Embedding)      (None, None, 140)         7091140   \n",
      "_________________________________________________________________\n",
      "lstm_3 (LSTM)                (None, None, 25)          16600     \n",
      "_________________________________________________________________\n",
      "global_max_pooling1d_3 (Glob (None, 25)                0         \n",
      "_________________________________________________________________\n",
      "dropout_6 (Dropout)          (None, 25)                0         \n",
      "_________________________________________________________________\n",
      "dense_9 (Dense)              (None, 50)                1300      \n",
      "_________________________________________________________________\n",
      "dropout_7 (Dropout)          (None, 50)                0         \n",
      "_________________________________________________________________\n",
      "dense_10 (Dense)             (None, 6)                 306       \n",
      "=================================================================\n",
      "Total params: 7,109,346\n",
      "Trainable params: 7,109,346\n",
      "Non-trainable params: 0\n",
      "_________________________________________________________________\n"
     ]
    }
   ],
   "source": [
    "# compiling second model and printing summary\n",
    "rnn_model_4.compile(loss='categorical_crossentropy', \n",
    "              optimizer='adam', \n",
    "              metrics=['accuracy'])\n",
    "rnn_model_4.summary()"
   ]
  },
  {
   "cell_type": "code",
   "execution_count": 36,
   "metadata": {},
   "outputs": [
    {
     "name": "stdout",
     "output_type": "stream",
     "text": [
      "Epoch 1/5\n",
      "1006/1006 [==============================] - 112s 112ms/step - loss: 1.9698 - accuracy: 0.3057 - val_loss: 1.3980 - val_accuracy: 0.3567\n",
      "Epoch 2/5\n",
      "1006/1006 [==============================] - 91s 90ms/step - loss: 1.3903 - accuracy: 0.3559 - val_loss: 1.3197 - val_accuracy: 0.5250\n",
      "Epoch 3/5\n",
      "1006/1006 [==============================] - 107s 106ms/step - loss: 1.1350 - accuracy: 0.5263 - val_loss: 0.9243 - val_accuracy: 0.5949\n",
      "Epoch 4/5\n",
      "1006/1006 [==============================] - 97s 97ms/step - loss: 0.9577 - accuracy: 0.5927 - val_loss: 0.8679 - val_accuracy: 0.6234\n",
      "Epoch 5/5\n",
      "1006/1006 [==============================] - 90s 89ms/step - loss: 0.8470 - accuracy: 0.6207 - val_loss: 0.8180 - val_accuracy: 0.6925\n"
     ]
    }
   ],
   "source": [
    "# running second model\n",
    "history_rnn_4 = rnn_model_4.fit(X_train_pad, y_train_d, epochs=5, batch_size=32, validation_split=0.1)"
   ]
  },
  {
   "cell_type": "code",
   "execution_count": 51,
   "metadata": {},
   "outputs": [],
   "source": [
    "# Running second Recurrent Neural Network rnn_model_5\n",
    "rnn_model_5 = Sequential()\n",
    "\n",
    "rnn_model_5.add(Embedding(len(total_vocabulary), 140))\n",
    "rnn_model_5.add(LSTM(50, return_sequences=True))\n",
    "rnn_model_5.add(GlobalMaxPool1D())\n",
    "rnn_model_5.add(Dropout(0.5)) # randomly ignoring half of the neurons for the upcoming layer to prevent overfitting\n",
    "rnn_model_5.add(Dense(50, kernel_regularizer=regularizers.l2(0.00005), activation='relu'))\n",
    "rnn_model_5.add(Dropout(0.5))\n",
    "rnn_model_5.add(Dense(50, kernel_regularizer=regularizers.l2(0.0005), activation='relu'))\n",
    "rnn_model_5.add(Dropout(0.5))\n",
    "rnn_model_5.add(Dense(6, activation='softmax'))"
   ]
  },
  {
   "cell_type": "code",
   "execution_count": 52,
   "metadata": {},
   "outputs": [
    {
     "name": "stdout",
     "output_type": "stream",
     "text": [
      "Model: \"sequential_8\"\n",
      "_________________________________________________________________\n",
      "Layer (type)                 Output Shape              Param #   \n",
      "=================================================================\n",
      "embedding_8 (Embedding)      (None, None, 140)         7091140   \n",
      "_________________________________________________________________\n",
      "lstm_8 (LSTM)                (None, None, 50)          38200     \n",
      "_________________________________________________________________\n",
      "global_max_pooling1d_8 (Glob (None, 50)                0         \n",
      "_________________________________________________________________\n",
      "dropout_18 (Dropout)         (None, 50)                0         \n",
      "_________________________________________________________________\n",
      "dense_21 (Dense)             (None, 50)                2550      \n",
      "_________________________________________________________________\n",
      "dropout_19 (Dropout)         (None, 50)                0         \n",
      "_________________________________________________________________\n",
      "dense_22 (Dense)             (None, 50)                2550      \n",
      "_________________________________________________________________\n",
      "dropout_20 (Dropout)         (None, 50)                0         \n",
      "_________________________________________________________________\n",
      "dense_23 (Dense)             (None, 6)                 306       \n",
      "=================================================================\n",
      "Total params: 7,134,746\n",
      "Trainable params: 7,134,746\n",
      "Non-trainable params: 0\n",
      "_________________________________________________________________\n"
     ]
    }
   ],
   "source": [
    "# compiling second model and printing summary\n",
    "rnn_model_5.compile(loss='categorical_crossentropy', \n",
    "              optimizer='adam', \n",
    "              metrics=['accuracy'])\n",
    "rnn_model_5.summary()"
   ]
  },
  {
   "cell_type": "code",
   "execution_count": 53,
   "metadata": {},
   "outputs": [
    {
     "name": "stdout",
     "output_type": "stream",
     "text": [
      "Epoch 1/5\n",
      "1006/1006 [==============================] - 116s 115ms/step - loss: 0.9028 - accuracy: 0.6420 - val_loss: 0.5190 - val_accuracy: 0.7836\n",
      "Epoch 2/5\n",
      "1006/1006 [==============================] - 118s 118ms/step - loss: 0.5313 - accuracy: 0.7770 - val_loss: 0.4934 - val_accuracy: 0.7898\n",
      "Epoch 3/5\n",
      "1006/1006 [==============================] - 108s 107ms/step - loss: 0.4587 - accuracy: 0.7970 - val_loss: 0.5124 - val_accuracy: 0.7699\n",
      "Epoch 4/5\n",
      "1006/1006 [==============================] - 114s 113ms/step - loss: 0.4146 - accuracy: 0.8055 - val_loss: 0.4832 - val_accuracy: 0.7984\n",
      "Epoch 5/5\n",
      "1006/1006 [==============================] - 120s 120ms/step - loss: 0.3837 - accuracy: 0.8168 - val_loss: 0.5209 - val_accuracy: 0.7973\n"
     ]
    }
   ],
   "source": [
    "history = rnn_model_5.fit(X_train_pad, y_train_d, epochs=5, batch_size=32, validation_split=0.1)"
   ]
  },
  {
   "cell_type": "markdown",
   "metadata": {},
   "source": [
    "# Model Evaluation"
   ]
  },
  {
   "cell_type": "code",
   "execution_count": 40,
   "metadata": {},
   "outputs": [
    {
     "data": {
      "image/png": "[encoded data removed]",
      "text/plain": [
       "<Figure size 432x288 with 1 Axes>"
      ]
     },
     "metadata": {
      "needs_background": "dark"
     },
     "output_type": "display_data"
    }
   ],
   "source": [
    "# Plot the loss vs the number of epoch\n",
    "history_dict = history.history\n",
    "loss_values = history_dict['loss']\n",
    "\n",
    "epochs = range(1, len(loss_values) + 1)\n",
    "plt.plot(epochs, loss_values, 'g', label='Training loss')\n",
    "\n",
    "plt.title('Training loss for RNN Model 5')\n",
    "plt.xlabel('Epochs')\n",
    "plt.ylabel('Loss')\n",
    "plt.legend('Loss')\n",
    "plt.show()"
   ]
  },
  {
   "cell_type": "code",
   "execution_count": 71,
   "metadata": {},
   "outputs": [],
   "source": [
    "# Now that we have our final trained model, we will use the X_test to predict our y_pred values, since this data has no data leakage.\n",
    "y_pred = np.argmax(rnn_model_5.predict(X_test_pad), axis = -1)"
   ]
  },
  {
   "cell_type": "code",
   "execution_count": 72,
   "metadata": {
    "scrolled": false
   },
   "outputs": [
    {
     "data": {
      "text/plain": [
       "<sklearn.metrics._plot.confusion_matrix.ConfusionMatrixDisplay at 0x16957d730>"
      ]
     },
     "execution_count": 72,
     "metadata": {},
     "output_type": "execute_result"
    },
    {
     "data": {
      "image/png": "[encoded data removed]",
      "text/plain": [
       "<Figure size 432x432 with 2 Axes>"
      ]
     },
     "metadata": {
      "needs_background": "dark"
     },
     "output_type": "display_data"
    }
   ],
   "source": [
    "# need to rearrange y to be in one column for confusion matrix \n",
    "y_test_labels = np.argmax(y_test_d, axis=1)\n",
    "y_train_labels = np.argmax(y_train_d, axis=1)\n",
    "\n",
    "# creating a confusion matrix to observe accuracy between cyberbullying types\n",
    "cm = confusion_matrix(y_labels, y_pred)\n",
    "\n",
    "# displaying final cm\n",
    "disp = ConfusionMatrixDisplay(confusion_matrix=cm, display_labels=['Age','Ethnicity','Gender','None','Other','Religion'])\n",
    "fig, ax = plt.subplots(figsize=(6,6))\n",
    "disp.plot(cmap=plt.cm.Greys, ax = ax)"
   ]
  },
  {
   "cell_type": "code",
   "execution_count": 70,
   "metadata": {},
   "outputs": [
    {
     "name": "stdout",
     "output_type": "stream",
     "text": [
      "1118/1118 [==============================] - 18s 16ms/step - loss: 0.3376 - accuracy: 0.8406\n",
      "373/373 [==============================] - 6s 16ms/step - loss: 0.5402 - accuracy: 0.7866\n",
      "\n",
      "Final Train Accuracy = 84.1%\n",
      "Final Test Accuracy = 78.7%\n",
      "\n"
     ]
    }
   ],
   "source": [
    "train_loss, train_acc = rnn_model_5.evaluate(X_train_pad, y_train_d)\n",
    "test_loss, test_acc = rnn_model_5.evaluate(X_test_pad, y_test_d)\n",
    "\n",
    "print('''\n",
    "Final Train Accuracy = {:.1%}\n",
    "Final Test Accuracy = {:.1%}\n",
    "'''.format(train_acc,test_acc))"
   ]
  },
  {
   "cell_type": "markdown",
   "metadata": {},
   "source": [
    "Final Model Evaluation:"
   ]
  },
  {
   "cell_type": "markdown",
   "metadata": {},
   "source": [
    "# Conclusions and Next Steps"
   ]
  },
  {
   "cell_type": "markdown",
   "metadata": {},
   "source": [
    "In the end, our Recursive Neural Network Model outperformed our Multinomial Naive Bayes Model in terms of accuracy on both Training and Testing data. Our first Sequential model had an accuracy of 95% on it's training data, but was severely overfitting as we saw with our low Testing data score. With each iteration we worked towards reducing overfitting, through the dropout method and L2 regularization. In the end, we settled on our final model with a Training Accuracy of XX% and Testing Accuracy of XX%. \n",
    "\n",
    "Next steps to consider when working on this project would be to create a pipeline to find the optimal testing accuracy, as it could be higher. I would also look into the low accuracy score between \"No Cyberbullying\" and \"Other Cyberbullying\", as our confusion matrix shows that the model could not identify differences in these tweets as well. This would involve potentially gathering more data, or looking more into the accuracy of labeling for those two categories. I would also incorporate data into this model that would have the ability to flag fake news, as these types of tweets could increase with less moderation on twitter, and are dangerous to our society. "
   ]
  }
 ],
 "metadata": {
  "kernelspec": {
   "display_name": "Python (learn-env)",
   "language": "python",
   "name": "learn-env"
  },
  "language_info": {
   "codemirror_mode": {
    "name": "ipython",
    "version": 3
   },
   "file_extension": ".py",
   "mimetype": "text/x-python",
   "name": "python",
   "nbconvert_exporter": "python",
   "pygments_lexer": "ipython3",
   "version": "3.8.5"
  }
 },
 "nbformat": 4,
 "nbformat_minor": 4
}
