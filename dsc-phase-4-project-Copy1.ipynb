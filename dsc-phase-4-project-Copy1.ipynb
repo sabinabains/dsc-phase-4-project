{
 "cells": [
  {
   "cell_type": "markdown",
   "metadata": {},
   "source": [
    "# Final Project Submission\n",
    "\n",
    "- Student name: Sabina Bains\n",
    "- Student pace: Self Paced\n",
    "- Scheduled project review date / time: XXX\n",
    "- Instructor name: Claude Fried"
   ]
  },
  {
   "cell_type": "markdown",
   "metadata": {},
   "source": [
    "# Summary\n",
    "\n",
    "Add Summary here\n",
    "\n",
    "\n",
    "data - https://www.kaggle.com/code/anayad/classifying-cyberbullying-tweets/data\n"
   ]
  },
  {
   "cell_type": "markdown",
   "metadata": {},
   "source": [
    "# Business Understanding"
   ]
  },
  {
   "cell_type": "markdown",
   "metadata": {},
   "source": [
    "# Data Understanding"
   ]
  },
  {
   "cell_type": "markdown",
   "metadata": {},
   "source": [
    "#### Reading in Necessary Packages"
   ]
  },
  {
   "cell_type": "code",
   "execution_count": 1,
   "metadata": {},
   "outputs": [],
   "source": [
    "import pandas as pd\n",
    "from nltk.tokenize import RegexpTokenizer\n",
    "from sklearn.naive_bayes import MultinomialNB\n",
    "from sklearn.model_selection import cross_val_score, train_test_split\n",
    "from nltk import FreqDist\n",
    "from nltk.corpus import stopwords\n",
    "from nltk.stem.snowball import SnowballStemmer\n",
    "from sklearn.feature_extraction.text import TfidfVectorizer\n",
    "import re\n",
    "from sklearn.metrics import plot_confusion_matrix\n",
    "from nltk.util import ngrams\n",
    "\n",
    "import matplotlib.pyplot as plt\n",
    "import matplotlib as mpl\n",
    "\n",
    "import warnings\n",
    "warnings.filterwarnings('ignore')\n",
    "\n",
    "COLOR = 'white'\n",
    "mpl.rcParams['text.color'] = COLOR\n",
    "mpl.rcParams['axes.labelcolor'] = COLOR\n",
    "mpl.rcParams['xtick.color'] = COLOR\n",
    "mpl.rcParams['ytick.color'] = COLOR"
   ]
  },
  {
   "cell_type": "code",
   "execution_count": 2,
   "metadata": {},
   "outputs": [],
   "source": [
    "# Split then vectorize (correct way)\n",
    "# We do the train/test split before the CountVectorizer to properly simulate the real world where our future data contains words we have not seen before"
   ]
  },
  {
   "cell_type": "markdown",
   "metadata": {},
   "source": [
    "#### Reading in Data"
   ]
  },
  {
   "cell_type": "code",
   "execution_count": 3,
   "metadata": {},
   "outputs": [],
   "source": [
    "df = pd.read_csv('data/cyberbullying_tweets.csv')\n",
    "\n",
    "\n",
    "# replacing offensive words\n",
    "df.tweet_text = df.tweet_text.str.replace('ggers','nnnn')\n",
    "df.tweet_text = df.tweet_text.str.replace('gger','nnnn')"
   ]
  },
  {
   "cell_type": "markdown",
   "metadata": {},
   "source": [
    "#### Understanding Labels"
   ]
  },
  {
   "cell_type": "code",
   "execution_count": 4,
   "metadata": {},
   "outputs": [
    {
     "data": {
      "text/html": [
       "<div>\n",
       "<style scoped>\n",
       "    .dataframe tbody tr th:only-of-type {\n",
       "        vertical-align: middle;\n",
       "    }\n",
       "\n",
       "    .dataframe tbody tr th {\n",
       "        vertical-align: top;\n",
       "    }\n",
       "\n",
       "    .dataframe thead th {\n",
       "        text-align: right;\n",
       "    }\n",
       "</style>\n",
       "<table border=\"1\" class=\"dataframe\">\n",
       "  <thead>\n",
       "    <tr style=\"text-align: right;\">\n",
       "      <th></th>\n",
       "      <th>cyberbullying_type</th>\n",
       "    </tr>\n",
       "  </thead>\n",
       "  <tbody>\n",
       "    <tr>\n",
       "      <th>religion</th>\n",
       "      <td>0.167701</td>\n",
       "    </tr>\n",
       "    <tr>\n",
       "      <th>age</th>\n",
       "      <td>0.167575</td>\n",
       "    </tr>\n",
       "    <tr>\n",
       "      <th>gender</th>\n",
       "      <td>0.167177</td>\n",
       "    </tr>\n",
       "    <tr>\n",
       "      <th>ethnicity</th>\n",
       "      <td>0.166925</td>\n",
       "    </tr>\n",
       "    <tr>\n",
       "      <th>not_cyberbullying</th>\n",
       "      <td>0.166590</td>\n",
       "    </tr>\n",
       "    <tr>\n",
       "      <th>other_cyberbullying</th>\n",
       "      <td>0.164032</td>\n",
       "    </tr>\n",
       "  </tbody>\n",
       "</table>\n",
       "</div>"
      ],
      "text/plain": [
       "                     cyberbullying_type\n",
       "religion                       0.167701\n",
       "age                            0.167575\n",
       "gender                         0.167177\n",
       "ethnicity                      0.166925\n",
       "not_cyberbullying              0.166590\n",
       "other_cyberbullying            0.164032"
      ]
     },
     "execution_count": 4,
     "metadata": {},
     "output_type": "execute_result"
    }
   ],
   "source": [
    "# checking distribution of target values - looks like a balanced dataset\n",
    "pd.DataFrame(df.cyberbullying_type.value_counts(normalize=True))"
   ]
  },
  {
   "cell_type": "code",
   "execution_count": 5,
   "metadata": {},
   "outputs": [],
   "source": [
    "# standardizing words to all be lowercase\n",
    "def lowercase(x):\n",
    "    return x.lower()\n",
    "\n",
    "df.tweet_text = df.tweet_text.apply(lowercase)"
   ]
  },
  {
   "cell_type": "code",
   "execution_count": 6,
   "metadata": {},
   "outputs": [],
   "source": [
    "# tokenizing words in df to inspect differences in cyberbullying classes\n",
    "def tokenize(x):\n",
    "    token_pattern = r\"(?u)\\b\\w\\w+\\b\"\n",
    "    tokenizer = RegexpTokenizer(token_pattern)\n",
    "    return tokenizer.tokenize(x)\n",
    "\n",
    "df['tokens'] = df.tweet_text.apply(tokenize)"
   ]
  },
  {
   "cell_type": "code",
   "execution_count": 7,
   "metadata": {},
   "outputs": [
    {
     "data": {
      "text/plain": [
       "[('mkr', 2543), ('muslims', 2513), ('muslim', 2491)]"
      ]
     },
     "execution_count": 7,
     "metadata": {},
     "output_type": "execute_result"
    }
   ],
   "source": [
    "# removing stopwords from data\n",
    "stopwords_list = stopwords.words('english')\n",
    "\n",
    "def remove_stopwords(token_list):\n",
    "    return [word for word in token_list if word not in stopwords_list]\n",
    "\n",
    "df.tokens = df.tokens.apply(remove_stopwords)\n",
    "\n",
    "FreqDist(df.tokens.explode()).most_common(30)[22:25]"
   ]
  },
  {
   "cell_type": "code",
   "execution_count": 8,
   "metadata": {},
   "outputs": [],
   "source": [
    "# Above we can see we need to stem the data (muslim vs. muslims)\n",
    "stemmer = SnowballStemmer(language=\"english\")\n",
    "\n",
    "def stem(tweets):\n",
    "    return [stemmer.stem(tweet) for tweet in tweets]\n",
    "\n",
    "df.tokens = df.tokens.apply(stem)"
   ]
  },
  {
   "cell_type": "code",
   "execution_count": 9,
   "metadata": {
    "scrolled": false
   },
   "outputs": [
    {
     "data": {
      "image/png": "[encoded data removed]",
      "text/plain": [
       "<Figure size 720x288 with 1 Axes>"
      ]
     },
     "metadata": {
      "needs_background": "dark"
     },
     "output_type": "display_data"
    },
    {
     "data": {
      "image/png": "[encoded data removed]",
      "text/plain": [
       "<Figure size 720x288 with 1 Axes>"
      ]
     },
     "metadata": {
      "needs_background": "dark"
     },
     "output_type": "display_data"
    },
    {
     "data": {
      "image/png": "[encoded data removed]",
      "text/plain": [
       "<Figure size 720x288 with 1 Axes>"
      ]
     },
     "metadata": {
      "needs_background": "dark"
     },
     "output_type": "display_data"
    },
    {
     "data": {
      "image/png": "[encoded data removed]",
      "text/plain": [
       "<Figure size 720x288 with 1 Axes>"
      ]
     },
     "metadata": {
      "needs_background": "dark"
     },
     "output_type": "display_data"
    },
    {
     "data": {
      "image/png": "[encoded data removed]",
      "text/plain": [
       "<Figure size 720x288 with 1 Axes>"
      ]
     },
     "metadata": {
      "needs_background": "dark"
     },
     "output_type": "display_data"
    },
    {
     "data": {
      "image/png": "[encoded data removed]",
      "text/plain": [
       "<Figure size 720x288 with 1 Axes>"
      ]
     },
     "metadata": {
      "needs_background": "dark"
     },
     "output_type": "display_data"
    }
   ],
   "source": [
    "# Creating frequency distributions for each label to visually inspect most common words in each tag\n",
    "freq_dict = {}\n",
    "\n",
    "for target in df.cyberbullying_type.unique():\n",
    "    freq_dict[target] = FreqDist(df.loc[df.cyberbullying_type == target].tokens.explode())\n",
    "    \n",
    "    top_10 = list(zip(*freq_dict[target].most_common(10)))\n",
    "    tokens = top_10[0]\n",
    "    counts = top_10[1]\n",
    "\n",
    "    fig = plt.figure(figsize=(10,4))\n",
    "    plt.bar(tokens,counts)\n",
    "    plt.title('Top tokens for '+target)\n",
    "    plt.show()"
   ]
  },
  {
   "cell_type": "markdown",
   "metadata": {},
   "source": [
    "#### Splitting Tweets and Labels into two dataframes"
   ]
  },
  {
   "cell_type": "code",
   "execution_count": 10,
   "metadata": {},
   "outputs": [],
   "source": [
    "X = pd.DataFrame(df.tweet_text)\n",
    "y = df.cyberbullying_type"
   ]
  },
  {
   "cell_type": "markdown",
   "metadata": {},
   "source": [
    "#### Performing Train Test Split for Data Validation"
   ]
  },
  {
   "cell_type": "code",
   "execution_count": 11,
   "metadata": {},
   "outputs": [],
   "source": [
    "X_train, X_test, y_train, y_test = train_test_split(X, y, test_size=0.25)"
   ]
  },
  {
   "cell_type": "code",
   "execution_count": 69,
   "metadata": {},
   "outputs": [],
   "source": [
    "# plot_confusion_matrix(baseline_model, X_train, df['cyberbullying_type']);"
   ]
  },
  {
   "cell_type": "markdown",
   "metadata": {},
   "source": [
    "## creating bigrams"
   ]
  },
  {
   "cell_type": "code",
   "execution_count": 70,
   "metadata": {},
   "outputs": [],
   "source": [
    "def bigram(tweet):\n",
    "    return [' '.join(word) for word in ngrams(tweet, 2)]\n",
    "\n",
    "def _3gram(tweet):\n",
    "    return [' '.join(word) for word in ngrams(tweet, 3)]\n",
    "\n",
    "df['bigram'] = df.tokens.apply(bigram)\n",
    "df['_3gram'] = df.tokens.apply(_3gram)"
   ]
  },
  {
   "cell_type": "code",
   "execution_count": 72,
   "metadata": {},
   "outputs": [
    {
     "data": {
      "text/plain": [
       "[('bulli high school', 1539),\n",
       " ('dumb ass ninnnn', 1170),\n",
       " (nan, 1127),\n",
       " ('fuck obama dumb', 979),\n",
       " ('obama dumb ass', 966),\n",
       " ('tayyoung_ fuck obama', 956),\n",
       " ('girl bulli high', 824),\n",
       " ('high school bulli', 653),\n",
       " ('rt tayyoung_ fuck', 456),\n",
       " ('girl high school', 415)]"
      ]
     },
     "execution_count": 72,
     "metadata": {},
     "output_type": "execute_result"
    }
   ],
   "source": [
    "FreqDist(df._3gram.explode()).most_common(10)"
   ]
  },
  {
   "cell_type": "code",
   "execution_count": 15,
   "metadata": {},
   "outputs": [],
   "source": [
    "# from sklearn.pipeline import Pipeline\n",
    "# from sklearn.naive_bayes import MultinomialNB\n",
    "# from sklearn.feature_extraction.text import CountVectorizer, TfidfTransformer\n",
    "# from sklearn.model_selection import train_test_split, GridSearchCV\n",
    "# text_clf = Pipeline([('vect', CountVectorizer()),\n",
    "#                      ('tfidf', TfidfTransformer()),\n",
    "#                      ('clf', MultinomialNB())])\n",
    "# tuned_parameters = {\n",
    "#     'vect__ngram_range': [(1, 1), (1, 2), (2, 2)],\n",
    "#     'tfidf__use_idf': (True, False),\n",
    "#     'tfidf__norm': ('l1', 'l2'),\n",
    "#     'clf__alpha': [1, 1e-1, 1e-2]\n",
    "# }"
   ]
  },
  {
   "cell_type": "markdown",
   "metadata": {},
   "source": [
    "# MODELING"
   ]
  },
  {
   "cell_type": "code",
   "execution_count": 104,
   "metadata": {},
   "outputs": [],
   "source": [
    "# creating a function to evaluate models\n",
    "\n",
    "def evaluate_multinomialnb(tfidf, model, X_train, X_test):\n",
    "    X_train = tfidf.fit_transform(X_train.tweet_text)\n",
    "    X_test = tfidf.transform(X_test.tweet_text)\n",
    "    \n",
    "    # Running next model\n",
    "    train_acc = cross_val_score(model_3, X_train_v3, y_train).mean()\n",
    "    test_acc = cross_val_score(model_3, X_test_v3, y_test).mean()\n",
    "\n",
    "    print('Training Accuracy: {:.1%}'.format(train_acc))\n",
    "    print('Testing Accuracy: {:.1%}'.format(test_acc))"
   ]
  },
  {
   "cell_type": "markdown",
   "metadata": {},
   "source": [
    "#### Baseline Model"
   ]
  },
  {
   "cell_type": "code",
   "execution_count": 77,
   "metadata": {},
   "outputs": [
    {
     "data": {
      "text/html": [
       "<div>\n",
       "<style scoped>\n",
       "    .dataframe tbody tr th:only-of-type {\n",
       "        vertical-align: middle;\n",
       "    }\n",
       "\n",
       "    .dataframe tbody tr th {\n",
       "        vertical-align: top;\n",
       "    }\n",
       "\n",
       "    .dataframe thead th {\n",
       "        text-align: right;\n",
       "    }\n",
       "</style>\n",
       "<table border=\"1\" class=\"dataframe\">\n",
       "  <thead>\n",
       "    <tr style=\"text-align: right;\">\n",
       "      <th></th>\n",
       "      <th>about</th>\n",
       "      <th>all</th>\n",
       "      <th>and</th>\n",
       "      <th>are</th>\n",
       "      <th>as</th>\n",
       "      <th>at</th>\n",
       "      <th>be</th>\n",
       "      <th>bullied</th>\n",
       "      <th>bully</th>\n",
       "      <th>but</th>\n",
       "      <th>...</th>\n",
       "      <th>they</th>\n",
       "      <th>this</th>\n",
       "      <th>to</th>\n",
       "      <th>was</th>\n",
       "      <th>we</th>\n",
       "      <th>what</th>\n",
       "      <th>who</th>\n",
       "      <th>with</th>\n",
       "      <th>you</th>\n",
       "      <th>your</th>\n",
       "    </tr>\n",
       "  </thead>\n",
       "  <tbody>\n",
       "    <tr>\n",
       "      <th>0</th>\n",
       "      <td>0.0</td>\n",
       "      <td>0.0</td>\n",
       "      <td>0.205042</td>\n",
       "      <td>0.137278</td>\n",
       "      <td>0.0</td>\n",
       "      <td>0.0</td>\n",
       "      <td>0.0</td>\n",
       "      <td>0.0</td>\n",
       "      <td>0.0</td>\n",
       "      <td>0.0</td>\n",
       "      <td>...</td>\n",
       "      <td>0.0</td>\n",
       "      <td>0.0</td>\n",
       "      <td>0.297075</td>\n",
       "      <td>0.156539</td>\n",
       "      <td>0.0</td>\n",
       "      <td>0.0</td>\n",
       "      <td>0.0</td>\n",
       "      <td>0.0</td>\n",
       "      <td>0.109612</td>\n",
       "      <td>0.853847</td>\n",
       "    </tr>\n",
       "  </tbody>\n",
       "</table>\n",
       "<p>1 rows × 50 columns</p>\n",
       "</div>"
      ],
      "text/plain": [
       "   about  all       and       are   as   at   be  bullied  bully  but  ...  \\\n",
       "0    0.0  0.0  0.205042  0.137278  0.0  0.0  0.0      0.0    0.0  0.0  ...   \n",
       "\n",
       "   they  this        to       was   we  what  who  with       you      your  \n",
       "0   0.0   0.0  0.297075  0.156539  0.0   0.0  0.0   0.0  0.109612  0.853847  \n",
       "\n",
       "[1 rows x 50 columns]"
      ]
     },
     "execution_count": 77,
     "metadata": {},
     "output_type": "execute_result"
    }
   ],
   "source": [
    "# initializing basic TFIDF vectorizer with 50 words with highest tfidf values\n",
    "tfidf = TfidfVectorizer(max_features=50)\n",
    "\n",
    "# Vectorizing tweets for modeling\n",
    "X_train_v = tfidf.fit_transform(X_train.tweet_text)\n",
    "X_test_v = tfidf.transform(X_test.tweet_text)\n",
    "\n",
    "# viewing features\n",
    "pd.DataFrame.sparse.from_spmatrix(X_train_v, columns=tfidf.get_feature_names()).head(1)"
   ]
  },
  {
   "cell_type": "code",
   "execution_count": 78,
   "metadata": {},
   "outputs": [
    {
     "name": "stdout",
     "output_type": "stream",
     "text": [
      "Training Accuracy: 56.5%\n",
      "Testing Accuracy: 55.7%\n",
      "\n",
      "Our baseline model performs relatively well, if we were to randomly classify cyberbullying we would get an accuracy of 16.6%, whereas our model has an\n",
      "accuracy of over 3x better. However this model will still predict correctly only about half the time. Let's try to improve it by removing stopwords.\n"
     ]
    }
   ],
   "source": [
    "# Instantiating a MultinomialNB classifier\n",
    "model_1 = MultinomialNB()\n",
    "\n",
    "# Running baseline model\n",
    "score_train_1 = cross_val_score(model_1, X_train_v, y_train).mean()\n",
    "score_test_1 = cross_val_score(model_1, X_test_v, y_test).mean()\n",
    "\n",
    "print('Training Accuracy: {:.1%}'.format(score_train_1))\n",
    "print('Testing Accuracy: {:.1%}'.format(score_test_1))\n",
    "print('''\\nOur baseline model performs relatively well, if we were to randomly classify cyberbullying we would get an accuracy of 16.6%, whereas our model has an\n",
    "accuracy of over 3x better. However this model will still predict correctly only about half the time. Let's try to improve it by removing stopwords.''')"
   ]
  },
  {
   "cell_type": "markdown",
   "metadata": {},
   "source": [
    "#### Model #2 - removing stopwords"
   ]
  },
  {
   "cell_type": "code",
   "execution_count": 79,
   "metadata": {},
   "outputs": [],
   "source": [
    "stopwords_list = stopwords.words('english')"
   ]
  },
  {
   "cell_type": "code",
   "execution_count": 82,
   "metadata": {},
   "outputs": [
    {
     "data": {
      "text/html": [
       "<div>\n",
       "<style scoped>\n",
       "    .dataframe tbody tr th:only-of-type {\n",
       "        vertical-align: middle;\n",
       "    }\n",
       "\n",
       "    .dataframe tbody tr th {\n",
       "        vertical-align: top;\n",
       "    }\n",
       "\n",
       "    .dataframe thead th {\n",
       "        text-align: right;\n",
       "    }\n",
       "</style>\n",
       "<table border=\"1\" class=\"dataframe\">\n",
       "  <thead>\n",
       "    <tr style=\"text-align: right;\">\n",
       "      <th></th>\n",
       "      <th>about</th>\n",
       "      <th>all</th>\n",
       "      <th>and</th>\n",
       "      <th>are</th>\n",
       "      <th>as</th>\n",
       "      <th>at</th>\n",
       "      <th>be</th>\n",
       "      <th>bullied</th>\n",
       "      <th>bully</th>\n",
       "      <th>but</th>\n",
       "      <th>...</th>\n",
       "      <th>they</th>\n",
       "      <th>this</th>\n",
       "      <th>to</th>\n",
       "      <th>was</th>\n",
       "      <th>we</th>\n",
       "      <th>what</th>\n",
       "      <th>who</th>\n",
       "      <th>with</th>\n",
       "      <th>you</th>\n",
       "      <th>your</th>\n",
       "    </tr>\n",
       "  </thead>\n",
       "  <tbody>\n",
       "    <tr>\n",
       "      <th>0</th>\n",
       "      <td>0.0</td>\n",
       "      <td>0.0</td>\n",
       "      <td>0.0</td>\n",
       "      <td>0.0</td>\n",
       "      <td>0.0</td>\n",
       "      <td>0.0</td>\n",
       "      <td>0.0</td>\n",
       "      <td>0.0</td>\n",
       "      <td>0.0</td>\n",
       "      <td>1.0</td>\n",
       "      <td>...</td>\n",
       "      <td>0.0</td>\n",
       "      <td>0.0</td>\n",
       "      <td>0.0</td>\n",
       "      <td>0.0</td>\n",
       "      <td>0.0</td>\n",
       "      <td>0.0</td>\n",
       "      <td>0.0</td>\n",
       "      <td>0.0</td>\n",
       "      <td>0.0</td>\n",
       "      <td>0.0</td>\n",
       "    </tr>\n",
       "  </tbody>\n",
       "</table>\n",
       "<p>1 rows × 50 columns</p>\n",
       "</div>"
      ],
      "text/plain": [
       "   about  all  and  are   as   at   be  bullied  bully  but  ...  they  this  \\\n",
       "0    0.0  0.0  0.0  0.0  0.0  0.0  0.0      0.0    0.0  1.0  ...   0.0   0.0   \n",
       "\n",
       "    to  was   we  what  who  with  you  your  \n",
       "0  0.0  0.0  0.0   0.0  0.0   0.0  0.0   0.0  \n",
       "\n",
       "[1 rows x 50 columns]"
      ]
     },
     "execution_count": 82,
     "metadata": {},
     "output_type": "execute_result"
    }
   ],
   "source": [
    "# Instantiate the vectorizer\n",
    "tfidf_2 = TfidfVectorizer(\n",
    "    max_features=50,\n",
    "    stop_words=stopwords_list\n",
    ")\n",
    "\n",
    "# Fit and transform X_train\n",
    "X_train_v2 = tfidf_2.fit_transform(X_train.tweet_text)\n",
    "X_test_v2 = tfidf_2.fit_transform(X_test.tweet_text)\n",
    "\n",
    "# look at data\n",
    "pd.DataFrame.sparse.from_spmatrix(X_train_v2, columns=tfidf.get_feature_names()).head(1)"
   ]
  },
  {
   "cell_type": "code",
   "execution_count": 83,
   "metadata": {},
   "outputs": [
    {
     "name": "stdout",
     "output_type": "stream",
     "text": [
      "Training Accuracy: 64.4%\n",
      "Testing Accuracy: 64.1%\n"
     ]
    }
   ],
   "source": [
    "# Instantiate a MultinomialNB classifier\n",
    "model_2 = MultinomialNB()\n",
    "\n",
    "# Running next model\n",
    "score_train_2 = cross_val_score(model_2, X_train_v2, y_train).mean()\n",
    "score_test_2 = cross_val_score(model_2, X_test_v2, y_test).mean()\n",
    "\n",
    "print('Training Accuracy: {:.1%}'.format(score_train_2))\n",
    "print('Testing Accuracy: {:.1%}'.format(score_test_2))"
   ]
  },
  {
   "cell_type": "markdown",
   "metadata": {},
   "source": [
    "#### Model #3 - Removed Stopwords and Stemmed"
   ]
  },
  {
   "cell_type": "code",
   "execution_count": 90,
   "metadata": {},
   "outputs": [],
   "source": [
    "# Instantiate the vectorizer\n",
    "tfidf_3 = TfidfVectorizer(\n",
    "    max_features = 50,\n",
    "    stop_words = stopwords_list,\n",
    "    token_pattern = r\"(?u)\\b\\w+\\b\" #Changing tokens to include single letter words since people on twitter type in shorthand\n",
    ")\n",
    "\n",
    "# Fit the vectorizer on col and transform it\n",
    "X_train_v3 = tfidf_3.fit_transform(X_train.tweet_text)\n",
    "X_test_v3 = tfidf_3.transform(X_test.tweet_text)"
   ]
  },
  {
   "cell_type": "code",
   "execution_count": 91,
   "metadata": {},
   "outputs": [
    {
     "name": "stdout",
     "output_type": "stream",
     "text": [
      "Training Accuracy: 65.2%\n",
      "Testing Accuracy: 65.3%\n"
     ]
    }
   ],
   "source": [
    "# Instantiate a MultinomialNB classifier\n",
    "model_3 = MultinomialNB()\n",
    "\n",
    "# Running next model\n",
    "score_train_3 = cross_val_score(model_3, X_train_v3, y_train).mean()\n",
    "score_test_3 = cross_val_score(model_3, X_test_v3, y_test).mean()\n",
    "\n",
    "print('Training Accuracy: {:.1%}'.format(score_train_3))\n",
    "print('Testing Accuracy: {:.1%}'.format(score_test_3))"
   ]
  },
  {
   "cell_type": "markdown",
   "metadata": {},
   "source": [
    "#### Model #4 - Removed Stopwords and added Bigrams"
   ]
  },
  {
   "cell_type": "code",
   "execution_count": 106,
   "metadata": {},
   "outputs": [],
   "source": [
    "# Instantiate the vectorizer\n",
    "tfidf_4 = TfidfVectorizer(\n",
    "    max_features = 80,\n",
    "    stop_words = stopwords_list,\n",
    "    token_pattern = r\"(?u)\\b\\w+\\b\",\n",
    "    ngram_range = (1, 2)\n",
    ")\n",
    "\n",
    "# Instantiate a MultinomialNB classifier\n",
    "model_4 = MultinomialNB()\n",
    "\n",
    "evaluate_multinomialnb(tfidf_4, model_4, X_train, X_test)"
   ]
  },
  {
   "cell_type": "markdown",
   "metadata": {},
   "source": [
    "#### NEW MODEL - adding has_link feature and is_reply"
   ]
  },
  {
   "cell_type": "code",
   "execution_count": 25,
   "metadata": {},
   "outputs": [],
   "source": [
    "# creating a column that notes if a tweet has a link or not\n",
    "def has_link(x):\n",
    "    if 'https' in x:\n",
    "        return 1\n",
    "    else:\n",
    "        return 0\n",
    "\n",
    "X_train['has_link'] = X_train.tweet_text.apply(has_link)"
   ]
  },
  {
   "cell_type": "code",
   "execution_count": 26,
   "metadata": {},
   "outputs": [],
   "source": [
    "# creating a column that notes if a tweet is a reply or not\n",
    "def is_reply(x):\n",
    "    if '@' in x:\n",
    "        return 1    \n",
    "    else:\n",
    "        return 0\n",
    "\n",
    "X_train['is_reply'] = df.tweet_text.apply(is_reply)"
   ]
  },
  {
   "cell_type": "code",
   "execution_count": 27,
   "metadata": {},
   "outputs": [],
   "source": [
    "# resetting indices\n",
    "X_train.reset_index(inplace=True)"
   ]
  },
  {
   "cell_type": "code",
   "execution_count": 28,
   "metadata": {},
   "outputs": [],
   "source": [
    "# creating a column that notes if a tweet has an emoticon or not\n",
    "emoticon_query = r'(?:[\\:;X=B][-^]?[)\\]3D([OP/\\\\|])(?:(?=\\s))'\n",
    "X_train[\"has_emoticon\"] = X_train.tweet_text.str.contains(emoticon_query)"
   ]
  },
  {
   "cell_type": "code",
   "execution_count": 29,
   "metadata": {},
   "outputs": [
    {
     "data": {
      "text/html": [
       "<div>\n",
       "<style scoped>\n",
       "    .dataframe tbody tr th:only-of-type {\n",
       "        vertical-align: middle;\n",
       "    }\n",
       "\n",
       "    .dataframe tbody tr th {\n",
       "        vertical-align: top;\n",
       "    }\n",
       "\n",
       "    .dataframe thead th {\n",
       "        text-align: right;\n",
       "    }\n",
       "</style>\n",
       "<table border=\"1\" class=\"dataframe\">\n",
       "  <thead>\n",
       "    <tr style=\"text-align: right;\">\n",
       "      <th></th>\n",
       "      <th>also</th>\n",
       "      <th>amp</th>\n",
       "      <th>anything</th>\n",
       "      <th>ass</th>\n",
       "      <th>ass ninnnn</th>\n",
       "      <th>bitch</th>\n",
       "      <th>black</th>\n",
       "      <th>bullied</th>\n",
       "      <th>bullied high</th>\n",
       "      <th>bullies</th>\n",
       "      <th>...</th>\n",
       "      <th>us</th>\n",
       "      <th>want</th>\n",
       "      <th>way</th>\n",
       "      <th>white</th>\n",
       "      <th>woman</th>\n",
       "      <th>women</th>\n",
       "      <th>would</th>\n",
       "      <th>has_link</th>\n",
       "      <th>is_reply</th>\n",
       "      <th>has_emoticon</th>\n",
       "    </tr>\n",
       "  </thead>\n",
       "  <tbody>\n",
       "    <tr>\n",
       "      <th>0</th>\n",
       "      <td>0.0</td>\n",
       "      <td>0.0</td>\n",
       "      <td>0.0</td>\n",
       "      <td>0.0</td>\n",
       "      <td>0.0</td>\n",
       "      <td>0.0</td>\n",
       "      <td>0.0</td>\n",
       "      <td>0.0</td>\n",
       "      <td>0.0</td>\n",
       "      <td>0.0</td>\n",
       "      <td>...</td>\n",
       "      <td>0.0</td>\n",
       "      <td>0.0</td>\n",
       "      <td>0.0</td>\n",
       "      <td>0.0</td>\n",
       "      <td>0.0</td>\n",
       "      <td>0.0</td>\n",
       "      <td>0.0</td>\n",
       "      <td>0</td>\n",
       "      <td>0</td>\n",
       "      <td>False</td>\n",
       "    </tr>\n",
       "  </tbody>\n",
       "</table>\n",
       "<p>1 rows × 83 columns</p>\n",
       "</div>"
      ],
      "text/plain": [
       "   also  amp  anything  ass  ass ninnnn  bitch  black  bullied  bullied high  \\\n",
       "0   0.0  0.0       0.0  0.0         0.0    0.0    0.0      0.0           0.0   \n",
       "\n",
       "   bullies  ...   us  want  way  white  woman  women  would  has_link  \\\n",
       "0      0.0  ...  0.0   0.0  0.0    0.0    0.0    0.0    0.0         0   \n",
       "\n",
       "   is_reply  has_emoticon  \n",
       "0         0         False  \n",
       "\n",
       "[1 rows x 83 columns]"
      ]
     },
     "execution_count": 29,
     "metadata": {},
     "output_type": "execute_result"
    }
   ],
   "source": [
    "# adding new columns to dataframe\n",
    "\n",
    "X_train_df = pd.DataFrame.sparse.from_spmatrix(X_train_v, columns=tfidf.get_feature_names())\n",
    "X_train_2 = pd.concat([X_train_df, X_train[['has_link', 'is_reply', 'has_emoticon']]], axis=1)\n",
    "X_train_2.head(1)"
   ]
  },
  {
   "cell_type": "code",
   "execution_count": 30,
   "metadata": {},
   "outputs": [
    {
     "name": "stdout",
     "output_type": "stream",
     "text": [
      "Accuracy: 72.6%\n"
     ]
    }
   ],
   "source": [
    "# Instantiate a MultinomialNB classifier\n",
    "baseline_model = MultinomialNB()\n",
    "\n",
    "# Evaluate the classifier on X_train_vectorized and y_train\n",
    "baseline_score = cross_val_score(baseline_model, X_train_2, y_train).mean()\n",
    "print('Accuracy: {:.1%}'.format(baseline_score))"
   ]
  },
  {
   "cell_type": "code",
   "execution_count": null,
   "metadata": {},
   "outputs": [],
   "source": [
    "# https://towardsdatascience.com/sentiment-analysis-using-lstm-and-glove-embeddings-99223a87fe8eb"
   ]
  },
  {
   "cell_type": "markdown",
   "metadata": {},
   "source": [
    "### Trying Recurrent Neural Networks\n",
    "\n",
    "bigrams and trigrams greatly improved the model's ability to classify cyberbulling. To avoid loss of knowledge while using the bag-of-words technique in multinomial bayes above, let's try using Recurrent Neural Networks. "
   ]
  },
  {
   "cell_type": "code",
   "execution_count": 41,
   "metadata": {},
   "outputs": [],
   "source": [
    "#### TRYING TENSORFLOW AND KERAS\n",
    "from tensorflow.keras.models import Sequential\n",
    "from tensorflow.keras.layers import Embedding\n",
    "import numpy as np\n",
    "from keras.preprocessing.sequence import pad_sequences\n",
    "from keras.layers import Input, Dense, LSTM, Embedding\n",
    "from keras.layers import Dropout, Activation, Bidirectional, GlobalMaxPool1D\n",
    "from keras.models import Sequential\n",
    "from keras import initializers, regularizers, constraints, optimizers, layers\n",
    "from keras.preprocessing import text, sequence"
   ]
  },
  {
   "cell_type": "code",
   "execution_count": 51,
   "metadata": {},
   "outputs": [],
   "source": [
    "data = X_train.tweet_text.apply(tokenize)\n",
    "total_vocabulary = set(word.lower() for tweet in data for word in tweet)  # set created from nested comprehension "
   ]
  },
  {
   "cell_type": "code",
   "execution_count": 53,
   "metadata": {},
   "outputs": [],
   "source": [
    "# use one hot encoding since our target is categorical\n",
    "y_train_d = pd.get_dummies(y_train).values\n",
    "\n",
    "# use keras to create a Tokenizer object\n",
    "tokenizer = text.Tokenizer(num_words=20000)  # limit to the num_words most important ones\n",
    "\n",
    "tokenizer.fit_on_texts(list(X_train.tweet_text))\n",
    "tokenized_texts = tokenizer.texts_to_sequences(X_train.tweet_text)\n",
    "X_train_pad = sequence.pad_sequences(tokenized_texts, maxlen=100)\n",
    "\n",
    "X_train_pad = pad_sequences(X_train_pad, maxlen=140)"
   ]
  },
  {
   "cell_type": "code",
   "execution_count": 64,
   "metadata": {},
   "outputs": [],
   "source": [
    "# cTESTTTTTING ON. OTHER SHIT TO SEE WHAT IT DOES\n",
    "model = Sequential()\n",
    "\n",
    "embedding_size = 128\n",
    "model.add(Embedding(len(total_vocabulary), embedding_size))\n",
    "model.add(LSTM(25, return_sequences=True))\n",
    "model.add(GlobalMaxPool1D())\n",
    "model.add(Dense(50, activation='relu'))\n",
    "model.add(Dense(50, activation='relu'))\n",
    "model.add(Dense(6, activation='softmax'))  # use 4 because we have 4 categories"
   ]
  },
  {
   "cell_type": "code",
   "execution_count": 55,
   "metadata": {},
   "outputs": [],
   "source": [
    "# create my NN model\n",
    "model = Sequential()\n",
    "\n",
    "embedding_size = 128\n",
    "model.add(Embedding(len(total_vocabulary), embedding_size))\n",
    "model.add(LSTM(25, return_sequences=True))\n",
    "model.add(GlobalMaxPool1D())\n",
    "model.add(Dropout(0.5)) # can work without this layer\n",
    "model.add(Dense(50, activation='relu'))\n",
    "model.add(Dropout(0.5))\n",
    "model.add(Dense(50, activation='relu'))\n",
    "model.add(Dropout(0.5))\n",
    "model.add(Dense(6, activation='softmax'))  # use 4 because we have 4 categories"
   ]
  },
  {
   "cell_type": "code",
   "execution_count": 65,
   "metadata": {},
   "outputs": [
    {
     "name": "stdout",
     "output_type": "stream",
     "text": [
      "Model: \"sequential_5\"\n",
      "_________________________________________________________________\n",
      "Layer (type)                 Output Shape              Param #   \n",
      "=================================================================\n",
      "embedding_4 (Embedding)      (None, None, 128)         6482176   \n",
      "_________________________________________________________________\n",
      "lstm_4 (LSTM)                (None, None, 25)          15400     \n",
      "_________________________________________________________________\n",
      "global_max_pooling1d_3 (Glob (None, 25)                0         \n",
      "_________________________________________________________________\n",
      "dense_12 (Dense)             (None, 50)                1300      \n",
      "_________________________________________________________________\n",
      "dense_13 (Dense)             (None, 50)                2550      \n",
      "_________________________________________________________________\n",
      "dense_14 (Dense)             (None, 6)                 306       \n",
      "=================================================================\n",
      "Total params: 6,501,732\n",
      "Trainable params: 6,501,732\n",
      "Non-trainable params: 0\n",
      "_________________________________________________________________\n"
     ]
    }
   ],
   "source": [
    "model.compile(loss='categorical_crossentropy', \n",
    "              optimizer='adam', \n",
    "              metrics=['accuracy'])\n",
    "model.summary() # check the shape="
   ]
  },
  {
   "cell_type": "code",
   "execution_count": 66,
   "metadata": {},
   "outputs": [
    {
     "name": "stdout",
     "output_type": "stream",
     "text": [
      "Epoch 1/5\n",
      "1006/1006 [==============================] - 81s 80ms/step - loss: 0.5822 - accuracy: 0.7639 - val_loss: 0.4025 - val_accuracy: 0.8429\n",
      "Epoch 2/5\n",
      "1006/1006 [==============================] - 84s 84ms/step - loss: 0.3143 - accuracy: 0.8746 - val_loss: 0.3936 - val_accuracy: 0.8409\n",
      "Epoch 3/5\n",
      "1006/1006 [==============================] - 343s 341ms/step - loss: 0.2217 - accuracy: 0.9135 - val_loss: 0.4505 - val_accuracy: 0.8292\n",
      "Epoch 4/5\n",
      "1006/1006 [==============================] - 96s 95ms/step - loss: 0.1720 - accuracy: 0.9303 - val_loss: 0.5016 - val_accuracy: 0.8323\n",
      "Epoch 5/5\n",
      "1006/1006 [==============================] - 92s 91ms/step - loss: 0.1385 - accuracy: 0.9407 - val_loss: 0.5907 - val_accuracy: 0.8253\n"
     ]
    },
    {
     "data": {
      "text/plain": [
       "<tensorflow.python.keras.callbacks.History at 0x164ea1dc0>"
      ]
     },
     "execution_count": 66,
     "metadata": {},
     "output_type": "execute_result"
    }
   ],
   "source": [
    "model.fit(X_train_pad, y_train_d, epochs=5, batch_size=32, validation_split=0.1)"
   ]
  },
  {
   "cell_type": "markdown",
   "metadata": {},
   "source": [
    "## Links\n",
    "\n",
    "https://medium.com/analytics-vidhya/nlp-tutorial-for-text-classification-in-python-8f19cd17b49e\n",
    "\n",
    "data - https://www.kaggle.com/datasets/andrewmvd/cyberbullying-classification\n",
    "\n",
    "https://www.ritchieng.com/machine-learning-multinomial-naive-bayes-vectorization/\n",
    "\n",
    "https://towardsdatascience.com/multi-class-text-classification-with-scikit-learn-12f1e60e0a9f\n",
    "\n",
    "looking at diff models - https://towardsdatascience.com/multi-class-text-classification-with-scikit-learn-12f1e60e0a9f\n",
    "\n"
   ]
  },
  {
   "cell_type": "code",
   "execution_count": null,
   "metadata": {},
   "outputs": [],
   "source": []
  }
 ],
 "metadata": {
  "kernelspec": {
   "display_name": "Python (learn-env)",
   "language": "python",
   "name": "learn-env"
  },
  "language_info": {
   "codemirror_mode": {
    "name": "ipython",
    "version": 3
   },
   "file_extension": ".py",
   "mimetype": "text/x-python",
   "name": "python",
   "nbconvert_exporter": "python",
   "pygments_lexer": "ipython3",
   "version": "3.8.5"
  }
 },
 "nbformat": 4,
 "nbformat_minor": 4
}
