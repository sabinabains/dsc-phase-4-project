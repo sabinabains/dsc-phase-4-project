{
 "cells": [
  {
   "cell_type": "markdown",
   "metadata": {},
   "source": [
    "# Final Project Submission\n",
    "\n",
    "- Student name: Sabina Bains\n",
    "- Student pace: Self Paced\n",
    "- Scheduled project review date / time: XXX\n",
    "- Instructor name: Claude Fried"
   ]
  },
  {
   "cell_type": "markdown",
   "metadata": {},
   "source": [
    "# Summary\n",
    "\n",
    "Add Summary here\n",
    "\n",
    "\n",
    "data - https://www.kaggle.com/code/anayad/classifying-cyberbullying-tweets/data\n"
   ]
  },
  {
   "cell_type": "markdown",
   "metadata": {},
   "source": [
    "# Business Understanding"
   ]
  },
  {
   "cell_type": "markdown",
   "metadata": {},
   "source": [
    "# Data Understanding"
   ]
  },
  {
   "cell_type": "markdown",
   "metadata": {},
   "source": [
    "#### Reading in Necessary Packages"
   ]
  },
  {
   "cell_type": "code",
   "execution_count": 206,
   "metadata": {},
   "outputs": [],
   "source": [
    "import pandas as pd\n",
    "from nltk.tokenize import RegexpTokenizer\n",
    "from sklearn.naive_bayes import MultinomialNB\n",
    "from sklearn.model_selection import cross_val_score, train_test_split\n",
    "from nltk import FreqDist\n",
    "from nltk.corpus import stopwords\n",
    "from nltk.stem.snowball import SnowballStemmer\n",
    "from sklearn.feature_extraction.text import TfidfVectorizer\n",
    "import re\n",
    "from sklearn.metrics import plot_confusion_matrix\n",
    "from nltk.util import ngrams\n",
    "from sklearn.metrics import ConfusionMatrixDisplay\n",
    "from sklearn.metrics import confusion_matrix\n",
    "import matplotlib.pyplot as plt\n",
    "import matplotlib as mpl\n",
    "\n",
    "import warnings\n",
    "warnings.filterwarnings('ignore')\n",
    "\n",
    "COLOR = 'white'\n",
    "mpl.rcParams['text.color'] = COLOR\n",
    "mpl.rcParams['axes.labelcolor'] = COLOR\n",
    "mpl.rcParams['xtick.color'] = COLOR\n",
    "mpl.rcParams['ytick.color'] = COLOR"
   ]
  },
  {
   "cell_type": "code",
   "execution_count": 207,
   "metadata": {},
   "outputs": [],
   "source": [
    "# Split then vectorize (correct way)\n",
    "# We do the train/test split before the CountVectorizer to properly simulate the real world where our future data contains words we have not seen before"
   ]
  },
  {
   "cell_type": "markdown",
   "metadata": {},
   "source": [
    "#### Reading in Data"
   ]
  },
  {
   "cell_type": "code",
   "execution_count": 217,
   "metadata": {},
   "outputs": [],
   "source": [
    "df = pd.read_csv('data/cyberbullying_tweets.csv')\n",
    "\n",
    "\n",
    "# replacing offensive words\n",
    "df.tweet_text = df.tweet_text.str.replace('ggers','xxxxx')\n",
    "df.tweet_text = df.tweet_text.str.replace('gger','xxxx')"
   ]
  },
  {
   "cell_type": "markdown",
   "metadata": {},
   "source": [
    "#### Understanding Labels"
   ]
  },
  {
   "cell_type": "code",
   "execution_count": 218,
   "metadata": {},
   "outputs": [
    {
     "data": {
      "text/html": [
       "<div>\n",
       "<style scoped>\n",
       "    .dataframe tbody tr th:only-of-type {\n",
       "        vertical-align: middle;\n",
       "    }\n",
       "\n",
       "    .dataframe tbody tr th {\n",
       "        vertical-align: top;\n",
       "    }\n",
       "\n",
       "    .dataframe thead th {\n",
       "        text-align: right;\n",
       "    }\n",
       "</style>\n",
       "<table border=\"1\" class=\"dataframe\">\n",
       "  <thead>\n",
       "    <tr style=\"text-align: right;\">\n",
       "      <th></th>\n",
       "      <th>cyberbullying_type</th>\n",
       "    </tr>\n",
       "  </thead>\n",
       "  <tbody>\n",
       "    <tr>\n",
       "      <th>religion</th>\n",
       "      <td>0.167701</td>\n",
       "    </tr>\n",
       "    <tr>\n",
       "      <th>age</th>\n",
       "      <td>0.167575</td>\n",
       "    </tr>\n",
       "    <tr>\n",
       "      <th>gender</th>\n",
       "      <td>0.167177</td>\n",
       "    </tr>\n",
       "    <tr>\n",
       "      <th>ethnicity</th>\n",
       "      <td>0.166925</td>\n",
       "    </tr>\n",
       "    <tr>\n",
       "      <th>not_cyberbullying</th>\n",
       "      <td>0.166590</td>\n",
       "    </tr>\n",
       "    <tr>\n",
       "      <th>other_cyberbullying</th>\n",
       "      <td>0.164032</td>\n",
       "    </tr>\n",
       "  </tbody>\n",
       "</table>\n",
       "</div>"
      ],
      "text/plain": [
       "                     cyberbullying_type\n",
       "religion                       0.167701\n",
       "age                            0.167575\n",
       "gender                         0.167177\n",
       "ethnicity                      0.166925\n",
       "not_cyberbullying              0.166590\n",
       "other_cyberbullying            0.164032"
      ]
     },
     "execution_count": 218,
     "metadata": {},
     "output_type": "execute_result"
    }
   ],
   "source": [
    "# checking distribution of target values - looks like a balanced dataset\n",
    "pd.DataFrame(df.cyberbullying_type.value_counts(normalize=True))"
   ]
  },
  {
   "cell_type": "code",
   "execution_count": 219,
   "metadata": {},
   "outputs": [],
   "source": [
    "# standardizing words to all be lowercase\n",
    "def lowercase(x):\n",
    "    return x.lower()\n",
    "\n",
    "df.tweet_text = df.tweet_text.apply(lowercase)"
   ]
  },
  {
   "cell_type": "code",
   "execution_count": 220,
   "metadata": {},
   "outputs": [],
   "source": [
    "# tokenizing words in df to inspect differences in cyberbullying classes\n",
    "def tokenize(x):\n",
    "    token_pattern = r\"(?u)\\b\\w\\w+\\b\"\n",
    "    tokenizer = RegexpTokenizer(token_pattern)\n",
    "    return tokenizer.tokenize(x)\n",
    "\n",
    "df['tokens'] = df.tweet_text.apply(tokenize)"
   ]
  },
  {
   "cell_type": "code",
   "execution_count": 221,
   "metadata": {},
   "outputs": [
    {
     "data": {
      "text/plain": [
       "[('mkr', 2543), ('muslims', 2513), ('muslim', 2491)]"
      ]
     },
     "execution_count": 221,
     "metadata": {},
     "output_type": "execute_result"
    }
   ],
   "source": [
    "# removing stopwords from data\n",
    "stopwords_list = stopwords.words('english')\n",
    "\n",
    "def remove_stopwords(token_list):\n",
    "    return [word for word in token_list if word not in stopwords_list]\n",
    "\n",
    "df.tokens = df.tokens.apply(remove_stopwords)\n",
    "\n",
    "FreqDist(df.tokens.explode()).most_common(30)[22:25]"
   ]
  },
  {
   "cell_type": "code",
   "execution_count": 222,
   "metadata": {},
   "outputs": [],
   "source": [
    "# Above we can see we need to stem the data (muslim vs. muslims)\n",
    "stemmer = SnowballStemmer(language=\"english\")\n",
    "\n",
    "def stem(tweets):\n",
    "    return [stemmer.stem(tweet) for tweet in tweets]\n",
    "\n",
    "df.tokens = df.tokens.apply(stem)"
   ]
  },
  {
   "cell_type": "code",
   "execution_count": 223,
   "metadata": {},
   "outputs": [
    {
     "data": {
      "text/plain": [
       "['connect', 'connect', 'connect', 'connect', 'connect']"
      ]
     },
     "execution_count": 223,
     "metadata": {},
     "output_type": "execute_result"
    }
   ],
   "source": [
    "# testing the stemmer : \n",
    "connect_list = ['CONNECT','CONNECTIONS','CONNECTED','CONNECTING','CONNECTION']\n",
    "stem(connect_list)"
   ]
  },
  {
   "cell_type": "code",
   "execution_count": 224,
   "metadata": {},
   "outputs": [
    {
     "data": {
      "image/png": "[encoded data removed]",
      "text/plain": [
       "<Figure size 504x288 with 1 Axes>"
      ]
     },
     "metadata": {
      "needs_background": "dark"
     },
     "output_type": "display_data"
    }
   ],
   "source": [
    "total_top_10 = FreqDist(df.tokens.explode()).most_common(10)\n",
    "\n",
    "tokens = [word[0] for word in total_top_10]\n",
    "counts = [value[1] for value in total_top_10]\n",
    "\n",
    "fig = plt.figure(figsize=(7,4))\n",
    "plt.bar(tokens,counts, color= 'grey')\n",
    "plt.title('Top Tokens')\n",
    "plt.show()"
   ]
  },
  {
   "cell_type": "code",
   "execution_count": 225,
   "metadata": {},
   "outputs": [],
   "source": [
    "wordsdf = pd.DataFrame(FreqDist(df.tokens.explode()), index =[1]).T"
   ]
  },
  {
   "cell_type": "code",
   "execution_count": 226,
   "metadata": {},
   "outputs": [],
   "source": [
    "wordsdf.to_csv('/Users/sabinabains/Desktop/export.csv')"
   ]
  },
  {
   "cell_type": "code",
   "execution_count": 228,
   "metadata": {
    "scrolled": false
   },
   "outputs": [
    {
     "data": {
      "image/png": "[encoded data removed]",
      "text/plain": [
       "<Figure size 720x288 with 1 Axes>"
      ]
     },
     "metadata": {
      "needs_background": "dark"
     },
     "output_type": "display_data"
    },
    {
     "data": {
      "image/png": "[encoded data removed]",
      "text/plain": [
       "<Figure size 720x288 with 1 Axes>"
      ]
     },
     "metadata": {
      "needs_background": "dark"
     },
     "output_type": "display_data"
    },
    {
     "data": {
      "image/png": "[encoded data removed]",
      "text/plain": [
       "<Figure size 720x288 with 1 Axes>"
      ]
     },
     "metadata": {
      "needs_background": "dark"
     },
     "output_type": "display_data"
    },
    {
     "data": {
      "image/png": "[encoded data removed]",
      "text/plain": [
       "<Figure size 720x288 with 1 Axes>"
      ]
     },
     "metadata": {
      "needs_background": "dark"
     },
     "output_type": "display_data"
    },
    {
     "data": {
      "image/png": "[encoded data removed]",
      "text/plain": [
       "<Figure size 720x288 with 1 Axes>"
      ]
     },
     "metadata": {
      "needs_background": "dark"
     },
     "output_type": "display_data"
    },
    {
     "data": {
      "image/png": "[encoded data removed]",
      "text/plain": [
       "<Figure size 720x288 with 1 Axes>"
      ]
     },
     "metadata": {
      "needs_background": "dark"
     },
     "output_type": "display_data"
    }
   ],
   "source": [
    "# Creating frequency distributions for each label to visually inspect most common words in each tag\n",
    "freq_dict = {}\n",
    "\n",
    "for target in df.cyberbullying_type.unique():\n",
    "    freq_dict[target] = FreqDist(df.loc[df.cyberbullying_type == target].tokens.explode())\n",
    "    \n",
    "    top_10 = list(zip(*freq_dict[target].most_common(10)))\n",
    "    tokens = top_10[0]\n",
    "    counts = top_10[1]\n",
    "\n",
    "    fig = plt.figure(figsize=(10,4))\n",
    "    plt.bar(tokens,counts, color = 'grey')\n",
    "    plt.title('Top tokens for '+target)\n",
    "    plt.show()"
   ]
  },
  {
   "cell_type": "markdown",
   "metadata": {},
   "source": [
    "#### Splitting Tweets and Labels into two dataframes"
   ]
  },
  {
   "cell_type": "code",
   "execution_count": 78,
   "metadata": {},
   "outputs": [],
   "source": [
    "X = pd.DataFrame(df.tweet_text)\n",
    "y = df.cyberbullying_type"
   ]
  },
  {
   "cell_type": "markdown",
   "metadata": {},
   "source": [
    "#### Performing Train Test Split for Data Validation"
   ]
  },
  {
   "cell_type": "code",
   "execution_count": 79,
   "metadata": {},
   "outputs": [],
   "source": [
    "X_train, X_test, y_train, y_test = train_test_split(X, y, test_size=0.25)"
   ]
  },
  {
   "cell_type": "code",
   "execution_count": 80,
   "metadata": {},
   "outputs": [],
   "source": [
    "# plot_confusion_matrix(baseline_model, X_train, df['cyberbullying_type']);"
   ]
  },
  {
   "cell_type": "markdown",
   "metadata": {},
   "source": [
    "## creating bigrams"
   ]
  },
  {
   "cell_type": "code",
   "execution_count": 81,
   "metadata": {},
   "outputs": [],
   "source": [
    "def bigram(tweet):\n",
    "    return [' '.join(word) for word in ngrams(tweet, 2)]\n",
    "\n",
    "def _3gram(tweet):\n",
    "    return [' '.join(word) for word in ngrams(tweet, 3)]\n",
    "\n",
    "df['bigram'] = df.tokens.apply(bigram)\n",
    "df['_3gram'] = df.tokens.apply(_3gram)"
   ]
  },
  {
   "cell_type": "code",
   "execution_count": 82,
   "metadata": {},
   "outputs": [
    {
     "data": {
      "text/plain": [
       "[('bulli high school', 1539),\n",
       " ('dumb ass nixxxx', 1170),\n",
       " (nan, 1127),\n",
       " ('fuck obama dumb', 979),\n",
       " ('obama dumb ass', 966),\n",
       " ('tayyoung_ fuck obama', 956),\n",
       " ('girl bulli high', 824),\n",
       " ('high school bulli', 653),\n",
       " ('rt tayyoung_ fuck', 456),\n",
       " ('girl high school', 415)]"
      ]
     },
     "execution_count": 82,
     "metadata": {},
     "output_type": "execute_result"
    }
   ],
   "source": [
    "FreqDist(df._3gram.explode()).most_common(10)"
   ]
  },
  {
   "cell_type": "code",
   "execution_count": 83,
   "metadata": {},
   "outputs": [],
   "source": [
    "# from sklearn.pipeline import Pipeline\n",
    "# from sklearn.naive_bayes import MultinomialNB\n",
    "# from sklearn.feature_extraction.text import CountVectorizer, TfidfTransformer\n",
    "# from sklearn.model_selection import train_test_split, GridSearchCV\n",
    "# text_clf = Pipeline([('vect', CountVectorizer()),\n",
    "#                      ('tfidf', TfidfTransformer()),\n",
    "#                      ('clf', MultinomialNB())])\n",
    "# tuned_parameters = {\n",
    "#     'vect__ngram_range': [(1, 1), (1, 2), (2, 2)],\n",
    "#     'tfidf__use_idf': (True, False),\n",
    "#     'tfidf__norm': ('l1', 'l2'),\n",
    "#     'clf__alpha': [1, 1e-1, 1e-2]\n",
    "# }"
   ]
  },
  {
   "cell_type": "markdown",
   "metadata": {},
   "source": [
    "# MODELING"
   ]
  },
  {
   "cell_type": "code",
   "execution_count": 84,
   "metadata": {},
   "outputs": [],
   "source": [
    "# creating a function to evaluate models\n",
    "\n",
    "def evaluate_multinomialnb(tfidf, model, X_train, X_test):\n",
    "    \n",
    "    #vectorizing data\n",
    "    X_train_v = tfidf.fit_transform(X_train.tweet_text)\n",
    "    X_test_v = tfidf.transform(X_test.tweet_text)\n",
    "    \n",
    "    # computing mean accuracy\n",
    "    train_acc = cross_val_score(model, X_train_v, y_train).mean()\n",
    "    test_acc = cross_val_score(model, X_test_v, y_test).mean()\n",
    "\n",
    "    print('Training Accuracy: {:.1%}'.format(train_acc))\n",
    "    print('Testing Accuracy: {:.1%}'.format(test_acc))"
   ]
  },
  {
   "cell_type": "markdown",
   "metadata": {},
   "source": [
    "#### Baseline Model"
   ]
  },
  {
   "cell_type": "code",
   "execution_count": 85,
   "metadata": {},
   "outputs": [
    {
     "name": "stdout",
     "output_type": "stream",
     "text": [
      "Training Accuracy: 56.4%\n",
      "Testing Accuracy: 57.5%\n",
      "\n",
      "Our baseline model performs relatively well, if we were to randomly classify cyberbullying we would get an accuracy of 16.6%, whereas our model has an\n",
      "accuracy of over 3x better. However this model will still predict correctly only about half the time. Let's try to improve it by removing stopwords.\n"
     ]
    }
   ],
   "source": [
    "# initializing basic TFIDF vectorizer with 50 words with highest tfidf values\n",
    "tfidf_1 = TfidfVectorizer(max_features=50)\n",
    "model_1 = MultinomialNB()\n",
    "\n",
    "evaluate_multinomialnb(tfidf_1, model_1, X_train, X_test)\n",
    "\n",
    "print('''\\nOur baseline model performs relatively well, if we were to randomly classify cyberbullying we would get an accuracy of 16.6%, whereas our model has an\n",
    "accuracy of over 3x better. However this model will still predict correctly only about half the time. Let's try to improve it by removing stopwords.''')"
   ]
  },
  {
   "cell_type": "markdown",
   "metadata": {},
   "source": [
    "#### Model #2 - removing stopwords"
   ]
  },
  {
   "cell_type": "code",
   "execution_count": 86,
   "metadata": {},
   "outputs": [],
   "source": [
    "stopwords_list = stopwords.words('english')"
   ]
  },
  {
   "cell_type": "code",
   "execution_count": 87,
   "metadata": {},
   "outputs": [
    {
     "name": "stdout",
     "output_type": "stream",
     "text": [
      "Training Accuracy: 64.0%\n",
      "Testing Accuracy: 68.9%\n",
      "\n",
      " Our model has significantly improved once removing stopwords. Let's continue to tweak by stemming words, as we saw earlier that some words are considered\n",
      "different when they have the same meaning\n"
     ]
    }
   ],
   "source": [
    "# Instantiate the vectorizer\n",
    "tfidf_2 = TfidfVectorizer(\n",
    "    max_features=50,\n",
    "    stop_words=stopwords_list\n",
    ")\n",
    "\n",
    "evaluate_multinomialnb(tfidf_2, model_1, X_train, X_test)\n",
    "\n",
    "print('''\\n Our model has significantly improved once removing stopwords. Let's continue to tweak by stemming words, as we saw earlier that some words are considered\n",
    "different when they have the same meaning''')"
   ]
  },
  {
   "cell_type": "markdown",
   "metadata": {},
   "source": [
    "#### Model #3 - Removed Stopwords and Stemmed"
   ]
  },
  {
   "cell_type": "code",
   "execution_count": 88,
   "metadata": {},
   "outputs": [
    {
     "name": "stdout",
     "output_type": "stream",
     "text": [
      "Training Accuracy: 64.9%\n",
      "Testing Accuracy: 69.8%\n",
      "\n",
      " Still improving. lets add bigrams and increase max_features\n"
     ]
    }
   ],
   "source": [
    "# Instantiate the vectorizer\n",
    "tfidf_3 = TfidfVectorizer(\n",
    "    max_features = 50,\n",
    "    stop_words = stopwords_list,\n",
    "    token_pattern = r\"(?u)\\b\\w+\\b\" #Changing tokens to include single letter words since people on twitter type in shorthand\n",
    ")\n",
    "\n",
    "evaluate_multinomialnb(tfidf_3, model_1, X_train, X_test)\n",
    "\n",
    "print('''\\n Still improving. lets add bigrams and increase max_features''')"
   ]
  },
  {
   "cell_type": "markdown",
   "metadata": {},
   "source": [
    "#### Model #4 - Removed Stopwords and added Bigrams"
   ]
  },
  {
   "cell_type": "code",
   "execution_count": 89,
   "metadata": {},
   "outputs": [
    {
     "name": "stdout",
     "output_type": "stream",
     "text": [
      "Training Accuracy: 69.9%\n",
      "Testing Accuracy: 73.3%\n",
      "\n",
      " Lets do some feature engineering to see if we can create meaningful columns\n"
     ]
    }
   ],
   "source": [
    "# Instantiate the vectorizer\n",
    "tfidf_4 = TfidfVectorizer(\n",
    "    max_features = 80,\n",
    "    stop_words = stopwords_list,\n",
    "    token_pattern = r\"(?u)\\b\\w+\\b\",\n",
    "    ngram_range = (1, 2)\n",
    ")\n",
    "\n",
    "evaluate_multinomialnb(tfidf_4, model_1, X_train, X_test)\n",
    "\n",
    "print('''\\n Lets do some feature engineering to see if we can create meaningful columns''')"
   ]
  },
  {
   "cell_type": "markdown",
   "metadata": {},
   "source": [
    "#### NEW MODEL - adding has_link feature and is_reply"
   ]
  },
  {
   "cell_type": "code",
   "execution_count": 90,
   "metadata": {},
   "outputs": [],
   "source": [
    "# creating a column that notes if a tweet has a link or not\n",
    "def has_link(x):\n",
    "    if 'https' in x:\n",
    "        return 1\n",
    "    else:\n",
    "        return 0\n",
    "\n",
    "X_train['has_link'] = X_train.tweet_text.apply(has_link)\n",
    "X_test['has_link'] = X_test.tweet_text.apply(has_link)"
   ]
  },
  {
   "cell_type": "code",
   "execution_count": 91,
   "metadata": {},
   "outputs": [],
   "source": [
    "# creating a column that notes if a tweet is a reply or not\n",
    "def is_reply(x):\n",
    "    if '@' in x:\n",
    "        return 1    \n",
    "    else:\n",
    "        return 0\n",
    "\n",
    "X_train['is_reply'] = X_train.tweet_text.apply(is_reply)\n",
    "X_test['is_reply'] = X_test.tweet_text.apply(is_reply)"
   ]
  },
  {
   "cell_type": "code",
   "execution_count": 92,
   "metadata": {},
   "outputs": [],
   "source": [
    "# resetting indices\n",
    "X_train.reset_index(inplace=True)\n",
    "X_test.reset_index(inplace=True)"
   ]
  },
  {
   "cell_type": "code",
   "execution_count": 93,
   "metadata": {},
   "outputs": [
    {
     "name": "stdout",
     "output_type": "stream",
     "text": [
      "Training Accuracy: 73.5%\n",
      "Testing Accuracy: 74.0%\n",
      "Here we have improved our model even more. Testing accuracy indicates we are not overfitting at all.\n",
      "We can continue to add more features, but let's first take a look at recurrent neural networks and see if we\n",
      "can get any promising results that way.\n"
     ]
    }
   ],
   "source": [
    "\n",
    "X_train_v2 = tfidf_4.fit_transform(X_train.tweet_text)\n",
    "# adding new columns to dataframe\n",
    "X_train_2 = pd.DataFrame.sparse.from_spmatrix(X_train_v2, columns=tfidf_4.get_feature_names())\n",
    "X_train_2 = pd.concat([X_train_2, X_train[['has_link', 'is_reply']]], axis=1)\n",
    "\n",
    "X_test_v2 = tfidf_4.transform(X_test.tweet_text)\n",
    "# adding new columns to dataframe\n",
    "X_test_2 = pd.DataFrame.sparse.from_spmatrix(X_test_v2, columns=tfidf_4.get_feature_names())\n",
    "X_test_2 = pd.concat([X_test_2, X_test[['has_link', 'is_reply']]], axis=1)\n",
    "    \n",
    "    \n",
    "train_acc = cross_val_score(model_1, X_train_2, y_train).mean()\n",
    "test_acc = cross_val_score(model_1, X_test_2, y_test).mean()\n",
    "\n",
    "print('Training Accuracy: {:.1%}'.format(train_acc))\n",
    "print('Testing Accuracy: {:.1%}'.format(test_acc))\n",
    "print('''Here we have improved our model even more. Testing accuracy indicates we are not overfitting at all.\n",
    "We can continue to add more features, but let's first take a look at recurrent neural networks and see if we\n",
    "can get any promising results that way.''')"
   ]
  },
  {
   "cell_type": "markdown",
   "metadata": {},
   "source": [
    "### Trying Recurrent Neural Networks\n",
    "\n",
    "bigrams and trigrams greatly improved the model's ability to classify cyberbulling. To avoid loss of knowledge while using the bag-of-words technique in multinomial bayes above, let's try using Recurrent Neural Networks. "
   ]
  },
  {
   "cell_type": "code",
   "execution_count": 94,
   "metadata": {},
   "outputs": [],
   "source": [
    "#### TRYING TENSORFLOW AND KERAS\n",
    "from tensorflow.keras.models import Sequential\n",
    "from tensorflow.keras.layers import Embedding\n",
    "import numpy as np\n",
    "from keras.preprocessing.sequence import pad_sequences\n",
    "from keras.layers import Input, Dense, LSTM, Embedding\n",
    "from keras.layers import Dropout, Activation, Bidirectional, GlobalMaxPool1D\n",
    "from keras.models import Sequential\n",
    "from keras import initializers, regularizers, constraints, optimizers, layers\n",
    "from keras.preprocessing import text, sequence"
   ]
  },
  {
   "cell_type": "code",
   "execution_count": 95,
   "metadata": {},
   "outputs": [],
   "source": [
    "data = X_train.tweet_text.apply(tokenize)\n",
    "total_vocabulary = set(word.lower() for tweet in data for word in tweet)  # set created from nested comprehension "
   ]
  },
  {
   "cell_type": "code",
   "execution_count": 96,
   "metadata": {},
   "outputs": [],
   "source": [
    "# use one hot encoding since our target is categorical\n",
    "y_train_d = pd.get_dummies(y_train).values\n",
    "\n",
    "# use keras to create a Tokenizer object\n",
    "tokenizer = text.Tokenizer(num_words=20000)  # limit to the num_words most important ones\n",
    "\n",
    "tokenizer.fit_on_texts(list(X_train.tweet_text))\n",
    "\n",
    "\n",
    "tokenized_texts = tokenizer.texts_to_sequences(X_train.tweet_text)\n",
    "\n",
    "X_train_pad = sequence.pad_sequences(tokenized_texts, maxlen=100)\n",
    "\n",
    "# doing same for X_test\n",
    "X_test_pad = sequence.pad_sequences(tokenized_texts, maxlen=100)\n",
    "\n",
    "# X_train_pad = pad_sequences(X_train_pad, maxlen=140) # not sure if this is needed or not?"
   ]
  },
  {
   "cell_type": "code",
   "execution_count": 97,
   "metadata": {},
   "outputs": [],
   "source": [
    "# Running first Recurrent Neural Network Model. \n",
    "model = Sequential()\n",
    "\n",
    "embedding_size = 128\n",
    "model.add(Embedding(len(total_vocabulary), embedding_size))\n",
    "model.add(LSTM(25, return_sequences=True))\n",
    "model.add(GlobalMaxPool1D())\n",
    "model.add(Dense(50, activation='relu'))\n",
    "model.add(Dense(50, activation='relu'))\n",
    "model.add(Dense(6, activation='softmax'))  # use 4 because we have 4 categories"
   ]
  },
  {
   "cell_type": "code",
   "execution_count": 98,
   "metadata": {},
   "outputs": [
    {
     "name": "stdout",
     "output_type": "stream",
     "text": [
      "Model: \"sequential_2\"\n",
      "_________________________________________________________________\n",
      "Layer (type)                 Output Shape              Param #   \n",
      "=================================================================\n",
      "embedding_2 (Embedding)      (None, None, 128)         6456192   \n",
      "_________________________________________________________________\n",
      "lstm_2 (LSTM)                (None, None, 25)          15400     \n",
      "_________________________________________________________________\n",
      "global_max_pooling1d_2 (Glob (None, 25)                0         \n",
      "_________________________________________________________________\n",
      "dense_6 (Dense)              (None, 50)                1300      \n",
      "_________________________________________________________________\n",
      "dense_7 (Dense)              (None, 50)                2550      \n",
      "_________________________________________________________________\n",
      "dense_8 (Dense)              (None, 6)                 306       \n",
      "=================================================================\n",
      "Total params: 6,475,748\n",
      "Trainable params: 6,475,748\n",
      "Non-trainable params: 0\n",
      "_________________________________________________________________\n"
     ]
    }
   ],
   "source": [
    "model.compile(loss='categorical_crossentropy', \n",
    "              optimizer='adam', \n",
    "              metrics=['accuracy'])\n",
    "model.summary() # check the shape="
   ]
  },
  {
   "cell_type": "code",
   "execution_count": 99,
   "metadata": {},
   "outputs": [
    {
     "name": "stdout",
     "output_type": "stream",
     "text": [
      "Epoch 1/5\n",
      "1006/1006 [==============================] - 73s 73ms/step - loss: 0.5479 - accuracy: 0.7763 - val_loss: 0.3974 - val_accuracy: 0.8323\n",
      "Epoch 2/5\n",
      "1006/1006 [==============================] - 76s 75ms/step - loss: 0.3065 - accuracy: 0.8739 - val_loss: 0.3986 - val_accuracy: 0.8376\n",
      "Epoch 3/5\n",
      "1006/1006 [==============================] - 233s 231ms/step - loss: 0.2154 - accuracy: 0.9119 - val_loss: 0.4631 - val_accuracy: 0.8314\n",
      "Epoch 4/5\n",
      "1006/1006 [==============================] - 77s 76ms/step - loss: 0.1592 - accuracy: 0.9328 - val_loss: 0.5435 - val_accuracy: 0.8230\n",
      "Epoch 5/5\n",
      "1006/1006 [==============================] - 72s 72ms/step - loss: 0.1257 - accuracy: 0.9437 - val_loss: 0.6496 - val_accuracy: 0.8242\n"
     ]
    },
    {
     "data": {
      "text/plain": [
       "<tensorflow.python.keras.callbacks.History at 0x12a939190>"
      ]
     },
     "execution_count": 99,
     "metadata": {},
     "output_type": "execute_result"
    }
   ],
   "source": [
    "model.fit(X_train_pad, y_train_d, epochs=5, batch_size=32, validation_split=0.1)"
   ]
  },
  {
   "cell_type": "code",
   "execution_count": 100,
   "metadata": {},
   "outputs": [],
   "source": [
    "# FIRST NEURAL NETWORK MODEL. \n",
    "\n",
    "model = Sequential()\n",
    "\n",
    "embedding_size = 128\n",
    "model.add(Embedding(len(total_vocabulary), embedding_size))\n",
    "model.add(LSTM(25, return_sequences=True))\n",
    "model.add(GlobalMaxPool1D())\n",
    "model.add(Dropout(0.5)) # can work without this layer\n",
    "model.add(Dense(50, activation='relu'))\n",
    "model.add(Dropout(0.5))\n",
    "model.add(Dense(50, activation='relu'))\n",
    "model.add(Dropout(0.5))\n",
    "model.add(Dense(6, activation='softmax'))  # use 4 because we have 4 categories"
   ]
  },
  {
   "cell_type": "code",
   "execution_count": 101,
   "metadata": {},
   "outputs": [
    {
     "name": "stdout",
     "output_type": "stream",
     "text": [
      "Model: \"sequential_3\"\n",
      "_________________________________________________________________\n",
      "Layer (type)                 Output Shape              Param #   \n",
      "=================================================================\n",
      "embedding_3 (Embedding)      (None, None, 128)         6456192   \n",
      "_________________________________________________________________\n",
      "lstm_3 (LSTM)                (None, None, 25)          15400     \n",
      "_________________________________________________________________\n",
      "global_max_pooling1d_3 (Glob (None, 25)                0         \n",
      "_________________________________________________________________\n",
      "dropout_3 (Dropout)          (None, 25)                0         \n",
      "_________________________________________________________________\n",
      "dense_9 (Dense)              (None, 50)                1300      \n",
      "_________________________________________________________________\n",
      "dropout_4 (Dropout)          (None, 50)                0         \n",
      "_________________________________________________________________\n",
      "dense_10 (Dense)             (None, 50)                2550      \n",
      "_________________________________________________________________\n",
      "dropout_5 (Dropout)          (None, 50)                0         \n",
      "_________________________________________________________________\n",
      "dense_11 (Dense)             (None, 6)                 306       \n",
      "=================================================================\n",
      "Total params: 6,475,748\n",
      "Trainable params: 6,475,748\n",
      "Non-trainable params: 0\n",
      "_________________________________________________________________\n"
     ]
    }
   ],
   "source": [
    "model.compile(loss='categorical_crossentropy', \n",
    "              optimizer='adam', \n",
    "              metrics=['accuracy'])\n",
    "model.summary() # check the shape="
   ]
  },
  {
   "cell_type": "code",
   "execution_count": 102,
   "metadata": {},
   "outputs": [
    {
     "name": "stdout",
     "output_type": "stream",
     "text": [
      "Epoch 1/5\n",
      "1006/1006 [==============================] - 73s 72ms/step - loss: 0.9067 - accuracy: 0.6223 - val_loss: 0.4640 - val_accuracy: 0.7833\n",
      "Epoch 2/5\n",
      "1006/1006 [==============================] - 75s 75ms/step - loss: 0.5250 - accuracy: 0.7711 - val_loss: 0.4826 - val_accuracy: 0.7993\n",
      "Epoch 3/5\n",
      "1006/1006 [==============================] - 75s 74ms/step - loss: 0.4552 - accuracy: 0.7909 - val_loss: 0.4680 - val_accuracy: 0.8037\n",
      "Epoch 4/5\n",
      "1006/1006 [==============================] - 75s 74ms/step - loss: 0.4123 - accuracy: 0.8024 - val_loss: 0.5161 - val_accuracy: 0.7945\n",
      "Epoch 5/5\n",
      "1006/1006 [==============================] - 71s 71ms/step - loss: 0.3779 - accuracy: 0.8168 - val_loss: 0.5037 - val_accuracy: 0.7990\n"
     ]
    },
    {
     "data": {
      "text/plain": [
       "<tensorflow.python.keras.callbacks.History at 0x143afd430>"
      ]
     },
     "execution_count": 102,
     "metadata": {},
     "output_type": "execute_result"
    }
   ],
   "source": [
    "model.fit(X_train_pad, y_train_d, epochs=5, batch_size=32, validation_split=0.1)"
   ]
  },
  {
   "cell_type": "markdown",
   "metadata": {},
   "source": [
    "# Model Evaluation"
   ]
  },
  {
   "cell_type": "code",
   "execution_count": 103,
   "metadata": {},
   "outputs": [],
   "source": [
    "y_pred = model.predict_classes(X_test_pad)"
   ]
  },
  {
   "cell_type": "code",
   "execution_count": 104,
   "metadata": {},
   "outputs": [
    {
     "data": {
      "text/plain": [
       "array([3, 0, 1, ..., 5, 2, 1])"
      ]
     },
     "execution_count": 104,
     "metadata": {},
     "output_type": "execute_result"
    }
   ],
   "source": [
    "y_labels=np.argmax(y_train_d, axis=1)\n",
    "y_labels"
   ]
  },
  {
   "cell_type": "code",
   "execution_count": 124,
   "metadata": {},
   "outputs": [
    {
     "data": {
      "text/plain": [
       "<sklearn.metrics._plot.confusion_matrix.ConfusionMatrixDisplay at 0x1612584f0>"
      ]
     },
     "execution_count": 124,
     "metadata": {},
     "output_type": "execute_result"
    },
    {
     "data": {
      "image/png": "[encoded data removed]",
      "text/plain": [
       "<Figure size 432x432 with 2 Axes>"
      ]
     },
     "metadata": {
      "needs_background": "dark"
     },
     "output_type": "display_data"
    }
   ],
   "source": [
    "# Plotting a confusion matrix to observe accuracy between cyberbullying types\n",
    "\n",
    "cm = confusion_matrix(y_labels, y_pred)\n",
    "\n",
    "disp = ConfusionMatrixDisplay(confusion_matrix=cm, display_labels=['Age','Ethnicity','Gender','None','Other','Religion'])\n",
    "\n",
    "fig, ax = plt.subplots(figsize=(6,6))\n",
    "disp.plot(cmap=plt.cm.Greys, ax = ax)"
   ]
  },
  {
   "cell_type": "code",
   "execution_count": 128,
   "metadata": {},
   "outputs": [
    {
     "data": {
      "text/plain": [
       "0.3055187637969095"
      ]
     },
     "execution_count": 128,
     "metadata": {},
     "output_type": "execute_result"
    }
   ],
   "source": [
    "1384/ (64+19+224+4070+153)"
   ]
  },
  {
   "cell_type": "markdown",
   "metadata": {},
   "source": [
    "## Links\n",
    "\n",
    "https://medium.com/analytics-vidhya/nlp-tutorial-for-text-classification-in-python-8f19cd17b49e\n",
    "\n",
    "data - https://www.kaggle.com/datasets/andrewmvd/cyberbullying-classification\n",
    "\n",
    "https://www.ritchieng.com/machine-learning-multinomial-naive-bayes-vectorization/\n",
    "\n",
    "https://towardsdatascience.com/multi-class-text-classification-with-scikit-learn-12f1e60e0a9f\n",
    "\n",
    "looking at diff models - https://towardsdatascience.com/multi-class-text-classification-with-scikit-learn-12f1e60e0a9f\n",
    "\n"
   ]
  },
  {
   "cell_type": "code",
   "execution_count": null,
   "metadata": {},
   "outputs": [],
   "source": []
  }
 ],
 "metadata": {
  "kernelspec": {
   "display_name": "Python (learn-env)",
   "language": "python",
   "name": "learn-env"
  },
  "language_info": {
   "codemirror_mode": {
    "name": "ipython",
    "version": 3
   },
   "file_extension": ".py",
   "mimetype": "text/x-python",
   "name": "python",
   "nbconvert_exporter": "python",
   "pygments_lexer": "ipython3",
   "version": "3.8.5"
  }
 },
 "nbformat": 4,
 "nbformat_minor": 4
}
